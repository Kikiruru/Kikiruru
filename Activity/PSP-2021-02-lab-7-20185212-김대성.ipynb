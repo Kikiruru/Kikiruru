{
 "cells": [
  {
   "cell_type": "markdown",
   "metadata": {},
   "source": [
    "<h1 align='center'> 파이썬과학프로그래밍기초 실습 7</h1>\n",
    "\n",
    "<p style=\"text-align: right\"> 2021.11.15.</p>"
   ]
  },
  {
   "cell_type": "markdown",
   "metadata": {},
   "source": [
    "### <div class=\"alert alert-block alert-info\">\n",
    "    \n",
    "- 파일 이름에서 00000000을 자신의 학번으로, name을 자신의 이름으로 수정하세요.\n",
    "\n",
    "- 다음 줄에 자신의 이름, 학번, 학과(전공)을 적으세요.\n",
    "\n",
    "* 이름:   김대성&nbsp;&nbsp;          학번:    20185212&nbsp;&nbsp;         학과(전공):    스마트IoT\n",
    "    \n",
    "</div>\n",
    "\n",
    "- Jupyter notebook에 대한 설명은 [The Jupyter Notebook](https://jupyter-notebook.readthedocs.io/en/stable/)을  참고하라\n",
    "\n",
    "- Markdown은 [Markdown Guide](https://www.markdownguide.org/)를 참고하라.\n",
    "- [Markdown Cheat Sheet](https://www.markdownguide.org/cheat-sheet/)\n",
    "\n",
    "* 과제 제출: 11월 20일 (토) 오후 6:00까지 최종본 제출. \n"
   ]
  },
  {
   "cell_type": "markdown",
   "metadata": {},
   "source": [
    "#### 아래 셀에 다음 명령을 실행하라.\n",
    "\n",
    "```\n",
    "import numpy as np\n",
    "np.__version__\n",
    "```\n"
   ]
  },
  {
   "cell_type": "code",
   "execution_count": 3,
   "metadata": {},
   "outputs": [
    {
     "data": {
      "text/plain": [
       "'1.19.2'"
      ]
     },
     "execution_count": 3,
     "metadata": {},
     "output_type": "execute_result"
    }
   ],
   "source": [
    "import numpy as np\n",
    "np.__version__"
   ]
  },
  {
   "cell_type": "markdown",
   "metadata": {},
   "source": [
    "#### 예제 1.\n",
    "NumPy의 arange를 사용하여 다음 ndarray를 만들어라.\n",
    "\n",
    "```\n",
    "array([0, 1, 2, 3, 4, 5, 6, 7], dtype=int16)\n",
    "```"
   ]
  },
  {
   "cell_type": "code",
   "execution_count": 4,
   "metadata": {},
   "outputs": [
    {
     "data": {
      "text/plain": [
       "array([0, 1, 2, 3, 4, 5, 6, 7])"
      ]
     },
     "execution_count": 4,
     "metadata": {},
     "output_type": "execute_result"
    }
   ],
   "source": [
    "a = np.arange(8)\n",
    "a"
   ]
  },
  {
   "cell_type": "code",
   "execution_count": 5,
   "metadata": {},
   "outputs": [
    {
     "data": {
      "text/plain": [
       "dtype('int64')"
      ]
     },
     "execution_count": 5,
     "metadata": {},
     "output_type": "execute_result"
    }
   ],
   "source": [
    "a.dtype #int type"
   ]
  },
  {
   "cell_type": "code",
   "execution_count": 6,
   "metadata": {},
   "outputs": [
    {
     "data": {
      "text/plain": [
       "array([0, 1, 2, 3, 4, 5, 6, 7], dtype=int16)"
      ]
     },
     "execution_count": 6,
     "metadata": {},
     "output_type": "execute_result"
    }
   ],
   "source": [
    "a = np.arange(8, dtype = np.int16)\n",
    "a"
   ]
  },
  {
   "cell_type": "markdown",
   "metadata": {},
   "source": [
    "#### 예제 2.\n",
    "NumPy의 arange를 사용하여 다음 ndarray를 만들어라.\n",
    "\n",
    "```\n",
    "array([ 0,  2,  4,  6,  8, 10, 12, 14], dtype=int64)\n",
    "```"
   ]
  },
  {
   "cell_type": "code",
   "execution_count": 10,
   "metadata": {},
   "outputs": [
    {
     "data": {
      "text/plain": [
       "array([ 0,  2,  4,  6,  8, 10, 12, 14])"
      ]
     },
     "execution_count": 10,
     "metadata": {},
     "output_type": "execute_result"
    }
   ],
   "source": [
    "np.arange(0, 15, 2, dtype = np.int64)"
   ]
  },
  {
   "cell_type": "markdown",
   "metadata": {},
   "source": [
    "#### 예제 3.\n",
    "NumPy의 arange를 사용하여 다음 ndarray를 만들어라.\n",
    "\n",
    "```\n",
    "array([1. , 1.2, 1.4, 1.6, 1.8])\n",
    "```"
   ]
  },
  {
   "cell_type": "code",
   "execution_count": 11,
   "metadata": {},
   "outputs": [
    {
     "data": {
      "text/plain": [
       "array([1. , 1.2, 1.4, 1.6, 1.8])"
      ]
     },
     "execution_count": 11,
     "metadata": {},
     "output_type": "execute_result"
    }
   ],
   "source": [
    "np.arange(1, 1.9, 0.2)"
   ]
  },
  {
   "cell_type": "markdown",
   "metadata": {},
   "source": [
    "#### 예제 4.\n",
    "NumPy의 linspace를 사용하여 다음 ndarray를 만들어라.\n",
    "\n",
    "```\n",
    "array([ 0. ,  2.5,  5. ,  7.5, 10. ])\n",
    "```"
   ]
  },
  {
   "cell_type": "code",
   "execution_count": 12,
   "metadata": {},
   "outputs": [
    {
     "data": {
      "text/plain": [
       "array([ 0. ,  2.5,  5. ,  7.5, 10. ])"
      ]
     },
     "execution_count": 12,
     "metadata": {},
     "output_type": "execute_result"
    }
   ],
   "source": [
    "np.linspace(0, 10, 5) #sampling"
   ]
  },
  {
   "cell_type": "markdown",
   "metadata": {},
   "source": [
    "#### 예제 5.\n",
    "NumPy의 linspace를 사용하여 다음 ndarray를 만들어라.\n",
    "\n",
    "```\n",
    "array([ 1.  ,  3.25,  5.5 ,  7.75, 10.  ])\n",
    "```"
   ]
  },
  {
   "cell_type": "code",
   "execution_count": 13,
   "metadata": {},
   "outputs": [
    {
     "data": {
      "text/plain": [
       "array([ 1.  ,  3.25,  5.5 ,  7.75, 10.  ])"
      ]
     },
     "execution_count": 13,
     "metadata": {},
     "output_type": "execute_result"
    }
   ],
   "source": [
    "np.linspace(1, 10, 5)"
   ]
  },
  {
   "cell_type": "markdown",
   "metadata": {},
   "source": [
    "#### 예제 6.\n",
    "NumPy의 arange를 사용하여 다음 ndarray를 만들어라.\n",
    "\n",
    "```\n",
    "array([ 1.  ,  3.25,  5.5 ,  7.75, 10.  ])\n",
    "```"
   ]
  },
  {
   "cell_type": "code",
   "execution_count": 14,
   "metadata": {},
   "outputs": [
    {
     "data": {
      "text/plain": [
       "array([ 1.  ,  3.25,  5.5 ,  7.75, 10.  ])"
      ]
     },
     "execution_count": 14,
     "metadata": {},
     "output_type": "execute_result"
    }
   ],
   "source": [
    "np.arange(1, 11, 2.25)"
   ]
  },
  {
   "cell_type": "markdown",
   "metadata": {},
   "source": [
    "#### 예제 7.\n",
    "NumPy의 arange와 reshape을 사용하여 다음 ndarray를 만들어라.\n",
    "\n",
    "```\n",
    "array([[ 2,  4,  6,  8],\n",
    "       [10, 12, 14, 16],\n",
    "       [18, 20, 22, 24], dtype=int64)\n",
    "```"
   ]
  },
  {
   "cell_type": "code",
   "execution_count": 22,
   "metadata": {},
   "outputs": [
    {
     "data": {
      "text/plain": [
       "array([[ 2,  4,  6,  8],\n",
       "       [10, 12, 14, 16],\n",
       "       [18, 20, 22, 24]])"
      ]
     },
     "execution_count": 22,
     "metadata": {},
     "output_type": "execute_result"
    }
   ],
   "source": [
    "np.arange(2, 25, 2, dtype = np.int64).reshape(3, 4)"
   ]
  },
  {
   "cell_type": "code",
   "execution_count": 23,
   "metadata": {},
   "outputs": [
    {
     "data": {
      "text/plain": [
       "array([[ 2,  4,  6,  8, 10, 12],\n",
       "       [14, 16, 18, 20, 22, 24]])"
      ]
     },
     "execution_count": 23,
     "metadata": {},
     "output_type": "execute_result"
    }
   ],
   "source": [
    "np.arange(2, 25, 2, dtype = np.int64).reshape(3, 4).reshape(2, 6)"
   ]
  },
  {
   "cell_type": "code",
   "execution_count": 25,
   "metadata": {},
   "outputs": [
    {
     "data": {
      "text/plain": [
       "array([[[ 2,  4],\n",
       "        [ 6,  8]],\n",
       "\n",
       "       [[10, 12],\n",
       "        [14, 16]],\n",
       "\n",
       "       [[18, 20],\n",
       "        [22, 24]]])"
      ]
     },
     "execution_count": 25,
     "metadata": {},
     "output_type": "execute_result"
    }
   ],
   "source": [
    "np.arange(2, 25, 2, dtype = np.int64).reshape(3, 2,2) # reshape(2,6)"
   ]
  },
  {
   "cell_type": "code",
   "execution_count": 26,
   "metadata": {},
   "outputs": [
    {
     "data": {
      "text/plain": [
       "array([[ 2,  4,  6,  8, 10, 12],\n",
       "       [14, 16, 18, 20, 22, 24]])"
      ]
     },
     "execution_count": 26,
     "metadata": {},
     "output_type": "execute_result"
    }
   ],
   "source": [
    "np.arange(2, 25, 2, dtype = np.int64).reshape(2, 6)"
   ]
  },
  {
   "cell_type": "code",
   "execution_count": 27,
   "metadata": {},
   "outputs": [
    {
     "data": {
      "text/plain": [
       "array([[ 2,  4,  6,  8],\n",
       "       [10, 12, 14, 16],\n",
       "       [18, 20, 22, 24]])"
      ]
     },
     "execution_count": 27,
     "metadata": {},
     "output_type": "execute_result"
    }
   ],
   "source": [
    "np.arange(2, 25, 2, dtype = np.int64).reshape(3, -1)"
   ]
  },
  {
   "cell_type": "markdown",
   "metadata": {},
   "source": [
    "### 리스트와 차이점\n",
    "\n",
    "데이터 타입 지정가능 <br>\n",
    "지정된 타입만 데이터로 사용가능"
   ]
  },
  {
   "cell_type": "markdown",
   "metadata": {},
   "source": [
    "#### 예제 8.\n",
    "예제 7에서 만든 ndarray에서 4, 12, 20의 합 36을 출력하는 문장 2 개를 작성하라. (서로 다른 두 가지 방법으로 같은 결과를 출력하라)"
   ]
  },
  {
   "cell_type": "code",
   "execution_count": 7,
   "metadata": {},
   "outputs": [
    {
     "data": {
      "text/plain": [
       "array([[ 2,  4,  6,  8],\n",
       "       [10, 12, 14, 16],\n",
       "       [18, 20, 22, 24]])"
      ]
     },
     "execution_count": 7,
     "metadata": {},
     "output_type": "execute_result"
    }
   ],
   "source": [
    "a = np.arange(2, 25, 2, dtype = np.int64).reshape(3, 4)\n",
    "a"
   ]
  },
  {
   "cell_type": "code",
   "execution_count": 32,
   "metadata": {},
   "outputs": [
    {
     "data": {
      "text/plain": [
       "(3, 4)"
      ]
     },
     "execution_count": 32,
     "metadata": {},
     "output_type": "execute_result"
    }
   ],
   "source": [
    "a.shape"
   ]
  },
  {
   "cell_type": "code",
   "execution_count": 33,
   "metadata": {},
   "outputs": [
    {
     "data": {
      "text/plain": [
       "156"
      ]
     },
     "execution_count": 33,
     "metadata": {},
     "output_type": "execute_result"
    }
   ],
   "source": [
    "np.sum(a) #모든 원소 더함"
   ]
  },
  {
   "cell_type": "code",
   "execution_count": 34,
   "metadata": {},
   "outputs": [
    {
     "data": {
      "text/plain": [
       "array([30, 36, 42, 48])"
      ]
     },
     "execution_count": 34,
     "metadata": {},
     "output_type": "execute_result"
    }
   ],
   "source": [
    "np.sum(a, axis = 0) # 세로방향으로 더함"
   ]
  },
  {
   "cell_type": "code",
   "execution_count": 35,
   "metadata": {},
   "outputs": [
    {
     "data": {
      "text/plain": [
       "array([20, 52, 84])"
      ]
     },
     "execution_count": 35,
     "metadata": {},
     "output_type": "execute_result"
    }
   ],
   "source": [
    "np.sum(a, axis = 1) # 가로방향으로 더함"
   ]
  },
  {
   "cell_type": "code",
   "execution_count": 38,
   "metadata": {},
   "outputs": [
    {
     "data": {
      "text/plain": [
       "36"
      ]
     },
     "execution_count": 38,
     "metadata": {},
     "output_type": "execute_result"
    }
   ],
   "source": [
    "np.sum(a, axis = 0)[1]"
   ]
  },
  {
   "cell_type": "code",
   "execution_count": 41,
   "metadata": {},
   "outputs": [
    {
     "data": {
      "text/plain": [
       "36"
      ]
     },
     "execution_count": 41,
     "metadata": {},
     "output_type": "execute_result"
    }
   ],
   "source": [
    "np.sum(a, 0)[1]"
   ]
  },
  {
   "cell_type": "code",
   "execution_count": 49,
   "metadata": {},
   "outputs": [
    {
     "data": {
      "text/plain": [
       "36"
      ]
     },
     "execution_count": 49,
     "metadata": {},
     "output_type": "execute_result"
    }
   ],
   "source": [
    "a.sum(0)[1]"
   ]
  },
  {
   "cell_type": "code",
   "execution_count": 44,
   "metadata": {},
   "outputs": [
    {
     "data": {
      "text/plain": [
       "array([ 5., 13., 21.])"
      ]
     },
     "execution_count": 44,
     "metadata": {},
     "output_type": "execute_result"
    }
   ],
   "source": [
    "np.mean(a, axis = 1)"
   ]
  },
  {
   "cell_type": "markdown",
   "metadata": {},
   "source": [
    "#### 예제 9.\n",
    "예제 7에서 만든 ndarray에서 18, 20, 22, 24의 합 84를 출력하는 문장 3 개를 작성하라. (서로 다른 두 가지 방법으로 같은 결과를 출력하라)"
   ]
  },
  {
   "cell_type": "code",
   "execution_count": 9,
   "metadata": {},
   "outputs": [
    {
     "data": {
      "text/plain": [
       "84"
      ]
     },
     "execution_count": 9,
     "metadata": {},
     "output_type": "execute_result"
    }
   ],
   "source": [
    "np.sum(a, axis = 1)[2]"
   ]
  },
  {
   "cell_type": "code",
   "execution_count": 10,
   "metadata": {},
   "outputs": [
    {
     "data": {
      "text/plain": [
       "84"
      ]
     },
     "execution_count": 10,
     "metadata": {},
     "output_type": "execute_result"
    }
   ],
   "source": [
    "np.sum(a, 1)[2]"
   ]
  },
  {
   "cell_type": "code",
   "execution_count": 12,
   "metadata": {},
   "outputs": [
    {
     "data": {
      "text/plain": [
       "84"
      ]
     },
     "execution_count": 12,
     "metadata": {},
     "output_type": "execute_result"
    }
   ],
   "source": [
    "a.sum(1)[2]"
   ]
  },
  {
   "cell_type": "markdown",
   "metadata": {},
   "source": [
    "#### 예제 10.\n",
    "예제 7에서 만든 ndarray에서 2, 12, 22의 합 36을 출력하는 문장을 작성하라."
   ]
  },
  {
   "cell_type": "code",
   "execution_count": 13,
   "metadata": {},
   "outputs": [
    {
     "data": {
      "text/plain": [
       "array([[ 2,  4,  6,  8],\n",
       "       [10, 12, 14, 16],\n",
       "       [18, 20, 22, 24]])"
      ]
     },
     "execution_count": 13,
     "metadata": {},
     "output_type": "execute_result"
    }
   ],
   "source": [
    "a"
   ]
  },
  {
   "cell_type": "code",
   "execution_count": 14,
   "metadata": {},
   "outputs": [
    {
     "data": {
      "text/plain": [
       "36"
      ]
     },
     "execution_count": 14,
     "metadata": {},
     "output_type": "execute_result"
    }
   ],
   "source": [
    "a.diagonal(0).sum()"
   ]
  },
  {
   "cell_type": "code",
   "execution_count": 15,
   "metadata": {},
   "outputs": [
    {
     "data": {
      "text/plain": [
       "array([ 2, 12, 22])"
      ]
     },
     "execution_count": 15,
     "metadata": {},
     "output_type": "execute_result"
    }
   ],
   "source": [
    "np.diagonal(a)"
   ]
  },
  {
   "cell_type": "code",
   "execution_count": 20,
   "metadata": {},
   "outputs": [
    {
     "data": {
      "text/plain": [
       "array([ 2, 12, 22])"
      ]
     },
     "execution_count": 20,
     "metadata": {},
     "output_type": "execute_result"
    }
   ],
   "source": [
    "a[[0,1,2], [0,1,2]]"
   ]
  },
  {
   "cell_type": "markdown",
   "metadata": {},
   "source": [
    "#### 예제 11.\n",
    "예제 7에서 만든 ndarray에서 4, 14, 24의 합 42을 출력하는 문장을 작성하라."
   ]
  },
  {
   "cell_type": "code",
   "execution_count": 45,
   "metadata": {},
   "outputs": [
    {
     "data": {
      "text/plain": [
       "array([[ 2,  4,  6,  8],\n",
       "       [10, 12, 14, 16],\n",
       "       [18, 20, 22, 24]])"
      ]
     },
     "execution_count": 45,
     "metadata": {},
     "output_type": "execute_result"
    }
   ],
   "source": [
    "a"
   ]
  },
  {
   "cell_type": "code",
   "execution_count": 21,
   "metadata": {},
   "outputs": [
    {
     "data": {
      "text/plain": [
       "42"
      ]
     },
     "execution_count": 21,
     "metadata": {},
     "output_type": "execute_result"
    }
   ],
   "source": [
    "a.diagonal(1).sum()"
   ]
  },
  {
   "cell_type": "markdown",
   "metadata": {},
   "source": [
    "#### 예제 12.\n",
    "예제 7에서 만든 ndarray에서 10, 20의 합 30을 출력하는 문장을 작성하라."
   ]
  },
  {
   "cell_type": "code",
   "execution_count": 33,
   "metadata": {
    "scrolled": true
   },
   "outputs": [
    {
     "data": {
      "text/plain": [
       "array([[38, 44, 13,  9, 10],\n",
       "       [12,  6, 16,  1, 17],\n",
       "       [ 2, 13,  8, 46,  7]])"
      ]
     },
     "execution_count": 33,
     "metadata": {},
     "output_type": "execute_result"
    }
   ],
   "source": [
    "a"
   ]
  },
  {
   "cell_type": "code",
   "execution_count": 23,
   "metadata": {},
   "outputs": [
    {
     "data": {
      "text/plain": [
       "30"
      ]
     },
     "execution_count": 23,
     "metadata": {},
     "output_type": "execute_result"
    }
   ],
   "source": [
    "a.diagonal(-1).sum()"
   ]
  },
  {
   "cell_type": "markdown",
   "metadata": {},
   "source": [
    "#### 예제 13. 축 방향으로 함수 적용하기 \n",
    "```\n",
    "apply_along_axis(func1d, axis, arr, *args, **kwargs)\n",
    "```\n"
   ]
  },
  {
   "cell_type": "code",
   "execution_count": 26,
   "metadata": {
    "scrolled": false
   },
   "outputs": [
    {
     "name": "stdout",
     "output_type": "stream",
     "text": [
      "[[38 44 13  9 10]\n",
      " [12  6 16  1 17]\n",
      " [ 2 13  8 46  7]]\n"
     ]
    }
   ],
   "source": [
    "np.random.seed(1)\n",
    "a = np.random.randint(1, 50, (3,5))\n",
    "print(a)"
   ]
  },
  {
   "cell_type": "code",
   "execution_count": 27,
   "metadata": {},
   "outputs": [
    {
     "data": {
      "text/plain": [
       "(3, 5)"
      ]
     },
     "execution_count": 27,
     "metadata": {},
     "output_type": "execute_result"
    }
   ],
   "source": [
    "a.shape"
   ]
  },
  {
   "cell_type": "markdown",
   "metadata": {},
   "source": [
    "##### 13.1 축 방향으로 정렬하기"
   ]
  },
  {
   "cell_type": "code",
   "execution_count": 36,
   "metadata": {
    "scrolled": true
   },
   "outputs": [
    {
     "name": "stdout",
     "output_type": "stream",
     "text": [
      "[[38 44 13  9 10]\n",
      " [12  6 16  1 17]\n",
      " [ 2 13  8 46  7]]\n"
     ]
    }
   ],
   "source": [
    "np.random.seed(1)\n",
    "a = np.random.randint(1, 50, (3,5))\n",
    "print(a)"
   ]
  },
  {
   "cell_type": "code",
   "execution_count": 32,
   "metadata": {},
   "outputs": [
    {
     "data": {
      "text/plain": [
       "(3, 5)"
      ]
     },
     "execution_count": 32,
     "metadata": {},
     "output_type": "execute_result"
    }
   ],
   "source": [
    "a.shape"
   ]
  },
  {
   "cell_type": "code",
   "execution_count": 33,
   "metadata": {},
   "outputs": [
    {
     "data": {
      "text/plain": [
       "array([[ 9, 10, 13, 38, 44],\n",
       "       [ 1,  6, 12, 16, 17],\n",
       "       [ 2,  7,  8, 13, 46]])"
      ]
     },
     "execution_count": 33,
     "metadata": {},
     "output_type": "execute_result"
    }
   ],
   "source": [
    "a.sort()\n",
    "a"
   ]
  },
  {
   "cell_type": "code",
   "execution_count": 34,
   "metadata": {},
   "outputs": [
    {
     "data": {
      "text/plain": [
       "array([[ 9, 10, 13, 38, 44],\n",
       "       [ 1,  6, 12, 16, 17],\n",
       "       [ 2,  7,  8, 13, 46]])"
      ]
     },
     "execution_count": 34,
     "metadata": {},
     "output_type": "execute_result"
    }
   ],
   "source": [
    "a.sort(-1)\n",
    "a"
   ]
  },
  {
   "cell_type": "code",
   "execution_count": 37,
   "metadata": {},
   "outputs": [
    {
     "data": {
      "text/plain": [
       "array([[ 9, 10, 13, 38, 44],\n",
       "       [ 1,  6, 12, 16, 17],\n",
       "       [ 2,  7,  8, 13, 46]])"
      ]
     },
     "execution_count": 37,
     "metadata": {},
     "output_type": "execute_result"
    }
   ],
   "source": [
    "a.sort(1)\n",
    "a"
   ]
  },
  {
   "cell_type": "markdown",
   "metadata": {},
   "source": [
    "##### 13.2 축 방향으로 사용자 정의 함수 적용하기"
   ]
  },
  {
   "cell_type": "code",
   "execution_count": 36,
   "metadata": {},
   "outputs": [
    {
     "data": {
      "text/plain": [
       "array([[ 1,  6,  8, 13, 17],\n",
       "       [ 2,  7, 12, 16, 44],\n",
       "       [ 9, 10, 13, 38, 46]])"
      ]
     },
     "execution_count": 36,
     "metadata": {},
     "output_type": "execute_result"
    }
   ],
   "source": [
    "f = lambda x, y: x**y + 1\n",
    "np.apply_along_axis(sorted, 0, a)"
   ]
  },
  {
   "cell_type": "code",
   "execution_count": 38,
   "metadata": {},
   "outputs": [
    {
     "data": {
      "text/plain": [
       "array([[  82,  101,  170, 1445, 1937],\n",
       "       [   2,   37,  145,  257,  290],\n",
       "       [   5,   50,   65,  170, 2117]])"
      ]
     },
     "execution_count": 38,
     "metadata": {},
     "output_type": "execute_result"
    }
   ],
   "source": [
    "f = lambda x, y: x**y + 1\n",
    "np.apply_along_axis(f, 0, a, 2)"
   ]
  },
  {
   "cell_type": "code",
   "execution_count": 39,
   "metadata": {},
   "outputs": [
    {
     "data": {
      "text/plain": [
       "array([[  82,  101,  170, 1445, 1937],\n",
       "       [   2,   37,  145,  257,  290],\n",
       "       [   5,   50,   65,  170, 2117]])"
      ]
     },
     "execution_count": 39,
     "metadata": {},
     "output_type": "execute_result"
    }
   ],
   "source": [
    "a**2 + 1"
   ]
  },
  {
   "cell_type": "code",
   "execution_count": 40,
   "metadata": {},
   "outputs": [
    {
     "name": "stdout",
     "output_type": "stream",
     "text": [
      "[[ 9 10 13 38 44]\n",
      " [ 1  6 12 16 17]\n",
      " [ 2  7  8 13 46]]\n",
      "[[ 9 10 13 38 44]\n",
      " [ 1  6 12 16 17]\n",
      " [ 2  7  8 13 46]]\n",
      "[9 1 2]\n"
     ]
    }
   ],
   "source": [
    "print(a)\n",
    "min_a = np.apply_along_axis(min, 1, a)\n",
    "print(a)\n",
    "print(min_a)"
   ]
  },
  {
   "cell_type": "code",
   "execution_count": 41,
   "metadata": {},
   "outputs": [
    {
     "data": {
      "text/plain": [
       "array([9, 1, 2])"
      ]
     },
     "execution_count": 41,
     "metadata": {},
     "output_type": "execute_result"
    }
   ],
   "source": [
    "np.min(a, 1)\n"
   ]
  },
  {
   "cell_type": "code",
   "execution_count": 46,
   "metadata": {},
   "outputs": [],
   "source": [
    "def is_odd(n):\n",
    "    if n % 2:\n",
    "        return True\n",
    "    else:\n",
    "        return False"
   ]
  },
  {
   "cell_type": "code",
   "execution_count": 47,
   "metadata": {},
   "outputs": [
    {
     "data": {
      "text/plain": [
       "False"
      ]
     },
     "execution_count": 47,
     "metadata": {},
     "output_type": "execute_result"
    }
   ],
   "source": [
    "is_odd(4)"
   ]
  },
  {
   "cell_type": "code",
   "execution_count": 34,
   "metadata": {},
   "outputs": [],
   "source": [
    "@np.vectorize\n",
    "def is_odd(n):\n",
    "    if n % 2:\n",
    "        return True\n",
    "    else:\n",
    "        return False"
   ]
  },
  {
   "cell_type": "code",
   "execution_count": 49,
   "metadata": {},
   "outputs": [
    {
     "data": {
      "text/plain": [
       "array(False)"
      ]
     },
     "execution_count": 49,
     "metadata": {},
     "output_type": "execute_result"
    }
   ],
   "source": [
    "is_odd(4)"
   ]
  },
  {
   "cell_type": "code",
   "execution_count": 38,
   "metadata": {},
   "outputs": [
    {
     "name": "stdout",
     "output_type": "stream",
     "text": [
      "[[ 9 10 13 38 44]\n",
      " [ 1  6 12 16 17]\n",
      " [ 2  7  8 13 46]]\n",
      "[[ 9 10 13 38 44]\n",
      " [ 1  6 12 16 17]\n",
      " [ 2  7  8 13 46]]\n",
      "[[ True False  True False False]\n",
      " [ True False False False  True]\n",
      " [False  True False  True False]]\n"
     ]
    }
   ],
   "source": [
    "print(a)\n",
    "b = np.apply_along_axis(is_odd, 1, a)\n",
    "print(a)\n",
    "print(b)"
   ]
  },
  {
   "cell_type": "code",
   "execution_count": 39,
   "metadata": {},
   "outputs": [
    {
     "name": "stdout",
     "output_type": "stream",
     "text": [
      "[[ True False  True False False]\n",
      " [ True False False False  True]\n",
      " [False  True False  True False]]\n"
     ]
    }
   ],
   "source": [
    "c = np.apply_along_axis(is_odd, 0, a)\n",
    "print(c)"
   ]
  },
  {
   "cell_type": "code",
   "execution_count": 43,
   "metadata": {},
   "outputs": [],
   "source": [
    "def normalize(x): \n",
    "    return (x - x.min()) / (x.max() - x.min())"
   ]
  },
  {
   "cell_type": "code",
   "execution_count": 44,
   "metadata": {},
   "outputs": [
    {
     "name": "stdout",
     "output_type": "stream",
     "text": [
      "[[ 9 10 13 38 44]\n",
      " [ 1  6 12 16 17]\n",
      " [ 2  7  8 13 46]]\n"
     ]
    },
    {
     "data": {
      "text/plain": [
       "array([[1.        , 1.        , 1.        , 1.        , 0.93103448],\n",
       "       [0.        , 0.        , 0.8       , 0.12      , 0.        ],\n",
       "       [0.125     , 0.25      , 0.        , 0.        , 1.        ]])"
      ]
     },
     "execution_count": 44,
     "metadata": {},
     "output_type": "execute_result"
    }
   ],
   "source": [
    "print(a)\n",
    "np.apply_along_axis(normalize, 0, a)"
   ]
  },
  {
   "cell_type": "code",
   "execution_count": 53,
   "metadata": {},
   "outputs": [
    {
     "name": "stdout",
     "output_type": "stream",
     "text": [
      "[[ 9 10 13 38 44]\n",
      " [ 1  6 12 16 17]\n",
      " [ 2  7  8 13 46]]\n"
     ]
    },
    {
     "data": {
      "text/plain": [
       "array([[0.        , 0.02857143, 0.11428571, 0.82857143, 1.        ],\n",
       "       [0.        , 0.3125    , 0.6875    , 0.9375    , 1.        ],\n",
       "       [0.        , 0.11363636, 0.13636364, 0.25      , 1.        ]])"
      ]
     },
     "execution_count": 53,
     "metadata": {},
     "output_type": "execute_result"
    }
   ],
   "source": [
    "print(a)\n",
    "np.apply_along_axis(normalize, 1, a)"
   ]
  },
  {
   "cell_type": "code",
   "execution_count": 54,
   "metadata": {},
   "outputs": [
    {
     "data": {
      "text/plain": [
       "array([ 5.5,  8.5, 10.5, 25.5, 45. ])"
      ]
     },
     "execution_count": 54,
     "metadata": {},
     "output_type": "execute_result"
    }
   ],
   "source": [
    "(a[0, :] + a[-1, :])*0.5"
   ]
  },
  {
   "cell_type": "code",
   "execution_count": 55,
   "metadata": {},
   "outputs": [
    {
     "data": {
      "text/plain": [
       "14"
      ]
     },
     "execution_count": 55,
     "metadata": {},
     "output_type": "execute_result"
    }
   ],
   "source": [
    "np.argmax(a)"
   ]
  },
  {
   "cell_type": "code",
   "execution_count": 56,
   "metadata": {},
   "outputs": [
    {
     "name": "stdout",
     "output_type": "stream",
     "text": [
      "[[ 9 10 13 38 44]\n",
      " [ 1  6 12 16 17]\n",
      " [ 2  7  8 13 46]]\n"
     ]
    },
    {
     "data": {
      "text/plain": [
       "array([0, 0, 0, 0, 2])"
      ]
     },
     "execution_count": 56,
     "metadata": {},
     "output_type": "execute_result"
    }
   ],
   "source": [
    "print(a)\n",
    "np.argmax(a, 0)"
   ]
  },
  {
   "cell_type": "code",
   "execution_count": 57,
   "metadata": {},
   "outputs": [
    {
     "name": "stdout",
     "output_type": "stream",
     "text": [
      "[[ 9 10 13 38 44]\n",
      " [ 1  6 12 16 17]\n",
      " [ 2  7  8 13 46]]\n"
     ]
    },
    {
     "data": {
      "text/plain": [
       "array([4, 4, 4])"
      ]
     },
     "execution_count": 57,
     "metadata": {},
     "output_type": "execute_result"
    }
   ],
   "source": [
    "print(a)\n",
    "np.argmax(a, 1)"
   ]
  },
  {
   "cell_type": "markdown",
   "metadata": {},
   "source": [
    "#### 예제 14. \n",
    "'fake_student_records.csv' 파일은 가상의 학생들의 시험 성적을 기록한 파일이다.\n",
    "아래 프로그램은 이 파일의 한 줄을 딕셔너리로 변환하여 콘솔에 출력하는 프로그램이다.\n",
    "```\n",
    "import csv\n",
    "with open('fake_student_records.csv', mode='r', encoding='utf-8') as csv_file:\n",
    "    csv_reader = csv.DictReader(csv_file)\n",
    "    for row in csv_reader:\n",
    "        print(row)\n",
    "```\n",
    "이 프로그램을 응용하여 학생들이 6 번 치룬 시험 결과를 2차원 numpy array로 변환한 후에 각 시험의 평균을 소숫점 첫째자리까지 콘솔에 출력하라.\n",
    "\n",
    "정답은 다음과 같다.\n",
    "```\n",
    "[76.4 75.9 75.7 72.1 72.4 76.8]\n",
    "```"
   ]
  },
  {
   "cell_type": "code",
   "execution_count": 53,
   "metadata": {},
   "outputs": [
    {
     "name": "stdout",
     "output_type": "stream",
     "text": [
      "{'이름': '조준혁', '학번': '20257329', '소속': '일본학과', '학년': '3', '시험1': '61', '시험2': '69', '시험3': '46', '시험4': '79', '시험5': '57', '시험6': '77'}\n",
      "{'이름': '이중석', '학번': '20287434', '소속': '심리학과', '학년': '2', '시험1': '83', '시험2': '55', '시험3': '76', '시험4': '62', '시험5': '62', '시험6': '64'}\n",
      "{'이름': '정은영', '학번': '20297500', '소속': '경제학과', '학년': '2', '시험1': '57', '시험2': '61', '시험3': '61', '시험4': '72', '시험5': '98', '시험6': '84'}\n",
      "{'이름': '조동욱', '학번': '20277510', '소속': '경제학과', '학년': '3', '시험1': '52', '시험2': '77', '시험3': '87', '시험4': '96', '시험5': '72', '시험6': '63'}\n",
      "{'이름': '김승헌', '학번': '20317424', '소속': '경영학과', '학년': '3', '시험1': '83', '시험2': '90', '시험3': '93', '시험4': '71', '시험5': '89', '시험6': '92'}\n",
      "{'이름': '정궁윤', '학번': '20299281', '소속': '생명과학과', '학년': '3', '시험1': '96', '시험2': '72', '시험3': '94', '시험4': '52', '시험5': '76', '시험6': '84'}\n",
      "{'이름': '김민훈', '학번': '20317448', '소속': '의과학융합전공', '학년': '3', '시험1': '77', '시험2': '60', '시험3': '73', '시험4': '87', '시험5': '56', '시험6': '88'}\n",
      "{'이름': '김동우', '학번': '20267372', '소속': '소프트웨어융합대학', '학년': '1', '시험1': '58', '시험2': '47', '시험3': '92', '시험4': '61', '시험5': '49', '시험6': '70'}\n",
      "{'이름': '김동석', '학번': '20277452', '소속': '소프트웨어융합대학', '학년': '1', '시험1': '97', '시험2': '82', '시험3': '77', '시험4': '58', '시험5': '95', '시험6': '55'}\n",
      "{'이름': '윤궁기', '학번': '20267389', '소속': '소프트웨어융합대학', '학년': '1', '시험1': '43', '시험2': '67', '시험3': '63', '시험4': '90', '시험5': '44', '시험6': '85'}\n",
      "{'이름': '류준은', '학번': '20327362', '소속': '소프트웨어융합대학', '학년': '1', '시험1': '97', '시험2': '84', '시험3': '85', '시험4': '54', '시험5': '50', '시험6': '97'}\n",
      "{'이름': '김원하', '학번': '20277501', '소속': '소프트웨어융합대학', '학년': '1', '시험1': '88', '시험2': '58', '시험3': '75', '시험4': '65', '시험5': '81', '시험6': '61'}\n",
      "{'이름': '홍현주', '학번': '20297449', '소속': '소프트웨어융합대학', '학년': '1', '시험1': '71', '시험2': '99', '시험3': '99', '시험4': '59', '시험5': '87', '시험6': '97'}\n",
      "{'이름': '장강훈', '학번': '20277483', '소속': '소프트웨어융합대학', '학년': '1', '시험1': '100', '시험2': '74', '시험3': '56', '시험4': '57', '시험5': '67', '시험6': '63'}\n",
      "{'이름': '정수영', '학번': '20287395', '소속': '빅데이터전공', '학년': '2', '시험1': '66', '시험2': '93', '시험3': '55', '시험4': '81', '시험5': '99', '시험6': '88'}\n",
      "{'이름': '송준진', '학번': '20287486', '소속': '스마트IoT전공', '학년': '2', '시험1': '97', '시험2': '97', '시험3': '60', '시험4': '92', '시험5': '45', '시험6': '91'}\n",
      "{'이름': '이수진', '학번': '20267437', '소속': '빅데이터전공', '학년': '2', '시험1': '64', '시험2': '71', '시험3': '78', '시험4': '82', '시험5': '61', '시험6': '99'}\n",
      "{'이름': '홍동욱', '학번': '20307389', '소속': '스마트IoT전공', '학년': '2', '시험1': '77', '시험2': '57', '시험3': '65', '시험4': '59', '시험5': '55', '시험6': '74'}\n",
      "{'이름': '김찬훈', '학번': '20308899', '소속': '콘텐츠IT전공', '학년': '2', '시험1': '99', '시험2': '60', '시험3': '59', '시험4': '50', '시험5': '75', '시험6': '89'}\n",
      "{'이름': '장궁우', '학번': '20307450', '소속': '스마트IoT전공', '학년': '2', '시험1': '90', '시험2': '76', '시험3': '90', '시험4': '87', '시험5': '91', '시험6': '72'}\n",
      "{'이름': '정여우', '학번': '20327396', '소속': '스마트IoT전공', '학년': '2', '시험1': '54', '시험2': '74', '시험3': '55', '시험4': '99', '시험5': '100', '시험6': '89'}\n",
      "{'이름': '강준은', '학번': '20327404', '소속': '빅데이터전공', '학년': '2', '시험1': '83', '시험2': '87', '시험3': '57', '시험4': '85', '시험5': '73', '시험6': '65'}\n",
      "{'이름': '홍성윤', '학번': '20257438', '소속': '빅데이터전공', '학년': '2', '시험1': '99', '시험2': '64', '시험3': '83', '시험4': '77', '시험5': '60', '시험6': '93'}\n",
      "{'이름': '강아윤', '학번': '20305027', '소속': '빅데이터전공', '학년': '3', '시험1': '96', '시험2': '96', '시험3': '73', '시험4': '78', '시험5': '92', '시험6': '99'}\n",
      "{'이름': '조지훈', '학번': '20267539', '소속': '빅데이터전공', '학년': '3', '시험1': '80', '시험2': '93', '시험3': '53', '시험4': '73', '시험5': '58', '시험6': '72'}\n",
      "{'이름': '이현영', '학번': '20257359', '소속': '스마트IoT전공', '학년': '3', '시험1': '54', '시험2': '61', '시험3': '52', '시험4': '65', '시험5': '79', '시험6': '69'}\n",
      "{'이름': '안승완', '학번': '20317479', '소속': '빅데이터전공', '학년': '3', '시험1': '41', '시험2': '86', '시험3': '91', '시험4': '78', '시험5': '70', '시험6': '60'}\n",
      "{'이름': '이민주', '학번': '20297567', '소속': '콘텐츠IT전공', '학년': '3', '시험1': '68', '시험2': '99', '시험3': '68', '시험4': '74', '시험5': '94', '시험6': '44'}\n",
      "{'이름': '남소원', '학번': '20295809', '소속': '빅데이터전공', '학년': '3', '시험1': '98', '시험2': '87', '시험3': '91', '시험4': '51', '시험5': '65', '시험6': '62'}\n",
      "{'이름': '임수은', '학번': '20277497', '소속': '콘텐츠IT전공', '학년': '3', '시험1': '97', '시험2': '62', '시험3': '62', '시험4': '61', '시험5': '57', '시험6': '72'}\n",
      "{'이름': '함여성', '학번': '20255757', '소속': '빅데이터전공', '학년': '3', '시험1': '69', '시험2': '60', '시험3': '53', '시험4': '68', '시험5': '74', '시험6': '79'}\n",
      "{'이름': '윤준찬', '학번': '20297398', '소속': '빅데이터전공', '학년': '3', '시험1': '93', '시험2': '96', '시험3': '99', '시험4': '64', '시험5': '88', '시험6': '59'}\n",
      "{'이름': '박현윤', '학번': '20277435', '소속': '빅데이터전공', '학년': '3', '시험1': '67', '시험2': '89', '시험3': '81', '시험4': '80', '시험5': '100', '시험6': '78'}\n",
      "{'이름': '김수진', '학번': '20317328', '소속': 'ICT융합전공', '학년': '3', '시험1': '89', '시험2': '71', '시험3': '96', '시험4': '63', '시험5': '60', '시험6': '89'}\n",
      "{'이름': '지영범', '학번': '20275082', '소속': '컴퓨터공학과', '학년': '2', '시험1': '80', '시험2': '65', '시험3': '89', '시험4': '88', '시험5': '66', '시험6': '70'}\n",
      "{'이름': '황민훈', '학번': '20279379', '소속': '전자공학과', '학년': '2', '시험1': '78', '시험2': '83', '시험3': '100', '시험4': '69', '시험5': '54', '시험6': '56'}\n",
      "{'이름': '안동범', '학번': '20287476', '소속': '전자공학과', '학년': '3', '시험1': '50', '시험2': '63', '시험3': '91', '시험4': '72', '시험5': '59', '시험6': '99'}\n",
      "{'이름': '함재윤', '학번': '20269404', '소속': '전자공학과', '학년': '4', '시험1': '50', '시험2': '100', '시험3': '98', '시험4': '79', '시험5': '95', '시험6': '70'}\n"
     ]
    }
   ],
   "source": [
    "import csv\n",
    "with open('fake_student_records.csv', mode='r', encoding='utf-8') as csv_file:\n",
    "    csv_reader = csv.DictReader(csv_file)\n",
    "    scores = []\n",
    "    exams = ('시험1', '시험2', '시험3', '시험4', '시험5', '시험6')\n",
    "    for row in csv_reader:\n",
    "        scores.append([int(row[e]) for e in exams])\n",
    "        print(row)"
   ]
  },
  {
   "cell_type": "code",
   "execution_count": 54,
   "metadata": {},
   "outputs": [
    {
     "data": {
      "text/plain": [
       "[[61, 69, 46, 79, 57, 77],\n",
       " [83, 55, 76, 62, 62, 64],\n",
       " [57, 61, 61, 72, 98, 84],\n",
       " [52, 77, 87, 96, 72, 63],\n",
       " [83, 90, 93, 71, 89, 92],\n",
       " [96, 72, 94, 52, 76, 84],\n",
       " [77, 60, 73, 87, 56, 88],\n",
       " [58, 47, 92, 61, 49, 70],\n",
       " [97, 82, 77, 58, 95, 55],\n",
       " [43, 67, 63, 90, 44, 85],\n",
       " [97, 84, 85, 54, 50, 97],\n",
       " [88, 58, 75, 65, 81, 61],\n",
       " [71, 99, 99, 59, 87, 97],\n",
       " [100, 74, 56, 57, 67, 63],\n",
       " [66, 93, 55, 81, 99, 88],\n",
       " [97, 97, 60, 92, 45, 91],\n",
       " [64, 71, 78, 82, 61, 99],\n",
       " [77, 57, 65, 59, 55, 74],\n",
       " [99, 60, 59, 50, 75, 89],\n",
       " [90, 76, 90, 87, 91, 72],\n",
       " [54, 74, 55, 99, 100, 89],\n",
       " [83, 87, 57, 85, 73, 65],\n",
       " [99, 64, 83, 77, 60, 93],\n",
       " [96, 96, 73, 78, 92, 99],\n",
       " [80, 93, 53, 73, 58, 72],\n",
       " [54, 61, 52, 65, 79, 69],\n",
       " [41, 86, 91, 78, 70, 60],\n",
       " [68, 99, 68, 74, 94, 44],\n",
       " [98, 87, 91, 51, 65, 62],\n",
       " [97, 62, 62, 61, 57, 72],\n",
       " [69, 60, 53, 68, 74, 79],\n",
       " [93, 96, 99, 64, 88, 59],\n",
       " [67, 89, 81, 80, 100, 78],\n",
       " [89, 71, 96, 63, 60, 89],\n",
       " [80, 65, 89, 88, 66, 70],\n",
       " [78, 83, 100, 69, 54, 56],\n",
       " [50, 63, 91, 72, 59, 99],\n",
       " [50, 100, 98, 79, 95, 70]]"
      ]
     },
     "execution_count": 54,
     "metadata": {},
     "output_type": "execute_result"
    }
   ],
   "source": [
    "scores"
   ]
  },
  {
   "cell_type": "code",
   "execution_count": 55,
   "metadata": {},
   "outputs": [
    {
     "data": {
      "text/plain": [
       "array([[ 61,  69,  46,  79,  57,  77],\n",
       "       [ 83,  55,  76,  62,  62,  64],\n",
       "       [ 57,  61,  61,  72,  98,  84],\n",
       "       [ 52,  77,  87,  96,  72,  63],\n",
       "       [ 83,  90,  93,  71,  89,  92],\n",
       "       [ 96,  72,  94,  52,  76,  84],\n",
       "       [ 77,  60,  73,  87,  56,  88],\n",
       "       [ 58,  47,  92,  61,  49,  70],\n",
       "       [ 97,  82,  77,  58,  95,  55],\n",
       "       [ 43,  67,  63,  90,  44,  85],\n",
       "       [ 97,  84,  85,  54,  50,  97],\n",
       "       [ 88,  58,  75,  65,  81,  61],\n",
       "       [ 71,  99,  99,  59,  87,  97],\n",
       "       [100,  74,  56,  57,  67,  63],\n",
       "       [ 66,  93,  55,  81,  99,  88],\n",
       "       [ 97,  97,  60,  92,  45,  91],\n",
       "       [ 64,  71,  78,  82,  61,  99],\n",
       "       [ 77,  57,  65,  59,  55,  74],\n",
       "       [ 99,  60,  59,  50,  75,  89],\n",
       "       [ 90,  76,  90,  87,  91,  72],\n",
       "       [ 54,  74,  55,  99, 100,  89],\n",
       "       [ 83,  87,  57,  85,  73,  65],\n",
       "       [ 99,  64,  83,  77,  60,  93],\n",
       "       [ 96,  96,  73,  78,  92,  99],\n",
       "       [ 80,  93,  53,  73,  58,  72],\n",
       "       [ 54,  61,  52,  65,  79,  69],\n",
       "       [ 41,  86,  91,  78,  70,  60],\n",
       "       [ 68,  99,  68,  74,  94,  44],\n",
       "       [ 98,  87,  91,  51,  65,  62],\n",
       "       [ 97,  62,  62,  61,  57,  72],\n",
       "       [ 69,  60,  53,  68,  74,  79],\n",
       "       [ 93,  96,  99,  64,  88,  59],\n",
       "       [ 67,  89,  81,  80, 100,  78],\n",
       "       [ 89,  71,  96,  63,  60,  89],\n",
       "       [ 80,  65,  89,  88,  66,  70],\n",
       "       [ 78,  83, 100,  69,  54,  56],\n",
       "       [ 50,  63,  91,  72,  59,  99],\n",
       "       [ 50, 100,  98,  79,  95,  70]])"
      ]
     },
     "execution_count": 55,
     "metadata": {},
     "output_type": "execute_result"
    }
   ],
   "source": [
    "scores = np.array(scores)\n",
    "scores"
   ]
  },
  {
   "cell_type": "code",
   "execution_count": 57,
   "metadata": {},
   "outputs": [
    {
     "data": {
      "text/plain": [
       "array([76.4, 75.9, 75.7, 72.1, 72.4, 76.8])"
      ]
     },
     "execution_count": 57,
     "metadata": {},
     "output_type": "execute_result"
    }
   ],
   "source": [
    "scores.mean(0).round(1)"
   ]
  },
  {
   "cell_type": "markdown",
   "metadata": {},
   "source": [
    "#### 문제 1.\n",
    "다음 ndarray를 만들고 변수 a에 이 객체를 할당하라. 단, 모든 원소를 직접 나열하면 안된다.\n",
    "\n",
    "```\n",
    "array([[[  3   6   9  12  15]\n",
    "       [ 18  21  24  27  30]\n",
    "       [ 33  36  39  42  45]]\n",
    "\n",
    "      [[ 48  51  54  57  60]\n",
    "       [ 63  66  69  72  75]\n",
    "       [ 78  81  84  87  90]]\n",
    "\n",
    "      [[ 93  96  99 102 105]\n",
    "       [108 111 114 117 120]\n",
    "       [123 126 129 132 135]]\n",
    "\n",
    "      [[138 141 144 147 150]\n",
    "       [153 156 159 162 165]\n",
    "       [168 171 174 177 180]]])\n",
    "```"
   ]
  },
  {
   "cell_type": "code",
   "execution_count": 66,
   "metadata": {
    "scrolled": true
   },
   "outputs": [
    {
     "data": {
      "text/plain": [
       "array([[[  3,   6,   9,  12,  15],\n",
       "        [ 18,  21,  24,  27,  30],\n",
       "        [ 33,  36,  39,  42,  45]],\n",
       "\n",
       "       [[ 48,  51,  54,  57,  60],\n",
       "        [ 63,  66,  69,  72,  75],\n",
       "        [ 78,  81,  84,  87,  90]],\n",
       "\n",
       "       [[ 93,  96,  99, 102, 105],\n",
       "        [108, 111, 114, 117, 120],\n",
       "        [123, 126, 129, 132, 135]],\n",
       "\n",
       "       [[138, 141, 144, 147, 150],\n",
       "        [153, 156, 159, 162, 165],\n",
       "        [168, 171, 174, 177, 180]]])"
      ]
     },
     "execution_count": 66,
     "metadata": {},
     "output_type": "execute_result"
    }
   ],
   "source": [
    "import numpy as np\n",
    "b = np.arange(3,183,3)\n",
    "a = b.reshape(4, 3, 5)\n",
    "a"
   ]
  },
  {
   "cell_type": "markdown",
   "metadata": {},
   "source": [
    "#### 문제 2.\n",
    "아래와 같이 a에 2 차원 배열이 할당되었다고 가정하자.\n",
    "```\n",
    "a = [[38 44 13  9 10]\n",
    "     [12  6 16  1 17]\n",
    "     [ 2 13  8 46  7]]\n",
    "```\n",
    "axis 0 방향으로 최대값에는 5를 더하고 최소값에는 5를 빼면 a는 다음과 같이 변한다.\n",
    "```\n",
    "a = [[43 49 13  9 10]\n",
    "     [12  1 21 -4 22]\n",
    "     [-3 13  3 51  2]]\n",
    "```\n",
    "이런 연산을 하는 프로그램을 만들어라. 단, apply_along_axis() 함수를 이용하라."
   ]
  },
  {
   "cell_type": "markdown",
   "metadata": {},
   "source": [
    "## 여러가지 테스트"
   ]
  },
  {
   "cell_type": "code",
   "execution_count": 95,
   "metadata": {},
   "outputs": [
    {
     "data": {
      "text/plain": [
       "array([[38, 44, 13,  9, 10],\n",
       "       [12,  6, 16,  1, 17],\n",
       "       [ 2, 13,  8, 46,  7]])"
      ]
     },
     "execution_count": 95,
     "metadata": {},
     "output_type": "execute_result"
    }
   ],
   "source": [
    "import numpy as np\n",
    "a = np.array([[38, 44, 13, 9, 10],\n",
    "     [12, 6, 16, 1, 17],\n",
    "     [2, 13, 8, 46, 7],])\n",
    "a"
   ]
  },
  {
   "cell_type": "code",
   "execution_count": 83,
   "metadata": {},
   "outputs": [
    {
     "data": {
      "text/plain": [
       "array([[38, 44, 13,  9, 10],\n",
       "       [12,  6, 16,  1, 17],\n",
       "       [ 2, 13,  8, 46,  7]])"
      ]
     },
     "execution_count": 83,
     "metadata": {},
     "output_type": "execute_result"
    }
   ],
   "source": [
    "x = np.apply_along_axis(lambda x: x, 0, a)\n",
    "x"
   ]
  },
  {
   "cell_type": "code",
   "execution_count": 84,
   "metadata": {},
   "outputs": [
    {
     "name": "stdout",
     "output_type": "stream",
     "text": [
      "실행!\n",
      "[38 12  2]\n",
      "실행!\n",
      "[44  6 13]\n",
      "실행!\n",
      "[13 16  8]\n",
      "실행!\n",
      "[ 9  1 46]\n",
      "실행!\n",
      "[10 17  7]\n"
     ]
    },
    {
     "data": {
      "text/plain": [
       "array([[38, 44, 13,  9, 10],\n",
       "       [12,  6, 16,  1, 17],\n",
       "       [ 2, 13,  8, 46,  7]])"
      ]
     },
     "execution_count": 84,
     "metadata": {},
     "output_type": "execute_result"
    }
   ],
   "source": [
    "def f(b):\n",
    "    print(\"실행!\")\n",
    "    print(b) #b : numpy형식 배열\n",
    "    return b\n",
    "x = np.apply_along_axis(f, 0, a)\n",
    "x"
   ]
  },
  {
   "cell_type": "code",
   "execution_count": 85,
   "metadata": {},
   "outputs": [
    {
     "name": "stdout",
     "output_type": "stream",
     "text": [
      "[10, 20, 30]\n",
      "[5, 20, 35]\n"
     ]
    }
   ],
   "source": [
    "lst = [10, 20, 30]\n",
    "print(lst)\n",
    "lst[lst.index(max(lst))] += 5\n",
    "lst[lst.index(min(lst))] -= 5\n",
    "print(lst)"
   ]
  },
  {
   "cell_type": "code",
   "execution_count": 86,
   "metadata": {},
   "outputs": [
    {
     "name": "stdout",
     "output_type": "stream",
     "text": [
      "[10 20 30]\n",
      "[ 5 20 35]\n"
     ]
    }
   ],
   "source": [
    "lst = np.array([10, 20, 30])\n",
    "print(lst)\n",
    "for i in range(len(lst)): # index() 사용불가\n",
    "    if lst[i] == lst.max():\n",
    "        lst[i] += 5\n",
    "    elif lst[i] == lst.min():\n",
    "        lst[i] -= 5\n",
    "print(lst)"
   ]
  },
  {
   "cell_type": "code",
   "execution_count": 204,
   "metadata": {},
   "outputs": [
    {
     "data": {
      "text/plain": [
       "array([[38, 44, 13,  9, 10],\n",
       "       [12,  6, 16,  1, 17],\n",
       "       [ 2, 13,  8, 46,  7]])"
      ]
     },
     "execution_count": 204,
     "metadata": {},
     "output_type": "execute_result"
    }
   ],
   "source": [
    "a = np.array([[38, 44, 13, 9, 10],\n",
    "     [12, 6, 16, 1, 17],\n",
    "     [2, 13, 8, 46, 7],])\n",
    "a"
   ]
  },
  {
   "cell_type": "code",
   "execution_count": 205,
   "metadata": {
    "scrolled": true
   },
   "outputs": [
    {
     "name": "stdout",
     "output_type": "stream",
     "text": [
      "[43 12 -3]\n",
      "[49  1 13]\n",
      "[13 21  3]\n",
      "[ 9 -4 51]\n",
      "[10 22  2]\n"
     ]
    },
    {
     "data": {
      "text/plain": [
       "array([[43, 49, 13,  9, 10],\n",
       "       [12,  1, 21, -4, 22],\n",
       "       [-3, 13,  3, 51,  2]])"
      ]
     },
     "execution_count": 205,
     "metadata": {},
     "output_type": "execute_result"
    }
   ],
   "source": [
    "def f(a):\n",
    "    lst = a\n",
    "    for i in range(len(lst)):\n",
    "        if lst[i] == lst.max():\n",
    "            lst[i] = lst[i] + 5\n",
    "        elif lst[i] == lst.min():\n",
    "            lst[i] = lst[i] - 5\n",
    "    print(lst)\n",
    "    return lst\n",
    "    \n",
    "x = np.apply_along_axis(f, 0, a)\n",
    "x"
   ]
  },
  {
   "cell_type": "code",
   "execution_count": 209,
   "metadata": {},
   "outputs": [
    {
     "data": {
      "text/plain": [
       "array([[38, 44, 13,  9, 10],\n",
       "       [12,  6, 16,  1, 17],\n",
       "       [ 2, 13,  8, 46,  7]])"
      ]
     },
     "execution_count": 209,
     "metadata": {},
     "output_type": "execute_result"
    }
   ],
   "source": [
    "a = np.array([[38, 44, 13, 9, 10],\n",
    "     [12, 6, 16, 1, 17],\n",
    "     [2, 13, 8, 46, 7],])\n",
    "a"
   ]
  },
  {
   "cell_type": "code",
   "execution_count": 208,
   "metadata": {},
   "outputs": [],
   "source": [
    "def max_add5_min_minus5(a):\n",
    "    def f(lst):\n",
    "        for i in range(len(lst)):\n",
    "            if lst[i] == lst.max():\n",
    "                lst[i] += 5\n",
    "            elif lst[i] == lst.min():\n",
    "                lst[i] -= 5\n",
    "        return lst\n",
    "    x = np.apply_along_axis(f, 0, a)\n",
    "    return x"
   ]
  },
  {
   "cell_type": "code",
   "execution_count": 210,
   "metadata": {
    "scrolled": true
   },
   "outputs": [
    {
     "data": {
      "text/plain": [
       "array([[43, 49, 13,  9, 10],\n",
       "       [12,  1, 21, -4, 22],\n",
       "       [-3, 13,  3, 51,  2]])"
      ]
     },
     "execution_count": 210,
     "metadata": {},
     "output_type": "execute_result"
    }
   ],
   "source": [
    "max_add5_min_minus5(a)"
   ]
  },
  {
   "cell_type": "code",
   "execution_count": 212,
   "metadata": {},
   "outputs": [
    {
     "data": {
      "text/plain": [
       "array([[38, 44, 13,  9, 10],\n",
       "       [12,  6, 16,  1, 17],\n",
       "       [ 2, 13,  8, 46,  7]])"
      ]
     },
     "execution_count": 212,
     "metadata": {},
     "output_type": "execute_result"
    }
   ],
   "source": [
    "a = np.array([[38, 44, 13, 9, 10],\n",
    "     [12, 6, 16, 1, 17],\n",
    "     [2, 13, 8, 46, 7],])\n",
    "a"
   ]
  },
  {
   "cell_type": "markdown",
   "metadata": {},
   "source": [
    "### 답\n",
    "\n",
    "원본 array을 유지하고 새로운 numpy array로 반환"
   ]
  },
  {
   "cell_type": "code",
   "execution_count": 232,
   "metadata": {},
   "outputs": [],
   "source": [
    "def max_add5_min_minus5(a):\n",
    "    def f(lst):\n",
    "        a = np.zeros(lst.shape, dtype = np.int64)\n",
    "        for i in range(len(lst)):\n",
    "            if lst[i] == lst.max():\n",
    "                a[i] = lst[i] + 5\n",
    "            elif lst[i] == lst.min():\n",
    "                a[i] = lst[i] - 5\n",
    "            else:\n",
    "                a[i] = lst[i]\n",
    "        return a\n",
    "    x = np.apply_along_axis(f, 0, a)\n",
    "    return x"
   ]
  },
  {
   "cell_type": "code",
   "execution_count": 233,
   "metadata": {},
   "outputs": [
    {
     "data": {
      "text/plain": [
       "array([[43, 49, 13,  9, 10],\n",
       "       [12,  1, 21, -4, 22],\n",
       "       [-3, 13,  3, 51,  2]])"
      ]
     },
     "execution_count": 233,
     "metadata": {},
     "output_type": "execute_result"
    }
   ],
   "source": [
    "max_add5_min_minus5(a)"
   ]
  },
  {
   "cell_type": "markdown",
   "metadata": {},
   "source": [
    "## 테스트"
   ]
  },
  {
   "cell_type": "code",
   "execution_count": 117,
   "metadata": {},
   "outputs": [
    {
     "data": {
      "text/plain": [
       "array([-3,  1,  3, -4,  2])"
      ]
     },
     "execution_count": 117,
     "metadata": {},
     "output_type": "execute_result"
    }
   ],
   "source": [
    "np.apply_along_axis(lambda x: np.min(x)-5, 0, a)"
   ]
  },
  {
   "cell_type": "code",
   "execution_count": 118,
   "metadata": {},
   "outputs": [
    {
     "data": {
      "text/plain": [
       "array([43, 49, 21, 51, 22])"
      ]
     },
     "execution_count": 118,
     "metadata": {},
     "output_type": "execute_result"
    }
   ],
   "source": [
    "np.apply_along_axis(lambda x: np.max(x)+5, 0, a)"
   ]
  },
  {
   "cell_type": "markdown",
   "metadata": {},
   "source": [
    "#### 문제 3.\n",
    "예제 14에서 사용한 'fake_student_records.csv' 파일을 읽어서, 각 학생들의 6 번 시험 중에서 최저 점수를 제외한 5 번 시험의 평균을 구하여 소숫점 첫째 자리까지 콘솔에 출력하라. 정답은 다음과 같아야 한다.\n",
    "```\n",
    "array([68.6, 69.4, 75.2, 79. , 89.4, 84.4, 77. , 66. , 81.8, 69.8, 83.4,\n",
    "       74. , 90.6, 72.2, 85.4, 87.4, 78.8, 66.4, 76.4, 86.8, 83.4, 78.6,\n",
    "       83.2, 92.2, 75.2, 65.6, 77. , 80.6, 80.6, 70.8, 70. , 88. , 85.6,\n",
    "       81.6, 78.6, 77.2, 76.8, 88.4])\n",
    "```"
   ]
  },
  {
   "cell_type": "code",
   "execution_count": 266,
   "metadata": {},
   "outputs": [
    {
     "name": "stdout",
     "output_type": "stream",
     "text": [
      "{'이름': '조준혁', '학번': '20257329', '소속': '일본학과', '학년': '3', '시험1': '61', '시험2': '69', '시험3': '46', '시험4': '79', '시험5': '57', '시험6': '77'}\n",
      "{'이름': '이중석', '학번': '20287434', '소속': '심리학과', '학년': '2', '시험1': '83', '시험2': '55', '시험3': '76', '시험4': '62', '시험5': '62', '시험6': '64'}\n",
      "{'이름': '정은영', '학번': '20297500', '소속': '경제학과', '학년': '2', '시험1': '57', '시험2': '61', '시험3': '61', '시험4': '72', '시험5': '98', '시험6': '84'}\n",
      "{'이름': '조동욱', '학번': '20277510', '소속': '경제학과', '학년': '3', '시험1': '52', '시험2': '77', '시험3': '87', '시험4': '96', '시험5': '72', '시험6': '63'}\n",
      "{'이름': '김승헌', '학번': '20317424', '소속': '경영학과', '학년': '3', '시험1': '83', '시험2': '90', '시험3': '93', '시험4': '71', '시험5': '89', '시험6': '92'}\n",
      "{'이름': '정궁윤', '학번': '20299281', '소속': '생명과학과', '학년': '3', '시험1': '96', '시험2': '72', '시험3': '94', '시험4': '52', '시험5': '76', '시험6': '84'}\n",
      "{'이름': '김민훈', '학번': '20317448', '소속': '의과학융합전공', '학년': '3', '시험1': '77', '시험2': '60', '시험3': '73', '시험4': '87', '시험5': '56', '시험6': '88'}\n",
      "{'이름': '김동우', '학번': '20267372', '소속': '소프트웨어융합대학', '학년': '1', '시험1': '58', '시험2': '47', '시험3': '92', '시험4': '61', '시험5': '49', '시험6': '70'}\n",
      "{'이름': '김동석', '학번': '20277452', '소속': '소프트웨어융합대학', '학년': '1', '시험1': '97', '시험2': '82', '시험3': '77', '시험4': '58', '시험5': '95', '시험6': '55'}\n",
      "{'이름': '윤궁기', '학번': '20267389', '소속': '소프트웨어융합대학', '학년': '1', '시험1': '43', '시험2': '67', '시험3': '63', '시험4': '90', '시험5': '44', '시험6': '85'}\n",
      "{'이름': '류준은', '학번': '20327362', '소속': '소프트웨어융합대학', '학년': '1', '시험1': '97', '시험2': '84', '시험3': '85', '시험4': '54', '시험5': '50', '시험6': '97'}\n",
      "{'이름': '김원하', '학번': '20277501', '소속': '소프트웨어융합대학', '학년': '1', '시험1': '88', '시험2': '58', '시험3': '75', '시험4': '65', '시험5': '81', '시험6': '61'}\n",
      "{'이름': '홍현주', '학번': '20297449', '소속': '소프트웨어융합대학', '학년': '1', '시험1': '71', '시험2': '99', '시험3': '99', '시험4': '59', '시험5': '87', '시험6': '97'}\n",
      "{'이름': '장강훈', '학번': '20277483', '소속': '소프트웨어융합대학', '학년': '1', '시험1': '100', '시험2': '74', '시험3': '56', '시험4': '57', '시험5': '67', '시험6': '63'}\n",
      "{'이름': '정수영', '학번': '20287395', '소속': '빅데이터전공', '학년': '2', '시험1': '66', '시험2': '93', '시험3': '55', '시험4': '81', '시험5': '99', '시험6': '88'}\n",
      "{'이름': '송준진', '학번': '20287486', '소속': '스마트IoT전공', '학년': '2', '시험1': '97', '시험2': '97', '시험3': '60', '시험4': '92', '시험5': '45', '시험6': '91'}\n",
      "{'이름': '이수진', '학번': '20267437', '소속': '빅데이터전공', '학년': '2', '시험1': '64', '시험2': '71', '시험3': '78', '시험4': '82', '시험5': '61', '시험6': '99'}\n",
      "{'이름': '홍동욱', '학번': '20307389', '소속': '스마트IoT전공', '학년': '2', '시험1': '77', '시험2': '57', '시험3': '65', '시험4': '59', '시험5': '55', '시험6': '74'}\n",
      "{'이름': '김찬훈', '학번': '20308899', '소속': '콘텐츠IT전공', '학년': '2', '시험1': '99', '시험2': '60', '시험3': '59', '시험4': '50', '시험5': '75', '시험6': '89'}\n",
      "{'이름': '장궁우', '학번': '20307450', '소속': '스마트IoT전공', '학년': '2', '시험1': '90', '시험2': '76', '시험3': '90', '시험4': '87', '시험5': '91', '시험6': '72'}\n",
      "{'이름': '정여우', '학번': '20327396', '소속': '스마트IoT전공', '학년': '2', '시험1': '54', '시험2': '74', '시험3': '55', '시험4': '99', '시험5': '100', '시험6': '89'}\n",
      "{'이름': '강준은', '학번': '20327404', '소속': '빅데이터전공', '학년': '2', '시험1': '83', '시험2': '87', '시험3': '57', '시험4': '85', '시험5': '73', '시험6': '65'}\n",
      "{'이름': '홍성윤', '학번': '20257438', '소속': '빅데이터전공', '학년': '2', '시험1': '99', '시험2': '64', '시험3': '83', '시험4': '77', '시험5': '60', '시험6': '93'}\n",
      "{'이름': '강아윤', '학번': '20305027', '소속': '빅데이터전공', '학년': '3', '시험1': '96', '시험2': '96', '시험3': '73', '시험4': '78', '시험5': '92', '시험6': '99'}\n",
      "{'이름': '조지훈', '학번': '20267539', '소속': '빅데이터전공', '학년': '3', '시험1': '80', '시험2': '93', '시험3': '53', '시험4': '73', '시험5': '58', '시험6': '72'}\n",
      "{'이름': '이현영', '학번': '20257359', '소속': '스마트IoT전공', '학년': '3', '시험1': '54', '시험2': '61', '시험3': '52', '시험4': '65', '시험5': '79', '시험6': '69'}\n",
      "{'이름': '안승완', '학번': '20317479', '소속': '빅데이터전공', '학년': '3', '시험1': '41', '시험2': '86', '시험3': '91', '시험4': '78', '시험5': '70', '시험6': '60'}\n",
      "{'이름': '이민주', '학번': '20297567', '소속': '콘텐츠IT전공', '학년': '3', '시험1': '68', '시험2': '99', '시험3': '68', '시험4': '74', '시험5': '94', '시험6': '44'}\n",
      "{'이름': '남소원', '학번': '20295809', '소속': '빅데이터전공', '학년': '3', '시험1': '98', '시험2': '87', '시험3': '91', '시험4': '51', '시험5': '65', '시험6': '62'}\n",
      "{'이름': '임수은', '학번': '20277497', '소속': '콘텐츠IT전공', '학년': '3', '시험1': '97', '시험2': '62', '시험3': '62', '시험4': '61', '시험5': '57', '시험6': '72'}\n",
      "{'이름': '함여성', '학번': '20255757', '소속': '빅데이터전공', '학년': '3', '시험1': '69', '시험2': '60', '시험3': '53', '시험4': '68', '시험5': '74', '시험6': '79'}\n",
      "{'이름': '윤준찬', '학번': '20297398', '소속': '빅데이터전공', '학년': '3', '시험1': '93', '시험2': '96', '시험3': '99', '시험4': '64', '시험5': '88', '시험6': '59'}\n",
      "{'이름': '박현윤', '학번': '20277435', '소속': '빅데이터전공', '학년': '3', '시험1': '67', '시험2': '89', '시험3': '81', '시험4': '80', '시험5': '100', '시험6': '78'}\n",
      "{'이름': '김수진', '학번': '20317328', '소속': 'ICT융합전공', '학년': '3', '시험1': '89', '시험2': '71', '시험3': '96', '시험4': '63', '시험5': '60', '시험6': '89'}\n",
      "{'이름': '지영범', '학번': '20275082', '소속': '컴퓨터공학과', '학년': '2', '시험1': '80', '시험2': '65', '시험3': '89', '시험4': '88', '시험5': '66', '시험6': '70'}\n",
      "{'이름': '황민훈', '학번': '20279379', '소속': '전자공학과', '학년': '2', '시험1': '78', '시험2': '83', '시험3': '100', '시험4': '69', '시험5': '54', '시험6': '56'}\n",
      "{'이름': '안동범', '학번': '20287476', '소속': '전자공학과', '학년': '3', '시험1': '50', '시험2': '63', '시험3': '91', '시험4': '72', '시험5': '59', '시험6': '99'}\n",
      "{'이름': '함재윤', '학번': '20269404', '소속': '전자공학과', '학년': '4', '시험1': '50', '시험2': '100', '시험3': '98', '시험4': '79', '시험5': '95', '시험6': '70'}\n"
     ]
    }
   ],
   "source": [
    "import csv\n",
    "with open('fake_student_records.csv', mode='r', encoding='utf-8') as csv_file:\n",
    "    csv_reader = csv.DictReader(csv_file)\n",
    "    scores = []\n",
    "    exams = ('시험1', '시험2', '시험3', '시험4', '시험5', '시험6')\n",
    "    for row in csv_reader:\n",
    "        scores.append([int(row[e]) for e in exams])\n",
    "        print(row)"
   ]
  },
  {
   "cell_type": "markdown",
   "metadata": {},
   "source": [
    "## list에서 최솟값 제거"
   ]
  },
  {
   "cell_type": "code",
   "execution_count": 272,
   "metadata": {},
   "outputs": [
    {
     "name": "stdout",
     "output_type": "stream",
     "text": [
      "46\n",
      "55\n",
      "57\n",
      "52\n",
      "71\n",
      "52\n",
      "56\n",
      "47\n",
      "55\n",
      "43\n",
      "50\n",
      "58\n",
      "59\n",
      "56\n",
      "55\n",
      "45\n",
      "61\n",
      "55\n",
      "50\n",
      "72\n",
      "54\n",
      "57\n",
      "60\n",
      "73\n",
      "53\n",
      "52\n",
      "41\n",
      "44\n",
      "51\n",
      "57\n",
      "53\n",
      "59\n",
      "67\n",
      "60\n",
      "65\n",
      "54\n",
      "50\n",
      "50\n"
     ]
    }
   ],
   "source": [
    "for i in scores:\n",
    "    print(min(i))"
   ]
  },
  {
   "cell_type": "code",
   "execution_count": 276,
   "metadata": {},
   "outputs": [
    {
     "data": {
      "text/plain": [
       "[[61, 69, 79, 57, 77],\n",
       " [83, 76, 62, 62, 64],\n",
       " [61, 61, 72, 98, 84],\n",
       " [77, 87, 96, 72, 63],\n",
       " [83, 90, 93, 89, 92],\n",
       " [96, 72, 94, 76, 84],\n",
       " [77, 60, 73, 87, 88],\n",
       " [58, 92, 61, 49, 70],\n",
       " [97, 82, 77, 58, 95],\n",
       " [67, 63, 90, 44, 85],\n",
       " [97, 84, 85, 54, 97],\n",
       " [88, 75, 65, 81, 61],\n",
       " [71, 99, 99, 87, 97],\n",
       " [100, 74, 57, 67, 63],\n",
       " [66, 93, 81, 99, 88],\n",
       " [97, 97, 60, 92, 91],\n",
       " [64, 71, 78, 82, 99],\n",
       " [77, 57, 65, 59, 74],\n",
       " [99, 60, 59, 75, 89],\n",
       " [90, 76, 90, 87, 91],\n",
       " [74, 55, 99, 100, 89],\n",
       " [83, 87, 85, 73, 65],\n",
       " [99, 64, 83, 77, 93],\n",
       " [96, 96, 78, 92, 99],\n",
       " [80, 93, 73, 58, 72],\n",
       " [54, 61, 65, 79, 69],\n",
       " [86, 91, 78, 70, 60],\n",
       " [68, 99, 68, 74, 94],\n",
       " [98, 87, 91, 65, 62],\n",
       " [97, 62, 62, 61, 72],\n",
       " [69, 60, 68, 74, 79],\n",
       " [93, 96, 99, 64, 88],\n",
       " [89, 81, 80, 100, 78],\n",
       " [89, 71, 96, 63, 89],\n",
       " [80, 89, 88, 66, 70],\n",
       " [78, 83, 100, 69, 56],\n",
       " [63, 91, 72, 59, 99],\n",
       " [100, 98, 79, 95, 70]]"
      ]
     },
     "execution_count": 276,
     "metadata": {},
     "output_type": "execute_result"
    }
   ],
   "source": [
    "for i in range(len(scores)):\n",
    "    scores[i].remove(min(scores[i]))\n",
    "scores"
   ]
  },
  {
   "cell_type": "code",
   "execution_count": 315,
   "metadata": {},
   "outputs": [
    {
     "data": {
      "text/plain": [
       "array([[ 61,  69,  79,  57,  77],\n",
       "       [ 83,  76,  62,  62,  64],\n",
       "       [ 61,  61,  72,  98,  84],\n",
       "       [ 77,  87,  96,  72,  63],\n",
       "       [ 83,  90,  93,  89,  92],\n",
       "       [ 96,  72,  94,  76,  84],\n",
       "       [ 77,  60,  73,  87,  88],\n",
       "       [ 58,  92,  61,  49,  70],\n",
       "       [ 97,  82,  77,  58,  95],\n",
       "       [ 67,  63,  90,  44,  85],\n",
       "       [ 97,  84,  85,  54,  97],\n",
       "       [ 88,  75,  65,  81,  61],\n",
       "       [ 71,  99,  99,  87,  97],\n",
       "       [100,  74,  57,  67,  63],\n",
       "       [ 66,  93,  81,  99,  88],\n",
       "       [ 97,  97,  60,  92,  91],\n",
       "       [ 64,  71,  78,  82,  99],\n",
       "       [ 77,  57,  65,  59,  74],\n",
       "       [ 99,  60,  59,  75,  89],\n",
       "       [ 90,  76,  90,  87,  91],\n",
       "       [ 74,  55,  99, 100,  89],\n",
       "       [ 83,  87,  85,  73,  65],\n",
       "       [ 99,  64,  83,  77,  93],\n",
       "       [ 96,  96,  78,  92,  99],\n",
       "       [ 80,  93,  73,  58,  72],\n",
       "       [ 54,  61,  65,  79,  69],\n",
       "       [ 86,  91,  78,  70,  60],\n",
       "       [ 68,  99,  68,  74,  94],\n",
       "       [ 98,  87,  91,  65,  62],\n",
       "       [ 97,  62,  62,  61,  72],\n",
       "       [ 69,  60,  68,  74,  79],\n",
       "       [ 93,  96,  99,  64,  88],\n",
       "       [ 89,  81,  80, 100,  78],\n",
       "       [ 89,  71,  96,  63,  89],\n",
       "       [ 80,  89,  88,  66,  70],\n",
       "       [ 78,  83, 100,  69,  56],\n",
       "       [ 63,  91,  72,  59,  99],\n",
       "       [100,  98,  79,  95,  70]])"
      ]
     },
     "execution_count": 315,
     "metadata": {},
     "output_type": "execute_result"
    }
   ],
   "source": [
    "scores = np.array(scores)\n",
    "scores"
   ]
  },
  {
   "cell_type": "code",
   "execution_count": 323,
   "metadata": {},
   "outputs": [
    {
     "data": {
      "text/plain": [
       "array([68.6, 69.4, 75.2, 79. , 89.4, 84.4, 77. , 66. , 81.8, 69.8, 83.4,\n",
       "       74. , 90.6, 72.2, 85.4, 87.4, 78.8, 66.4, 76.4, 86.8, 83.4, 78.6,\n",
       "       83.2, 92.2, 75.2, 65.6, 77. , 80.6, 80.6, 70.8, 70. , 88. , 85.6,\n",
       "       81.6, 78.6, 77.2, 76.8, 88.4])"
      ]
     },
     "execution_count": 323,
     "metadata": {},
     "output_type": "execute_result"
    }
   ],
   "source": [
    "scores = scores.mean(1).round(1)\n",
    "scores"
   ]
  },
  {
   "cell_type": "code",
   "execution_count": 324,
   "metadata": {},
   "outputs": [
    {
     "name": "stdout",
     "output_type": "stream",
     "text": [
      "{'이름': '조준혁', '학번': '20257329', '소속': '일본학과', '학년': '3', '시험1': '61', '시험2': '69', '시험3': '46', '시험4': '79', '시험5': '57', '시험6': '77'}\n",
      "{'이름': '이중석', '학번': '20287434', '소속': '심리학과', '학년': '2', '시험1': '83', '시험2': '55', '시험3': '76', '시험4': '62', '시험5': '62', '시험6': '64'}\n",
      "{'이름': '정은영', '학번': '20297500', '소속': '경제학과', '학년': '2', '시험1': '57', '시험2': '61', '시험3': '61', '시험4': '72', '시험5': '98', '시험6': '84'}\n",
      "{'이름': '조동욱', '학번': '20277510', '소속': '경제학과', '학년': '3', '시험1': '52', '시험2': '77', '시험3': '87', '시험4': '96', '시험5': '72', '시험6': '63'}\n",
      "{'이름': '김승헌', '학번': '20317424', '소속': '경영학과', '학년': '3', '시험1': '83', '시험2': '90', '시험3': '93', '시험4': '71', '시험5': '89', '시험6': '92'}\n",
      "{'이름': '정궁윤', '학번': '20299281', '소속': '생명과학과', '학년': '3', '시험1': '96', '시험2': '72', '시험3': '94', '시험4': '52', '시험5': '76', '시험6': '84'}\n",
      "{'이름': '김민훈', '학번': '20317448', '소속': '의과학융합전공', '학년': '3', '시험1': '77', '시험2': '60', '시험3': '73', '시험4': '87', '시험5': '56', '시험6': '88'}\n",
      "{'이름': '김동우', '학번': '20267372', '소속': '소프트웨어융합대학', '학년': '1', '시험1': '58', '시험2': '47', '시험3': '92', '시험4': '61', '시험5': '49', '시험6': '70'}\n",
      "{'이름': '김동석', '학번': '20277452', '소속': '소프트웨어융합대학', '학년': '1', '시험1': '97', '시험2': '82', '시험3': '77', '시험4': '58', '시험5': '95', '시험6': '55'}\n",
      "{'이름': '윤궁기', '학번': '20267389', '소속': '소프트웨어융합대학', '학년': '1', '시험1': '43', '시험2': '67', '시험3': '63', '시험4': '90', '시험5': '44', '시험6': '85'}\n",
      "{'이름': '류준은', '학번': '20327362', '소속': '소프트웨어융합대학', '학년': '1', '시험1': '97', '시험2': '84', '시험3': '85', '시험4': '54', '시험5': '50', '시험6': '97'}\n",
      "{'이름': '김원하', '학번': '20277501', '소속': '소프트웨어융합대학', '학년': '1', '시험1': '88', '시험2': '58', '시험3': '75', '시험4': '65', '시험5': '81', '시험6': '61'}\n",
      "{'이름': '홍현주', '학번': '20297449', '소속': '소프트웨어융합대학', '학년': '1', '시험1': '71', '시험2': '99', '시험3': '99', '시험4': '59', '시험5': '87', '시험6': '97'}\n",
      "{'이름': '장강훈', '학번': '20277483', '소속': '소프트웨어융합대학', '학년': '1', '시험1': '100', '시험2': '74', '시험3': '56', '시험4': '57', '시험5': '67', '시험6': '63'}\n",
      "{'이름': '정수영', '학번': '20287395', '소속': '빅데이터전공', '학년': '2', '시험1': '66', '시험2': '93', '시험3': '55', '시험4': '81', '시험5': '99', '시험6': '88'}\n",
      "{'이름': '송준진', '학번': '20287486', '소속': '스마트IoT전공', '학년': '2', '시험1': '97', '시험2': '97', '시험3': '60', '시험4': '92', '시험5': '45', '시험6': '91'}\n",
      "{'이름': '이수진', '학번': '20267437', '소속': '빅데이터전공', '학년': '2', '시험1': '64', '시험2': '71', '시험3': '78', '시험4': '82', '시험5': '61', '시험6': '99'}\n",
      "{'이름': '홍동욱', '학번': '20307389', '소속': '스마트IoT전공', '학년': '2', '시험1': '77', '시험2': '57', '시험3': '65', '시험4': '59', '시험5': '55', '시험6': '74'}\n",
      "{'이름': '김찬훈', '학번': '20308899', '소속': '콘텐츠IT전공', '학년': '2', '시험1': '99', '시험2': '60', '시험3': '59', '시험4': '50', '시험5': '75', '시험6': '89'}\n",
      "{'이름': '장궁우', '학번': '20307450', '소속': '스마트IoT전공', '학년': '2', '시험1': '90', '시험2': '76', '시험3': '90', '시험4': '87', '시험5': '91', '시험6': '72'}\n",
      "{'이름': '정여우', '학번': '20327396', '소속': '스마트IoT전공', '학년': '2', '시험1': '54', '시험2': '74', '시험3': '55', '시험4': '99', '시험5': '100', '시험6': '89'}\n",
      "{'이름': '강준은', '학번': '20327404', '소속': '빅데이터전공', '학년': '2', '시험1': '83', '시험2': '87', '시험3': '57', '시험4': '85', '시험5': '73', '시험6': '65'}\n",
      "{'이름': '홍성윤', '학번': '20257438', '소속': '빅데이터전공', '학년': '2', '시험1': '99', '시험2': '64', '시험3': '83', '시험4': '77', '시험5': '60', '시험6': '93'}\n",
      "{'이름': '강아윤', '학번': '20305027', '소속': '빅데이터전공', '학년': '3', '시험1': '96', '시험2': '96', '시험3': '73', '시험4': '78', '시험5': '92', '시험6': '99'}\n",
      "{'이름': '조지훈', '학번': '20267539', '소속': '빅데이터전공', '학년': '3', '시험1': '80', '시험2': '93', '시험3': '53', '시험4': '73', '시험5': '58', '시험6': '72'}\n",
      "{'이름': '이현영', '학번': '20257359', '소속': '스마트IoT전공', '학년': '3', '시험1': '54', '시험2': '61', '시험3': '52', '시험4': '65', '시험5': '79', '시험6': '69'}\n",
      "{'이름': '안승완', '학번': '20317479', '소속': '빅데이터전공', '학년': '3', '시험1': '41', '시험2': '86', '시험3': '91', '시험4': '78', '시험5': '70', '시험6': '60'}\n",
      "{'이름': '이민주', '학번': '20297567', '소속': '콘텐츠IT전공', '학년': '3', '시험1': '68', '시험2': '99', '시험3': '68', '시험4': '74', '시험5': '94', '시험6': '44'}\n",
      "{'이름': '남소원', '학번': '20295809', '소속': '빅데이터전공', '학년': '3', '시험1': '98', '시험2': '87', '시험3': '91', '시험4': '51', '시험5': '65', '시험6': '62'}\n",
      "{'이름': '임수은', '학번': '20277497', '소속': '콘텐츠IT전공', '학년': '3', '시험1': '97', '시험2': '62', '시험3': '62', '시험4': '61', '시험5': '57', '시험6': '72'}\n",
      "{'이름': '함여성', '학번': '20255757', '소속': '빅데이터전공', '학년': '3', '시험1': '69', '시험2': '60', '시험3': '53', '시험4': '68', '시험5': '74', '시험6': '79'}\n",
      "{'이름': '윤준찬', '학번': '20297398', '소속': '빅데이터전공', '학년': '3', '시험1': '93', '시험2': '96', '시험3': '99', '시험4': '64', '시험5': '88', '시험6': '59'}\n",
      "{'이름': '박현윤', '학번': '20277435', '소속': '빅데이터전공', '학년': '3', '시험1': '67', '시험2': '89', '시험3': '81', '시험4': '80', '시험5': '100', '시험6': '78'}\n",
      "{'이름': '김수진', '학번': '20317328', '소속': 'ICT융합전공', '학년': '3', '시험1': '89', '시험2': '71', '시험3': '96', '시험4': '63', '시험5': '60', '시험6': '89'}\n",
      "{'이름': '지영범', '학번': '20275082', '소속': '컴퓨터공학과', '학년': '2', '시험1': '80', '시험2': '65', '시험3': '89', '시험4': '88', '시험5': '66', '시험6': '70'}\n",
      "{'이름': '황민훈', '학번': '20279379', '소속': '전자공학과', '학년': '2', '시험1': '78', '시험2': '83', '시험3': '100', '시험4': '69', '시험5': '54', '시험6': '56'}\n",
      "{'이름': '안동범', '학번': '20287476', '소속': '전자공학과', '학년': '3', '시험1': '50', '시험2': '63', '시험3': '91', '시험4': '72', '시험5': '59', '시험6': '99'}\n",
      "{'이름': '함재윤', '학번': '20269404', '소속': '전자공학과', '학년': '4', '시험1': '50', '시험2': '100', '시험3': '98', '시험4': '79', '시험5': '95', '시험6': '70'}\n"
     ]
    }
   ],
   "source": [
    "import csv\n",
    "with open('fake_student_records.csv', mode='r', encoding='utf-8') as csv_file:\n",
    "    csv_reader = csv.DictReader(csv_file)\n",
    "    scores = []\n",
    "    exams = ('시험1', '시험2', '시험3', '시험4', '시험5', '시험6')\n",
    "    for row in csv_reader:\n",
    "        scores.append([int(row[e]) for e in exams])\n",
    "        print(row)"
   ]
  }
 ],
 "metadata": {
  "kernelspec": {
   "display_name": "Python 3",
   "language": "python",
   "name": "python3"
  },
  "language_info": {
   "codemirror_mode": {
    "name": "ipython",
    "version": 3
   },
   "file_extension": ".py",
   "mimetype": "text/x-python",
   "name": "python",
   "nbconvert_exporter": "python",
   "pygments_lexer": "ipython3",
   "version": "3.8.5"
  },
  "latex_envs": {
   "LaTeX_envs_menu_present": true,
   "autoclose": false,
   "autocomplete": true,
   "bibliofile": "biblio.bib",
   "cite_by": "apalike",
   "current_citInitial": 1,
   "eqLabelWithNumbers": true,
   "eqNumInitial": 1,
   "hotkeys": {
    "equation": "Ctrl-E",
    "itemize": "Ctrl-I"
   },
   "labels_anchors": false,
   "latex_user_defs": false,
   "report_style_numbering": false,
   "user_envs_cfg": false
  },
  "toc": {
   "base_numbering": 1,
   "nav_menu": {},
   "number_sections": false,
   "sideBar": true,
   "skip_h1_title": false,
   "title_cell": "Table of Contents",
   "title_sidebar": "Contents",
   "toc_cell": false,
   "toc_position": {
    "height": "calc(100% - 180px)",
    "left": "10px",
    "top": "150px",
    "width": "270.5px"
   },
   "toc_section_display": true,
   "toc_window_display": false
  }
 },
 "nbformat": 4,
 "nbformat_minor": 2
}
