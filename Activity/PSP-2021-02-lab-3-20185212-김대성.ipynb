{
 "cells": [
  {
   "cell_type": "markdown",
   "metadata": {},
   "source": [
    "<h1 align='center'> 파이썬과학프로그래밍기초 실습 3</h1>\n",
    "\n",
    "<p style=\"text-align: right\"> 2021.9.29</p>"
   ]
  },
  {
   "cell_type": "markdown",
   "metadata": {},
   "source": [
    "<div class=\"alert alert-block alert-info\">\n",
    "    \n",
    "- 파일 이름에서 00000000을 자신의 학번으로, name을 자신의 이름으로 수정하세요.\n",
    "\n",
    "- 다음 줄에 자신의 이름, 학번, 학과(전공)을 적으세요.\n",
    "\n",
    "* 이름:   김대성          학번:    20185212         학과(전공): 스마트IoT\n",
    "    \n",
    "</div>\n",
    "\n",
    "- Jupyter notebook에 대한 설명은 [The Jupyter Notebook](https://jupyter-notebook.readthedocs.io/en/stable/)을  참고하라\n",
    "\n",
    "- Markdown은 [Markdown Guide](https://www.markdownguide.org/)를 참고하라.\n",
    "- [Markdown Cheat Sheet](https://www.markdownguide.org/cheat-sheet/)\n",
    "\n",
    "* 실습 과제 제출 마감: 10월 2일 (토) 오후 6:00"
   ]
  },
  {
   "cell_type": "markdown",
   "metadata": {},
   "source": [
    "#### 예제 1. \n",
    "\n",
    "다음과 같이 주어지는 리스트가 있다.\n",
    "\n",
    "```\n",
    "[30, 46, 32, 5, 47, 14, 46, 35, 3, 17, 16, 3, 50, 27]\n",
    "```\n",
    "\n",
    "이 리스트의 원소 중에서 3의 배수 정수들의 합을 구하는 프로그램을 작성하라"
   ]
  },
  {
   "cell_type": "code",
   "execution_count": 7,
   "metadata": {},
   "outputs": [
    {
     "name": "stdout",
     "output_type": "stream",
     "text": [
      "63\n"
     ]
    }
   ],
   "source": [
    "lst = [30, 46, 32, 5, 47, 14, 46, 35, 3, 17, 16, 3, 50, 27]\n",
    "total = 0\n",
    "for n in lst:\n",
    "    if n % 3 == 0:\n",
    "        total += n\n",
    "print(total)        "
   ]
  },
  {
   "cell_type": "code",
   "execution_count": 9,
   "metadata": {},
   "outputs": [
    {
     "name": "stdout",
     "output_type": "stream",
     "text": [
      "63\n"
     ]
    }
   ],
   "source": [
    "lst = [30, 46, 32, 5, 47, 14, 46, 35, 3, 17, 16, 3, 50, 27]\n",
    "total = 0\n",
    "for n in range(len(lst)): # len() : 시퀀스형 자료형의 길이를 구해줌\n",
    "    if lst[n] % 3 == 0:\n",
    "        total += lst[n]\n",
    "print(total) "
   ]
  },
  {
   "cell_type": "code",
   "execution_count": 10,
   "metadata": {},
   "outputs": [
    {
     "name": "stdout",
     "output_type": "stream",
     "text": [
      "63\n"
     ]
    }
   ],
   "source": [
    "lst = [30, 46, 32, 5, 47, 14, 46, 35, 3, 17, 16, 3, 50, 27]\n",
    "total = 0\n",
    "for idx, n in enumerate(lst): # enumerate(lst) idx : lst의 index 반환, n : lst의 값 반환\n",
    "    if n % 3 == 0:\n",
    "        total += lst[idx]\n",
    "print(total) "
   ]
  },
  {
   "cell_type": "markdown",
   "metadata": {},
   "source": [
    "#### 예제 2. \n",
    "\n",
    "문제 1에 주어진 리스트에서 인덱스가 4의 배수인 원소들의 곱을 구하는 프로그램을 작성하라"
   ]
  },
  {
   "cell_type": "code",
   "execution_count": 11,
   "metadata": {},
   "outputs": [
    {
     "name": "stdout",
     "output_type": "stream",
     "text": [
      "512\n"
     ]
    }
   ],
   "source": [
    "lst = [30, 46, 32, 5, 47, 14, 46, 35, 3, 17, 16, 3, 50, 27]\n",
    "total = 1\n",
    "for n in lst:\n",
    "    if n % 4 == 0:\n",
    "        total *= n\n",
    "print(total) "
   ]
  },
  {
   "cell_type": "markdown",
   "metadata": {},
   "source": [
    "#### 예제 3. \n",
    "\n",
    "다음과 같이 주어지는 리스트가 있다.\n",
    "\n",
    "```\n",
    "[3, 9, 7, 4, 3, 8, 3, 6, 8, 1, 10, 4, 10, 10, 7, 1, 7, 10, 3, 8]\n",
    "```\n",
    "\n",
    "이 리스트에서 3의 배수 정수들의 인덱스의 합을 구하는 프로그램을 작성하라."
   ]
  },
  {
   "cell_type": "code",
   "execution_count": 18,
   "metadata": {},
   "outputs": [
    {
     "name": "stdout",
     "output_type": "stream",
     "text": [
      "0 3\n",
      "1 9\n",
      "4 3\n",
      "6 3\n",
      "7 6\n",
      "18 3\n",
      "36\n"
     ]
    }
   ],
   "source": [
    "lst = [3, 9, 7, 4, 3, 8, 3, 6, 8, 1, 10, 4, 10, 10, 7, 1, 7, 10, 3, 8]\n",
    "total = 0\n",
    "for n in range(len(lst)):\n",
    "    if lst[n] % 3 == 0:\n",
    "        print(n, lst[n])\n",
    "        total += n\n",
    "print(total)        "
   ]
  },
  {
   "cell_type": "code",
   "execution_count": 19,
   "metadata": {},
   "outputs": [
    {
     "name": "stdout",
     "output_type": "stream",
     "text": [
      "0 3\n",
      "1 9\n",
      "4 3\n",
      "6 3\n",
      "7 6\n",
      "18 3\n",
      "36\n"
     ]
    }
   ],
   "source": [
    "lst = [3, 9, 7, 4, 3, 8, 3, 6, 8, 1, 10, 4, 10, 10, 7, 1, 7, 10, 3, 8]\n",
    "total = 0\n",
    "for idx, numb in enumerate(lst):\n",
    "    if numb % 3 == 0:\n",
    "        print(idx, numb)\n",
    "        total += idx\n",
    "    \n",
    "print(total)          "
   ]
  },
  {
   "cell_type": "markdown",
   "metadata": {},
   "source": [
    "#### 예제 4\n",
    "\n",
    "List의 append 메쏘드를 사용해서 아래 셀의 리스트 x에서 음수값을 가진 원소들을 다음과 같이 모두 부호를 양으로 바꾸어 새로운 리스트 y를 만들고, y를 출력하라.\n",
    "```\n",
    "[1, 2, -2, -1, 0, 0, 2, -1, 3, -3, 3, -2, -2, 1, -2, -1, 1, 3, 2, -1]\n",
    "```\n",
    "가 다음과 같이 출력되어야 함.\n",
    "```\n",
    "[1, 2, 2, 1, 0, 0, 2, 1, 3, 3, 3, 2, 2, 1, 2, 1, 1, 3, 2, 1]\n",
    "```"
   ]
  },
  {
   "cell_type": "code",
   "execution_count": 14,
   "metadata": {},
   "outputs": [
    {
     "name": "stdout",
     "output_type": "stream",
     "text": [
      "[1, 2, 2, 1, 0, 0, 2, 1, 3, 3, 3, 2, 2, 1, 2, 1, 1, 3, 2, 1]\n"
     ]
    }
   ],
   "source": [
    "x = [1, 2, -2, -1, 0, 0, 2, -1, 3, -3, 3, -2, -2, 1, -2, -1, 1, 3, 2, -1]\n",
    "y = []\n",
    "for n in x:\n",
    "    if n < 0: \n",
    "        y.append(-n)\n",
    "    else:\n",
    "        y.append(n)\n",
    "print(y)"
   ]
  },
  {
   "cell_type": "markdown",
   "metadata": {},
   "source": [
    "#### 예제 5\n",
    "\n",
    "List comprehension을 사용해서 아래 셀의 리스트 x에서 음수값을 가진 원소들을 다음과 같이 모두 부호를 양으로 바꾸어 새로운 리스트 y를 만들고, y를 출력하라.\n",
    "```\n",
    "[1, 2, -2, -1, 0, 0, 2, -1, 3, -3, 3, -2, -2, 1, -2, -1, 1, 3, 2, -1]\n",
    "```\n",
    "가 다음과 같이 출력되어야 함.\n",
    "```\n",
    "[1, 2, 2, 1, 0, 0, 2, 1, 3, 3, 3, 2, 2, 1, 2, 1, 1, 3, 2, 1]\n",
    "```"
   ]
  },
  {
   "cell_type": "code",
   "execution_count": 17,
   "metadata": {},
   "outputs": [
    {
     "name": "stdout",
     "output_type": "stream",
     "text": [
      "[1, 2, 2, 1, 0, 0, 2, 1, 3, 3, 3, 2, 2, 1, 2, 1, 1, 3, 2, 1]\n"
     ]
    }
   ],
   "source": [
    "x = [1, 2, -2, -1, 0, 0, 2, -1, 3, -3, 3, -2, -2, 1, -2, -1, 1, 3, 2, -1]\n",
    "y = [-n if n < 0 else n for n in x]\n",
    "print(y)"
   ]
  },
  {
   "cell_type": "markdown",
   "metadata": {},
   "source": [
    "List comprehension에서 if문만 사용할 경우"
   ]
  },
  {
   "cell_type": "code",
   "execution_count": 24,
   "metadata": {},
   "outputs": [
    {
     "name": "stdout",
     "output_type": "stream",
     "text": [
      "[2, 1, 1, 3, 2, 2, 2, 1, 1]\n"
     ]
    }
   ],
   "source": [
    "y = [-n for n in x if n < 0]\n",
    "print(y)"
   ]
  },
  {
   "cell_type": "markdown",
   "metadata": {},
   "source": [
    "if-else문을 쓰려면 왼쪽에 써야함"
   ]
  },
  {
   "cell_type": "markdown",
   "metadata": {},
   "source": [
    "#### 예제 6. \n",
    "\n",
    "다음과 같이 주어지는 리스트가 있다.\n",
    "\n",
    "```\n",
    "[3, 9, 9, 3, 6, 7, 2, 4, 3, 2, 8, 3, 1, 9, 3, 1, 8, 6, 8, 1]\n",
    "```\n",
    "\n",
    "이 리스트의 원소 중에서 5 번째로 큰 수를 출력하는 프로그램을 작성하라. 단, 중복된 수는 하나로 취급해야 한다. 단, 수업시간에 배운 함수나 method는 사용해도 좋지만 set() 함수는 사용하지 말아야 한다.\n",
    "\n"
   ]
  },
  {
   "cell_type": "code",
   "execution_count": 26,
   "metadata": {},
   "outputs": [
    {
     "data": {
      "text/plain": [
       "{1, 2, 3, 4, 6, 7, 8, 9}"
      ]
     },
     "execution_count": 26,
     "metadata": {},
     "output_type": "execute_result"
    }
   ],
   "source": [
    "set([3, 9, 9, 3, 6, 7, 2, 4, 3, 2, 8, 3, 1, 9, 3, 1, 8, 6, 8, 1])"
   ]
  },
  {
   "cell_type": "markdown",
   "metadata": {},
   "source": [
    "set()을 사용하면 요소를 집합처럼 나타낸다. (중복 제거)"
   ]
  },
  {
   "cell_type": "code",
   "execution_count": 27,
   "metadata": {},
   "outputs": [
    {
     "data": {
      "text/plain": [
       "[1, 2, 3, 4, 6, 7, 8, 9]"
      ]
     },
     "execution_count": 27,
     "metadata": {},
     "output_type": "execute_result"
    }
   ],
   "source": [
    "list(set([3, 9, 9, 3, 6, 7, 2, 4, 3, 2, 8, 3, 1, 9, 3, 1, 8, 6, 8, 1]))"
   ]
  },
  {
   "cell_type": "code",
   "execution_count": 28,
   "metadata": {},
   "outputs": [
    {
     "data": {
      "text/plain": [
       "<list_reverseiterator at 0x7f8eb8059190>"
      ]
     },
     "execution_count": 28,
     "metadata": {},
     "output_type": "execute_result"
    }
   ],
   "source": [
    "reversed(list(set([3, 9, 9, 3, 6, 7, 2, 4, 3, 2, 8, 3, 1, 9, 3, 1, 8, 6, 8, 1])))"
   ]
  },
  {
   "cell_type": "code",
   "execution_count": 33,
   "metadata": {},
   "outputs": [
    {
     "name": "stdout",
     "output_type": "stream",
     "text": [
      "9\n",
      "8\n",
      "7\n",
      "6\n",
      "4\n",
      "3\n",
      "2\n",
      "1\n"
     ]
    }
   ],
   "source": [
    "for n in reversed(list(set([3, 9, 9, 3, 6, 7, 2, 4, 3, 2, 8, 3, 1, 9, 3, 1, 8, 6, 8, 1]))):\n",
    "    print(n)\n",
    "# 역순"
   ]
  },
  {
   "cell_type": "code",
   "execution_count": 35,
   "metadata": {},
   "outputs": [
    {
     "data": {
      "text/plain": [
       "[9, 8, 7, 6, 4, 3, 2, 1]"
      ]
     },
     "execution_count": 35,
     "metadata": {},
     "output_type": "execute_result"
    }
   ],
   "source": [
    "list(reversed(list(set([3, 9, 9, 3, 6, 7, 2, 4, 3, 2, 8, 3, 1, 9, 3, 1, 8, 6, 8, 1]))))"
   ]
  },
  {
   "cell_type": "code",
   "execution_count": 34,
   "metadata": {},
   "outputs": [
    {
     "data": {
      "text/plain": [
       "4"
      ]
     },
     "execution_count": 34,
     "metadata": {},
     "output_type": "execute_result"
    }
   ],
   "source": [
    "list(reversed(list(set([3, 9, 9, 3, 6, 7, 2, 4, 3, 2, 8, 3, 1, 9, 3, 1, 8, 6, 8, 1]))))[4]"
   ]
  },
  {
   "cell_type": "code",
   "execution_count": 36,
   "metadata": {
    "scrolled": true
   },
   "outputs": [
    {
     "data": {
      "text/plain": [
       "[1, 2, 3, 4, 6, 7, 8, 9]"
      ]
     },
     "execution_count": 36,
     "metadata": {},
     "output_type": "execute_result"
    }
   ],
   "source": [
    "sorted(list(set([3, 9, 9, 3, 6, 7, 2, 4, 3, 2, 8, 3, 1, 9, 3, 1, 8, 6, 8, 1])))#[-5]"
   ]
  },
  {
   "cell_type": "code",
   "execution_count": 38,
   "metadata": {},
   "outputs": [
    {
     "data": {
      "text/plain": [
       "4"
      ]
     },
     "execution_count": 38,
     "metadata": {},
     "output_type": "execute_result"
    }
   ],
   "source": [
    "sorted(list(set([3, 9, 9, 3, 6, 7, 2, 4, 3, 2, 8, 3, 1, 9, 3, 1, 8, 6, 8, 1])))[-5]"
   ]
  },
  {
   "cell_type": "code",
   "execution_count": 39,
   "metadata": {},
   "outputs": [
    {
     "data": {
      "text/plain": [
       "[3, 9, 6, 7, 2, 4, 8, 1]"
      ]
     },
     "execution_count": 39,
     "metadata": {},
     "output_type": "execute_result"
    }
   ],
   "source": [
    "lst = [3, 9, 9, 3, 6, 7, 2, 4, 3, 2, 8, 3, 1, 9, 3, 1, 8, 6, 8, 1]\n",
    "lst_singles = []\n",
    "for n in lst:\n",
    "    if n not in lst_singles:\n",
    "        lst_singles.append(n)\n",
    "    \n",
    "lst_singles"
   ]
  },
  {
   "cell_type": "code",
   "execution_count": 40,
   "metadata": {},
   "outputs": [
    {
     "data": {
      "text/plain": [
       "[3, 9, 6, 7, 2, 4, 8, 1]"
      ]
     },
     "execution_count": 40,
     "metadata": {},
     "output_type": "execute_result"
    }
   ],
   "source": [
    "lst = [3, 9, 9, 3, 6, 7, 2, 4, 3, 2, 8, 3, 1, 9, 3, 1, 8, 6, 8, 1]\n",
    "lst_singles = []\n",
    "for n in lst:\n",
    "    if not n in lst_singles:\n",
    "        lst_singles.append(n)\n",
    "    \n",
    "lst_singles"
   ]
  },
  {
   "cell_type": "markdown",
   "metadata": {},
   "source": [
    "#### 예제 7\n",
    "\n",
    "다음과 같이 주어지는 두 개의 리스트가 있다.\n",
    "```\n",
    "lst_1 = [1, 10, 9, 5, 3, 3, 2, 1, 7, 8]\n",
    "lst_2 = [1, 2, 11, 15, 6, 3, 3, 6]\n",
    "```\n",
    "\n",
    "for loop을 사용하여 lst_1과 lst_2에 공통적으로 있는 원소(중복제거)들을 원소로 갖는 리스트 lst 를 만들어라.\n",
    "단, 원소의 크기는 오름차순으로 정렬되어야 하고, set() 함수는 사용하지 말아야 한다.\n",
    "답은 다음과 같아야 한다.\n",
    "```\n",
    "lst: [1, 2, 3]\n",
    "```"
   ]
  },
  {
   "cell_type": "code",
   "execution_count": 41,
   "metadata": {},
   "outputs": [
    {
     "data": {
      "text/plain": [
       "[1, 2, 3]"
      ]
     },
     "execution_count": 41,
     "metadata": {},
     "output_type": "execute_result"
    }
   ],
   "source": [
    "lst_1 = [1, 10, 9, 5, 3, 3, 2, 1, 7, 8]\n",
    "lst_2 = [1, 2, 11, 15, 6, 3, 3, 6]\n",
    "lst = []\n",
    "for n in lst_1:\n",
    "    if n in lst_2 and n not in lst:\n",
    "        lst.append(n)\n",
    "    \n",
    "sorted(lst)"
   ]
  },
  {
   "cell_type": "markdown",
   "metadata": {},
   "source": [
    "#### 예제 8\n",
    "구간 $[0, 10]$에 있는 정수 $n$에 대해서 $x[n]$은 다음과 같이 표현된다.\n",
    "$$\n",
    "x = \\begin{cases}\n",
    "2n + 1 & 0 \\le n \\le 5 \\\\\n",
    "21 - 2n & 5 < n \\le 10\n",
    "\\end{cases}\n",
    "$$\n",
    "\n",
    "아래 셀의 프로그램은 $x[n]$을 리스트로 만드는 프로그램이다. "
   ]
  },
  {
   "cell_type": "markdown",
   "metadata": {},
   "source": [
    "$$ 0 \\le n \\le 5 \\\\\n",
    "x = 1, 3, 5, 7, 9, 11 \\\\\n",
    "5 < n \\le 10 \\\\\n",
    "x = 9, 7, 5, 3, 1 $$"
   ]
  },
  {
   "cell_type": "code",
   "execution_count": 43,
   "metadata": {},
   "outputs": [
    {
     "name": "stdout",
     "output_type": "stream",
     "text": [
      "[1, 3, 5, 7, 9, 11, 9, 7, 5, 3, 1]\n"
     ]
    }
   ],
   "source": [
    "x = [1,3,5,7,9, 11] + [9,7,5,3,1]\n",
    "print(x)"
   ]
  },
  {
   "cell_type": "code",
   "execution_count": 46,
   "metadata": {},
   "outputs": [
    {
     "name": "stdout",
     "output_type": "stream",
     "text": [
      "[1, 3, 5, 7, 9, 11, 9, 7, 5, 3, 1]\n"
     ]
    }
   ],
   "source": [
    "x = [2*n + 1 for n in range(6)] + [21 - 2*n for n in range(6, 11)]\n",
    "print(x)"
   ]
  },
  {
   "cell_type": "markdown",
   "metadata": {},
   "source": [
    "#### 예제 9.\n",
    "List의 + 연산을 사용하지 말고 for loop와 if-else 문을 사용하여 x를 리스트로 표현하는 아래 프로그램을 완성하라."
   ]
  },
  {
   "cell_type": "code",
   "execution_count": 48,
   "metadata": {},
   "outputs": [
    {
     "name": "stdout",
     "output_type": "stream",
     "text": [
      "[1, 3, 5, 7, 9, 11, 9, 7, 5, 3, 1]\n"
     ]
    }
   ],
   "source": [
    "x = []\n",
    "for n in range(11):\n",
    "    if n <= 5:\n",
    "        x.append(2*n + 1)\n",
    "    else:\n",
    "        x.append(21 - 2*n)\n",
    "    \n",
    "print(x)"
   ]
  },
  {
   "cell_type": "markdown",
   "metadata": {},
   "source": [
    "#### 예제 10.\n",
    "예제 9를 list comprehension을 이용하여 풀어라."
   ]
  },
  {
   "cell_type": "code",
   "execution_count": 49,
   "metadata": {},
   "outputs": [
    {
     "name": "stdout",
     "output_type": "stream",
     "text": [
      "[1, 3, 5, 7, 9, 11, 9, 7, 5, 3, 1]\n"
     ]
    }
   ],
   "source": [
    "x = [2*n + 1 if n <= 5 else 21 - 2*n for n in range(11)]\n",
    "print(x)"
   ]
  },
  {
   "cell_type": "markdown",
   "metadata": {},
   "source": [
    "#### 예제 11.\n",
    "구간 $[0, 15]$에 있는 정수 $n$에 대해서 $a[n]$은 다음과 같이 표현된다.\n",
    "$$\n",
    "a[n] = \\begin{cases}\n",
    "2n + 1 & 0 \\le n \\le 5 \\\\\n",
    "21 - 2n & 5 < n \\le 10 \\\\\n",
    "2n - 19 & 10 < n \\le 15 \n",
    "\\end{cases}\n",
    "$$\n",
    "\n",
    "List의 + 연산을 사용하지 말고 \n",
    "for loop와 if-else 문을 사용하여 $a[n]$를 리스트 a로 표현하고 a를 콘솔에 출력하는 아래 프로그램을 완성하라."
   ]
  },
  {
   "cell_type": "code",
   "execution_count": 52,
   "metadata": {},
   "outputs": [
    {
     "name": "stdout",
     "output_type": "stream",
     "text": [
      "[1, 3, 5, 7, 9, 11, 9, 7, 5, 3, 1, 3, 5, 7, 9, 11]\n"
     ]
    }
   ],
   "source": [
    "a = []\n",
    "for n in range(16):\n",
    "    if n <= 5:\n",
    "        a.append(2*n + 1)\n",
    "    elif n <= 10:\n",
    "        a.append(21 - 2*n)\n",
    "    else:\n",
    "        a.append(2*n - 19)\n",
    "    \n",
    "print(a)        "
   ]
  },
  {
   "cell_type": "code",
   "execution_count": 53,
   "metadata": {},
   "outputs": [
    {
     "name": "stdout",
     "output_type": "stream",
     "text": [
      "[1, 3, 5, 7, 9, 11, 9, 7, 5, 3, 1, 3, 5, 7, 9, 11]\n"
     ]
    }
   ],
   "source": [
    "a = []\n",
    "for n in range(16):\n",
    "    if n <= 5:\n",
    "        a.append(2*n + 1)\n",
    "    else:\n",
    "        if n <= 10:\n",
    "            a.append(21 - 2*n)\n",
    "        else:\n",
    "            a.append(2*n - 19)\n",
    "    \n",
    "print(a)        "
   ]
  },
  {
   "cell_type": "markdown",
   "metadata": {},
   "source": [
    "#### 예제 12.\n",
    "예제 11의 a를 list comprehension을 이용하여 작성하고 콘솔에 출력하라."
   ]
  },
  {
   "cell_type": "code",
   "execution_count": 56,
   "metadata": {
    "scrolled": true
   },
   "outputs": [
    {
     "name": "stdout",
     "output_type": "stream",
     "text": [
      "[1, 3, 5, 7, 9, 11, 9, 7, 5, 3, 1, 3, 5, 7, 9, 11]\n"
     ]
    }
   ],
   "source": [
    "a = [2*n + 1 if n <= 5 else 21 - 2*n if n <= 10 else 2*n - 19 for n in range(16)]\n",
    "print(a)"
   ]
  },
  {
   "cell_type": "markdown",
   "metadata": {},
   "source": [
    "#### 예제 13.\n",
    "\n",
    "다음과 같은 8-bit minifloat format이 있다고 가정하자.\n",
    "\n",
    "<table style=\"border:1px solid black;\">\n",
    "    <thead>\n",
    "        <tr>\n",
    "            <th style=\"border:1px solid black;\">b7</th>\n",
    "            <th style=\"border:1px solid black;\">b6</th>\n",
    "            <th style=\"border:1px solid black;\">b5</th>\n",
    "            <th style=\"border:1px solid black;\">b4</th>\n",
    "            <th style=\"border:1px solid black;\">b3</th>\n",
    "            <th style=\"border:1px solid black;\">b2</th>\n",
    "            <th style=\"border:1px solid black;\">b1</th>\n",
    "            <th style=\"border:1px solid black;\">b0</th>\n",
    "        </tr>\n",
    "        <tr>\n",
    "            <td style=\"border:1px solid black;\">sign (1 bit)</td>\n",
    "            <td colspan=4 style=\"border:1px solid black;\">q = e + 7 (4 btis)</td>\n",
    "            <td colspan=3 style=\"border:1px solid black;\">mantissa (3 btis))</td>\n",
    "        </tr>\n",
    "    </thead>\n",
    "    \n",
    "</table>\n",
    "\n",
    "위 형식으로 표현된 8 bits 이진수를 10 진수 실수로 변환하면 다음과 같다.\n",
    "\n",
    "$$x=(-1)^{b_7}×(1.b_2 b_1 b_0)_2×2^e=(-1)^{b_7}×(1.b_2 b_1 b_0)_2×2^{q-7}$$\n",
    "\n",
    "여기에서, 다음 4 가지 이진수는 다음과 같은 의미를 갖는다고 정의하자.\n",
    "- 0 0000 000 = 0\n",
    "- 1 0000 000 = -0\n",
    "- 0 1111 000 = +infinity\n",
    "- 1 1111 000 = -infinity\n",
    "\n",
    "위의 4 가지 이진수 이외의 이진수들은 다음과 같이 변환된다.\n",
    "\n",
    "예를 들면, 0 1011 101은 다음과 같다.\n",
    "$$0 1011 101 = (-1)^0 \\times (1.101)_2\\times 2^{11-7}=(1.101)_2\\times 2^4=(11010)_2$$\n",
    "$$(11010)_2 = 0 \\times 1 + 1 \\times 2^1 + 0 \\times 2^2 + 1 \\times 2^3 + 1 \\times 2^4 = 2 + 8 + 16 = 26$$\n",
    "\n",
    "예를 들면, 1 0110 001은 다음과 같다.\n",
    "$$ 1 0110 001 = (-1)^1\\times(1.001)_2\\times2^{6-7}=-(1.001)_2\\times2^{-1}=-(0.1001)_2$$\n",
    "$$ -(0.1001)_2 = -\\left(1\\times 2^{-1} + 2^{-4} = 0.5 + 0.1625\\right) =  -0.5625$$\n",
    "\n"
   ]
  },
  {
   "cell_type": "markdown",
   "metadata": {},
   "source": [
    "b6, b5, b4, b3을 이진수 문자열에서 추출하기"
   ]
  },
  {
   "cell_type": "code",
   "execution_count": 57,
   "metadata": {},
   "outputs": [
    {
     "data": {
      "text/plain": [
       "'0110'"
      ]
     },
     "execution_count": 57,
     "metadata": {},
     "output_type": "execute_result"
    }
   ],
   "source": [
    "bnum = \"00110011\"\n",
    "bnum[1:5]"
   ]
  },
  {
   "cell_type": "markdown",
   "metadata": {},
   "source": [
    "무한 출력"
   ]
  },
  {
   "cell_type": "code",
   "execution_count": 70,
   "metadata": {},
   "outputs": [
    {
     "name": "stdout",
     "output_type": "stream",
     "text": [
      "-inf\n"
     ]
    }
   ],
   "source": [
    "bnum = '11111000'\n",
    "if bnum == '11111000':\n",
    "    print(-float('inf'))"
   ]
  },
  {
   "cell_type": "code",
   "execution_count": 68,
   "metadata": {},
   "outputs": [
    {
     "data": {
      "text/plain": [
       "inf"
      ]
     },
     "execution_count": 68,
     "metadata": {},
     "output_type": "execute_result"
    }
   ],
   "source": [
    "float('inf')"
   ]
  },
  {
   "cell_type": "markdown",
   "metadata": {},
   "source": [
    "$$x=(-1)^{b_7}×(1.b_2 b_1 b_0)_2×2^e=(-1)^{b_7}×(1.b_2 b_1 b_0)_2×2^{q-7}$$"
   ]
  },
  {
   "cell_type": "markdown",
   "metadata": {},
   "source": [
    "#### 문제 1.\n",
    "\n",
    "예제 13에 주어진 8-bit minifloat format으로 표현된 다음 8 bits 이진수들을 10 진수 실수로 변환하는 과정을 설명하라.\n",
    "\n",
    "1) 0 1011 111 \n",
    "\n",
    "2) 0 0011 011 \n",
    "\n",
    "3) 1 0110 101 \n",
    "\n",
    "4) 1 0110 101 "
   ]
  },
  {
   "cell_type": "markdown",
   "metadata": {},
   "source": [
    "##### 답:\n",
    "\n",
    "1) 0 1011 111 \n",
    "\n",
    " $ {b_7} = 0, 이진수 : 1011 → 10진수 : 11 = q\\\\\n",
    " 따라서 q = e + 7, e = 11 - 7 = 4 \\\\\n",
    " x = (-1)^0×(1.111)_2×2^4 \\\\\n",
    " (1.111)_2×2^4 = 11110_2 \\\\\n",
    " 11110_2 = 1×2^4 + 1×2^3 + 1×2^2 + 1×2^1 + 0×2^0 = 30$\n",
    " \n",
    "2) 0 0011 011 \n",
    "\n",
    " $ {b_7} = 0, 이진수 : 0011 → 10진수 : 3 = q\\\\\n",
    " 따라서 q = e + 7, e = 3 - 7 = -4 \\\\\n",
    " x = (-1)^0×(1.011)_2×2^{-4} \\\\\n",
    " (1.011)_2×2^{-4} = 0.0001011_2 \\\\\n",
    " 0.0001011_2 = 1×2^{-7} + 1×2^{-6} + 1×2^{-4} = 2^{-7} + 2^{-6} + 2^{-4} = 0.0859375$\n",
    "\n",
    "3) 1 0110 101 \n",
    "\n",
    "$ {b_7} = 1, 이진수 : 0110 → 10진수 : 6 = q\\\\\n",
    " 따라서 q = e + 7, e = 6 - 7 = -1 \\\\\n",
    " x = (-1)^1×(1.101)_2×2^{-1} \\\\\n",
    " -(1.101)_2×2^{-1} = -(0.1101)_2 \\\\\n",
    " -(0.1101)_2 = -(2^{-1} + 2^{-2} + 2^{-4}) = -0.8125$\n",
    "\n",
    "4) 1 0110 101\n",
    " - 3)문제와 같다\n",
    "$ {b_7} = 1, 이진수 : 0110 → 10진수 : 6 = q\\\\\n",
    " 따라서 q = e + 7, e = 6 - 7 = -1 \\\\\n",
    " x = (-1)^1×(1.101)_2×2^{-1} \\\\\n",
    " -(1.101)_2×2^{-1} = -(0.1101)_2 \\\\\n",
    " -(0.1101)_2 = -(2^{-1} + 2^{-2} + 2^{-4}) = -0.8125$"
   ]
  },
  {
   "cell_type": "markdown",
   "metadata": {},
   "source": [
    "#### 문제 2.\n",
    "\n",
    "키보드로 8 자리 이진문자열을 입력 받아서, 이 문자열을 예제 13에 정의된 minifloat format으로 표현된 8 비트 이진수라고 가정하고 $e$를 구하여 콘솔에 출력하는 프로그램을 작성하고, 이 프로그램을 이용해서 문제 1에 주어진 4 개의 숫자들의 $e$ 값을 손으로 구한 것과 같은지 확인하라.\n"
   ]
  },
  {
   "cell_type": "markdown",
   "metadata": {},
   "source": [
    "$e = q - 7$\n",
    "\n",
    "1) 0 1011 111 \n",
    "\n",
    "2) 0 0011 011 \n",
    "\n",
    "3) 1 0110 101 \n",
    "\n",
    "4) 1 0110 101 "
   ]
  },
  {
   "cell_type": "code",
   "execution_count": 111,
   "metadata": {},
   "outputs": [
    {
     "name": "stdout",
     "output_type": "stream",
     "text": [
      "['01011111', '00011011', '10110101', '10110101']\n",
      "['1011', '0011', '0110', '0110']\n",
      "q = [11, 3, 6, 6]\n",
      "e = [4, -4, -1, -1]\n"
     ]
    }
   ],
   "source": [
    "bnum1 = \"01011111\"\n",
    "bnum2 = \"00011011\"\n",
    "bnum3 = \"10110101\"\n",
    "bnum4 = bnum3\n",
    "all_bnum = [bnum1, bnum2, bnum3, bnum4]\n",
    "print(all_bnum)\n",
    "\n",
    "qb_bnum = []\n",
    "for n in all_bnum:\n",
    "    qb_bnum.append(n[1:5])\n",
    "\n",
    "print(qb_bnum)\n",
    "\n",
    "q_bnum = []\n",
    "for i in qb_bnum:\n",
    "    temp = 0\n",
    "    for j in range(4):\n",
    "        if i[j] == '1':\n",
    "            temp += 2**(3-j)\n",
    "    q_bnum.append(temp)\n",
    "    \n",
    "print(\"q =\",q_bnum)\n",
    "\n",
    "e_bnum = []\n",
    "for n in q_bnum:\n",
    "    e_bnum.append(n - 7)\n",
    "\n",
    "print(\"e =\",e_bnum)"
   ]
  },
  {
   "cell_type": "code",
   "execution_count": 120,
   "metadata": {},
   "outputs": [
    {
     "name": "stdout",
     "output_type": "stream",
     "text": [
      "01011111\n",
      "e = 4\n"
     ]
    }
   ],
   "source": [
    "bnum = input()\n",
    "qb_bnum = bnum[1:5]\n",
    "q_bnum = 0\n",
    "\n",
    "for i in range(4):\n",
    "    if qb_bnum[i] == '1':\n",
    "        q_bnum += 2**(3-i)\n",
    "\n",
    "e = q_bnum - 7\n",
    "print(\"e =\",e)"
   ]
  },
  {
   "cell_type": "markdown",
   "metadata": {},
   "source": [
    "#### 문제 3.\n",
    "\n",
    "키보드로 8 자리 이진문자열을 입력 받아서, 이 문자열을 예제 13에 정의된 minifloat format으로 표현된 8 비트 이진수라고 가정하고 $(1.𝑏_2 𝑏_1 𝑏_0)_2$를 실수로 계산하여 콘솔에 출력하는 프로그램을 작성하라.\n"
   ]
  },
  {
   "cell_type": "markdown",
   "metadata": {},
   "source": [
    "$$x=(-1)^{b_7}×(1.b_2 b_1 b_0)_2×2^e=(-1)^{b_7}×(1.b_2 b_1 b_0)_2×2^{q-7}$$"
   ]
  },
  {
   "cell_type": "code",
   "execution_count": 277,
   "metadata": {},
   "outputs": [
    {
     "name": "stdout",
     "output_type": "stream",
     "text": [
      "10110101\n",
      "e = -1\n",
      "1.b2b1b0 =  1.101\n",
      "10진수 b2b1b0 = 0.8125\n"
     ]
    }
   ],
   "source": [
    "bnum = input()\n",
    "qb_bnum = bnum[1:5]\n",
    "q_bnum = 0\n",
    "\n",
    "for i in range(4):\n",
    "    if qb_bnum[i] == '1':\n",
    "        q_bnum += 2**(3-i)\n",
    "\n",
    "e = q_bnum - 7\n",
    "print(\"e =\",e)\n",
    "\n",
    "b2b1b0 = '1.'\n",
    "b2b1b0 += bnum[5:8]\n",
    "print(\"1.b2b1b0 = \",b2b1b0)\n",
    "\n",
    "b2b1b0 = float(b2b1b0) * 10**e\n",
    "\n",
    "temp = 0\n",
    "if e >= 3:\n",
    "    b2b1b0 = str(int(b2b1b0))\n",
    "    for n in range(len(b2b1b0)):\n",
    "        if b2b1b0[-n-1] == '1':\n",
    "            temp += 2**n\n",
    "elif e < 0: # 0.1111, e = -1\n",
    "    b2b1b0 *= 10**(3+(-e))\n",
    "    b2b1b0 = str(int(b2b1b0))\n",
    "    for n in range(len(b2b1b0)):\n",
    "        if b2b1b0[n] == '1':\n",
    "            temp += 2**(-(n-e)) #앞에 0이 붙는 수만큼 -e를 더해줌\n",
    "else: # 1.111, 11.11, 111.1\n",
    "    b_i = str(int(b2b1b0))# b2b1b0의 정수부분\n",
    "    b_f = round(b2b1b0 - int(b_i), 3) * 10**(3-e) # 실수값이 이상하게 나와서 반올림 사용\n",
    "    b_f = str(int(b_f))  # b2b1b0의 실수부분\n",
    "    temp = 0\n",
    "    for n in range(len(b_i)):\n",
    "        if b_i[-n-1] == '1':\n",
    "            temp += 2**n\n",
    "    for n in range(len(b_f)):\n",
    "        if b_f[n] == '1':\n",
    "            temp += 2**(-(n+1))\n",
    "\n",
    "b2b1b0 = temp\n",
    "print(\"10진수 b2b1b0 =\", b2b1b0)"
   ]
  },
  {
   "cell_type": "markdown",
   "metadata": {},
   "source": [
    "#### 문제 4. \n",
    "키보드로 8 자리 이진문자열을 입력 받아서, 이 문자열을 예제 13에 정의된 minifloat format으로 표현된 8 비트 이진수라고 가정하고 그것을 실수로 변환하여 콘솔에 출력하는 프로그램을 작성하라.그리고 문제 1에 주어진 4 개의 이진수를 사용하여 손으로 구한 결과와 프로그램으로 구한 결과가 같은지 확인하라."
   ]
  },
  {
   "cell_type": "markdown",
   "metadata": {},
   "source": [
    "이진문자열 입력 및 처리 부분"
   ]
  },
  {
   "cell_type": "code",
   "execution_count": 291,
   "metadata": {},
   "outputs": [
    {
     "name": "stdout",
     "output_type": "stream",
     "text": [
      "10110101\n",
      "b_7 = 1\n",
      "e = -1\n"
     ]
    }
   ],
   "source": [
    "bnum = input()\n",
    "qb_bnum = bnum[1:5]\n",
    "q_bnum = 0\n",
    "b_7 = int(bnum[0])\n",
    "\n",
    "for i in range(4):\n",
    "    if qb_bnum[i] == '1':\n",
    "        q_bnum += 2**(3-i)\n",
    "\n",
    "e = q_bnum - 7\n",
    "\n",
    "print(\"b_7 =\",b_7)\n",
    "print(\"e =\",e)"
   ]
  },
  {
   "cell_type": "markdown",
   "metadata": {},
   "source": [
    "$(1.𝑏_2 𝑏_1 𝑏_0)_2 계산 부분$"
   ]
  },
  {
   "cell_type": "code",
   "execution_count": 292,
   "metadata": {},
   "outputs": [
    {
     "name": "stdout",
     "output_type": "stream",
     "text": [
      "입력된 2진수 = 10110101\n",
      "1.b2b1b0 =  1.101\n",
      "10진수 b2b1b0 = 0.8125\n"
     ]
    }
   ],
   "source": [
    "print(\"입력된 2진수 =\", bnum)\n",
    "\n",
    "b2b1b0 = '1.'\n",
    "b2b1b0 += bnum[5:8]\n",
    "print(\"1.b2b1b0 = \",b2b1b0)\n",
    "\n",
    "b2b1b0 = float(b2b1b0) * 10**e\n",
    "\n",
    "temp = 0\n",
    "if e >= 3:\n",
    "    b2b1b0 = str(int(b2b1b0))\n",
    "    for n in range(len(b2b1b0)):\n",
    "        if b2b1b0[-n-1] == '1':\n",
    "            temp += 2**n\n",
    "elif e < 0: # 0.1111, e = -1\n",
    "    b2b1b0 *= 10**(3+(-e))\n",
    "    b2b1b0 = str(int(b2b1b0))\n",
    "    for n in range(len(b2b1b0)):\n",
    "        if b2b1b0[n] == '1':\n",
    "            temp += 2**(-(n-e)) #앞에 0이 붙는 수만큼 -e를 더해줌\n",
    "else: # 1.111, 11.11, 111.1\n",
    "    b_i = str(int(b2b1b0))# b2b1b0의 정수부분\n",
    "    b_f = round(b2b1b0 - int(b_i), 3) * 10**(3-e) # 실수값이 이상하게 나와서 반올림 사용\n",
    "    b_f = str(int(b_f))  # b2b1b0의 실수부분\n",
    "    temp = 0\n",
    "    for n in range(len(b_i)):\n",
    "        if b_i[-n-1] == '1':\n",
    "            temp += 2**n\n",
    "    for n in range(len(b_f)):\n",
    "        if b_f[n] == '1':\n",
    "            temp += 2**(-(n+1))\n",
    "\n",
    "b2b1b0 = temp\n",
    "print(\"10진수 b2b1b0 =\", b2b1b0)"
   ]
  },
  {
   "cell_type": "markdown",
   "metadata": {},
   "source": [
    "최종 계산 결과"
   ]
  },
  {
   "cell_type": "code",
   "execution_count": 294,
   "metadata": {},
   "outputs": [
    {
     "name": "stdout",
     "output_type": "stream",
     "text": [
      "2진수 10110101 → 10진수 -0.8125\n"
     ]
    }
   ],
   "source": [
    "final = (-1)**b_7 * b2b1b0\n",
    "\n",
    "if b_7:\n",
    "    print(\"2진수 {0} → 10진수 {1}\".format(bnum, final))\n",
    "else:\n",
    "    print(\"2진수 {0} → 10진수 {1}\".format(bnum, final))"
   ]
  },
  {
   "cell_type": "markdown",
   "metadata": {},
   "source": [
    "## 최종 코드\n",
    "\n",
    " - 4가지 경우 추가 0, -0, inf, -inf"
   ]
  },
  {
   "cell_type": "code",
   "execution_count": 9,
   "metadata": {},
   "outputs": [
    {
     "name": "stdout",
     "output_type": "stream",
     "text": [
      "11111000\n",
      "2진수 11111000 → 10진수 -inf\n"
     ]
    }
   ],
   "source": [
    "bnum = input()\n",
    "qb_bnum = bnum[1:5]\n",
    "q_bnum = 0\n",
    "b_7 = int(bnum[0])\n",
    "\n",
    "if len(bnum) == 8:\n",
    "    for i in range(4):\n",
    "        if qb_bnum[i] == '1':\n",
    "            q_bnum += 2**(3-i)\n",
    "\n",
    "    e = q_bnum - 7\n",
    "\n",
    "    b2b1b0 = '1.'\n",
    "    b2b1b0 += bnum[5:8]\n",
    "\n",
    "    b2b1b0 = float(b2b1b0) * 10**e\n",
    "\n",
    "    temp = 0\n",
    "    if e >= 3:\n",
    "        b2b1b0 = str(int(b2b1b0))\n",
    "        for n in range(len(b2b1b0)):\n",
    "            if b2b1b0[-n-1] == '1':\n",
    "                temp += 2**n\n",
    "    elif e < 0: # 0.1111, e = -1\n",
    "        b2b1b0 *= 10**(3+(-e))\n",
    "        b2b1b0 = str(int(b2b1b0))\n",
    "        for n in range(len(b2b1b0)):\n",
    "            if b2b1b0[n] == '1':\n",
    "                temp += 2**(-(n-e)) #앞에 0이 붙는 수만큼 -e를 더해줌\n",
    "    else: # 1.111, 11.11, 111.1\n",
    "        b_i = str(int(b2b1b0))# b2b1b0의 정수부분\n",
    "        b_f = round(b2b1b0 - int(b_i), 3) * 10**(3-e) # 실수값이 이상하게 나와서 반올림 사용\n",
    "        b_f = str(int(b_f))  # b2b1b0의 실수부분\n",
    "        temp = 0\n",
    "        for n in range(len(b_i)):\n",
    "            if b_i[-n-1] == '1':\n",
    "                temp += 2**n\n",
    "        for n in range(len(b_f)):\n",
    "            if b_f[n] == '1':\n",
    "                temp += 2**(-(n+1))\n",
    "\n",
    "    b2b1b0 = temp\n",
    "\n",
    "    if bnum == \"00000000\":\n",
    "        final = 0.0\n",
    "    elif bnum == \"10000000\":\n",
    "        final = -0.0\n",
    "    elif bnum == \"01111000\":\n",
    "        final = float(\"inf\")\n",
    "    elif bnum == \"11111000\":\n",
    "        final = -float(\"inf\")\n",
    "    else:\n",
    "        final = (-1)**b_7 * b2b1b0\n",
    "\n",
    "    if b_7:\n",
    "        print(\"2진수 {0} → 10진수 {1}\".format(bnum, final))\n",
    "    else:\n",
    "        print(\"2진수 {0} → 10진수 {1}\".format(bnum, final))\n",
    "else:\n",
    "    print(\"8자리만 입력해주세요\")"
   ]
  },
  {
   "cell_type": "markdown",
   "metadata": {},
   "source": [
    "## 문제1. 답 확인"
   ]
  },
  {
   "cell_type": "code",
   "execution_count": 24,
   "metadata": {},
   "outputs": [
    {
     "name": "stdout",
     "output_type": "stream",
     "text": [
      "2진수 01011111 → 10진수 30\n",
      "2진수 00011011 → 10진수 0.078125\n",
      "2진수 10110101 → 10진수 -0.8125\n",
      "2진수 10110101 → 10진수 -0.8125\n"
     ]
    }
   ],
   "source": [
    "bnum1 = \"01011111\"\n",
    "bnum2 = \"00011011\"\n",
    "bnum3 = \"10110101\"\n",
    "bnum4 = bnum3\n",
    "bnum_list = [bnum1, bnum2, bnum3, bnum4]\n",
    "\n",
    "for n in bnum_list:\n",
    "    bnum = n\n",
    "    qb_bnum = bnum[1:5]\n",
    "    q_bnum = 0\n",
    "    b_7 = int(bnum[0])\n",
    "\n",
    "    if len(bnum) == 8:\n",
    "        for i in range(4):\n",
    "            if qb_bnum[i] == '1':\n",
    "                q_bnum += 2**(3-i)\n",
    "\n",
    "        e = q_bnum - 7\n",
    "\n",
    "        b2b1b0 = '1.'\n",
    "        b2b1b0 += bnum[5:8]\n",
    "\n",
    "        b2b1b0 = float(b2b1b0) * 10**e\n",
    "\n",
    "        temp = 0\n",
    "        if e >= 3:\n",
    "            b2b1b0 = str(int(b2b1b0))\n",
    "            for n in range(len(b2b1b0)):\n",
    "                if b2b1b0[-n-1] == '1':\n",
    "                    temp += 2**n\n",
    "        elif e < 0: # 0.1111, e = -1\n",
    "            b2b1b0 *= 10**(3+(-e))\n",
    "            b2b1b0 = str(int(b2b1b0))\n",
    "            for n in range(len(b2b1b0)):\n",
    "                if b2b1b0[n] == '1':\n",
    "                    temp += 2**(-(n-e)) #앞에 0이 붙는 수만큼 -e를 더해줌\n",
    "        else: # 1.111, 11.11, 111.1\n",
    "            b_i = str(int(b2b1b0))# b2b1b0의 정수부분\n",
    "            b_f = round(b2b1b0 - int(b_i), 3) * 10**(3-e) # 실수값이 이상하게 나와서 반올림 사용\n",
    "            b_f = str(int(b_f))  # b2b1b0의 실수부분\n",
    "            temp = 0\n",
    "            for n in range(len(b_i)):\n",
    "                if b_i[-n-1] == '1':\n",
    "                    temp += 2**n\n",
    "            for n in range(len(b_f)):\n",
    "                if b_f[n] == '1':\n",
    "                    temp += 2**(-(n+1))\n",
    "\n",
    "        b2b1b0 = temp\n",
    "\n",
    "        if bnum == \"00000000\":\n",
    "            final = 0.0\n",
    "        elif bnum == \"10000000\":\n",
    "            final = -0.0\n",
    "        elif bnum == \"01111000\":\n",
    "            final = float(\"inf\")\n",
    "        elif bnum == \"11111000\":\n",
    "            final = -float(\"inf\")\n",
    "        else:\n",
    "            final = (-1)**b_7 * b2b1b0\n",
    "\n",
    "        if b_7:\n",
    "            print(\"2진수 {0} → 10진수 {1}\".format(bnum, final))\n",
    "        else:\n",
    "            print(\"2진수 {0} → 10진수 {1}\".format(bnum, final))\n",
    "    else:\n",
    "        print(\"8자리만 입력해주세요\")"
   ]
  },
  {
   "cell_type": "markdown",
   "metadata": {},
   "source": [
    "256까지의 숫자를 for loop을 이용해서 전부 출력"
   ]
  },
  {
   "cell_type": "code",
   "execution_count": 22,
   "metadata": {},
   "outputs": [
    {
     "name": "stdout",
     "output_type": "stream",
     "text": [
      "00000000\n",
      "00000001\n",
      "00000010\n",
      "00000011\n",
      "00000100\n",
      "00000101\n",
      "00000110\n",
      "00000111\n",
      "00001000\n",
      "00001001\n",
      "00001010\n",
      "00001011\n",
      "00001100\n",
      "00001101\n",
      "00001110\n",
      "00001111\n",
      "00010000\n",
      "00010001\n",
      "00010010\n",
      "00010011\n",
      "00010100\n",
      "00010101\n",
      "00010110\n",
      "00010111\n",
      "00011000\n",
      "00011001\n",
      "00011010\n",
      "00011011\n",
      "00011100\n",
      "00011101\n",
      "00011110\n",
      "00011111\n",
      "00100000\n",
      "00100001\n",
      "00100010\n",
      "00100011\n",
      "00100100\n",
      "00100101\n",
      "00100110\n",
      "00100111\n",
      "00101000\n",
      "00101001\n",
      "00101010\n",
      "00101011\n",
      "00101100\n",
      "00101101\n",
      "00101110\n",
      "00101111\n",
      "00110000\n",
      "00110001\n",
      "00110010\n",
      "00110011\n",
      "00110100\n",
      "00110101\n",
      "00110110\n",
      "00110111\n",
      "00111000\n",
      "00111001\n",
      "00111010\n",
      "00111011\n",
      "00111100\n",
      "00111101\n",
      "00111110\n",
      "00111111\n",
      "01000000\n",
      "01000001\n",
      "01000010\n",
      "01000011\n",
      "01000100\n",
      "01000101\n",
      "01000110\n",
      "01000111\n",
      "01001000\n",
      "01001001\n",
      "01001010\n",
      "01001011\n",
      "01001100\n",
      "01001101\n",
      "01001110\n",
      "01001111\n",
      "01010000\n",
      "01010001\n",
      "01010010\n",
      "01010011\n",
      "01010100\n",
      "01010101\n",
      "01010110\n",
      "01010111\n",
      "01011000\n",
      "01011001\n",
      "01011010\n",
      "01011011\n",
      "01011100\n",
      "01011101\n",
      "01011110\n",
      "01011111\n",
      "01100000\n",
      "01100001\n",
      "01100010\n",
      "01100011\n",
      "01100100\n",
      "01100101\n",
      "01100110\n",
      "01100111\n",
      "01101000\n",
      "01101001\n",
      "01101010\n",
      "01101011\n",
      "01101100\n",
      "01101101\n",
      "01101110\n",
      "01101111\n",
      "01110000\n",
      "01110001\n",
      "01110010\n",
      "01110011\n",
      "01110100\n",
      "01110101\n",
      "01110110\n",
      "01110111\n",
      "01111000\n",
      "01111001\n",
      "01111010\n",
      "01111011\n",
      "01111100\n",
      "01111101\n",
      "01111110\n",
      "01111111\n",
      "10000000\n",
      "10000001\n",
      "10000010\n",
      "10000011\n",
      "10000100\n",
      "10000101\n",
      "10000110\n",
      "10000111\n",
      "10001000\n",
      "10001001\n",
      "10001010\n",
      "10001011\n",
      "10001100\n",
      "10001101\n",
      "10001110\n",
      "10001111\n",
      "10010000\n",
      "10010001\n",
      "10010010\n",
      "10010011\n",
      "10010100\n",
      "10010101\n",
      "10010110\n",
      "10010111\n",
      "10011000\n",
      "10011001\n",
      "10011010\n",
      "10011011\n",
      "10011100\n",
      "10011101\n",
      "10011110\n",
      "10011111\n",
      "10100000\n",
      "10100001\n",
      "10100010\n",
      "10100011\n",
      "10100100\n",
      "10100101\n",
      "10100110\n",
      "10100111\n",
      "10101000\n",
      "10101001\n",
      "10101010\n",
      "10101011\n",
      "10101100\n",
      "10101101\n",
      "10101110\n",
      "10101111\n",
      "10110000\n",
      "10110001\n",
      "10110010\n",
      "10110011\n",
      "10110100\n",
      "10110101\n",
      "10110110\n",
      "10110111\n",
      "10111000\n",
      "10111001\n",
      "10111010\n",
      "10111011\n",
      "10111100\n",
      "10111101\n",
      "10111110\n",
      "10111111\n",
      "11000000\n",
      "11000001\n",
      "11000010\n",
      "11000011\n",
      "11000100\n",
      "11000101\n",
      "11000110\n",
      "11000111\n",
      "11001000\n",
      "11001001\n",
      "11001010\n",
      "11001011\n",
      "11001100\n",
      "11001101\n",
      "11001110\n",
      "11001111\n",
      "11010000\n",
      "11010001\n",
      "11010010\n",
      "11010011\n",
      "11010100\n",
      "11010101\n",
      "11010110\n",
      "11010111\n",
      "11011000\n",
      "11011001\n",
      "11011010\n",
      "11011011\n",
      "11011100\n",
      "11011101\n",
      "11011110\n",
      "11011111\n",
      "11100000\n",
      "11100001\n",
      "11100010\n",
      "11100011\n",
      "11100100\n",
      "11100101\n",
      "11100110\n",
      "11100111\n",
      "11101000\n",
      "11101001\n",
      "11101010\n",
      "11101011\n",
      "11101100\n",
      "11101101\n",
      "11101110\n",
      "11101111\n",
      "11110000\n",
      "11110001\n",
      "11110010\n",
      "11110011\n",
      "11110100\n",
      "11110101\n",
      "11110110\n",
      "11110111\n",
      "11111000\n",
      "11111001\n",
      "11111010\n",
      "11111011\n",
      "11111100\n",
      "11111101\n",
      "11111110\n",
      "11111111\n"
     ]
    }
   ],
   "source": [
    "for n in range(256):\n",
    "    bnum_list = \"{0:b}\".format(n).zfill(8)\n",
    "    print(bnum_list)"
   ]
  },
  {
   "cell_type": "code",
   "execution_count": 23,
   "metadata": {},
   "outputs": [
    {
     "name": "stdout",
     "output_type": "stream",
     "text": [
      "2진수 00000000 → 10진수 0.0\n",
      "2진수 00000001 → 10진수 0.0078125\n",
      "2진수 00000010 → 10진수 0.0078125\n",
      "2진수 00000011 → 10진수 0.009765625\n",
      "2진수 00000100 → 10진수 0.01171875\n",
      "2진수 00000101 → 10진수 0.01171875\n",
      "2진수 00000110 → 10진수 0.013671875\n",
      "2진수 00000111 → 10진수 0.0146484375\n",
      "2진수 00001000 → 10진수 0.015625\n",
      "2진수 00001001 → 10진수 0.015625\n",
      "2진수 00001010 → 10진수 0.015625\n",
      "2진수 00001011 → 10진수 0.01953125\n",
      "2진수 00001100 → 10진수 0.0234375\n",
      "2진수 00001101 → 10진수 0.025390625\n",
      "2진수 00001110 → 10진수 0.02734375\n",
      "2진수 00001111 → 10진수 0.029296875\n",
      "2진수 00010000 → 10진수 0.03125\n",
      "2진수 00010001 → 10진수 0.03125\n",
      "2진수 00010010 → 10진수 0.0390625\n",
      "2진수 00010011 → 10진수 0.04296875\n",
      "2진수 00010100 → 10진수 0.046875\n",
      "2진수 00010101 → 10진수 0.05078125\n",
      "2진수 00010110 → 10진수 0.0546875\n",
      "2진수 00010111 → 10진수 0.05859375\n",
      "2진수 00011000 → 10진수 0.0625\n",
      "2진수 00011001 → 10진수 0.0625\n",
      "2진수 00011010 → 10진수 0.078125\n",
      "2진수 00011011 → 10진수 0.078125\n",
      "2진수 00011100 → 10진수 0.09375\n",
      "2진수 00011101 → 10진수 0.1015625\n",
      "2진수 00011110 → 10진수 0.109375\n",
      "2진수 00011111 → 10진수 0.1171875\n",
      "2진수 00100000 → 10진수 0.125\n",
      "2진수 00100001 → 10진수 0.125\n",
      "2진수 00100010 → 10진수 0.15625\n",
      "2진수 00100011 → 10진수 0.171875\n",
      "2진수 00100100 → 10진수 0.1875\n",
      "2진수 00100101 → 10진수 0.203125\n",
      "2진수 00100110 → 10진수 0.21875\n",
      "2진수 00100111 → 10진수 0.234375\n",
      "2진수 00101000 → 10진수 0.25\n",
      "2진수 00101001 → 10진수 0.28125\n",
      "2진수 00101010 → 10진수 0.3125\n",
      "2진수 00101011 → 10진수 0.3125\n",
      "2진수 00101100 → 10진수 0.375\n",
      "2진수 00101101 → 10진수 0.40625\n",
      "2진수 00101110 → 10진수 0.4375\n",
      "2진수 00101111 → 10진수 0.46875\n",
      "2진수 00110000 → 10진수 0.5\n",
      "2진수 00110001 → 10진수 0.5625\n",
      "2진수 00110010 → 10진수 0.625\n",
      "2진수 00110011 → 10진수 0.6875\n",
      "2진수 00110100 → 10진수 0.75\n",
      "2진수 00110101 → 10진수 0.8125\n",
      "2진수 00110110 → 10진수 0.875\n",
      "2진수 00110111 → 10진수 0.9375\n",
      "2진수 00111000 → 10진수 1\n",
      "2진수 00111001 → 10진수 1.5\n",
      "2진수 00111010 → 10진수 1.5\n",
      "2진수 00111011 → 10진수 1.75\n",
      "2진수 00111100 → 10진수 1.5\n",
      "2진수 00111101 → 10진수 1.625\n",
      "2진수 00111110 → 10진수 1.75\n",
      "2진수 00111111 → 10진수 1.875\n",
      "2진수 01000000 → 10진수 2\n",
      "2진수 01000001 → 10진수 2.5\n",
      "2진수 01000010 → 10진수 2.5\n",
      "2진수 01000011 → 10진수 2.75\n",
      "2진수 01000100 → 10진수 3\n",
      "2진수 01000101 → 10진수 3.5\n",
      "2진수 01000110 → 10진수 3.5\n",
      "2진수 01000111 → 10진수 3.75\n",
      "2진수 01001000 → 10진수 4\n",
      "2진수 01001001 → 10진수 4.5\n",
      "2진수 01001010 → 10진수 5\n",
      "2진수 01001011 → 10진수 5.5\n",
      "2진수 01001100 → 10진수 6\n",
      "2진수 01001101 → 10진수 6.5\n",
      "2진수 01001110 → 10진수 7\n",
      "2진수 01001111 → 10진수 7.5\n",
      "2진수 01010000 → 10진수 8\n",
      "2진수 01010001 → 10진수 8\n",
      "2진수 01010010 → 10진수 10\n",
      "2진수 01010011 → 10진수 10\n",
      "2진수 01010100 → 10진수 12\n",
      "2진수 01010101 → 10진수 13\n",
      "2진수 01010110 → 10진수 14\n",
      "2진수 01010111 → 10진수 15\n",
      "2진수 01011000 → 10진수 16\n",
      "2진수 01011001 → 10진수 16\n",
      "2진수 01011010 → 10진수 20\n",
      "2진수 01011011 → 10진수 20\n",
      "2진수 01011100 → 10진수 24\n",
      "2진수 01011101 → 10진수 26\n",
      "2진수 01011110 → 10진수 28\n",
      "2진수 01011111 → 10진수 30\n",
      "2진수 01100000 → 10진수 32\n",
      "2진수 01100001 → 10진수 32\n",
      "2진수 01100010 → 10진수 40\n",
      "2진수 01100011 → 10진수 40\n",
      "2진수 01100100 → 10진수 48\n",
      "2진수 01100101 → 10진수 52\n",
      "2진수 01100110 → 10진수 56\n",
      "2진수 01100111 → 10진수 60\n",
      "2진수 01101000 → 10진수 64\n",
      "2진수 01101001 → 10진수 64\n",
      "2진수 01101010 → 10진수 80\n",
      "2진수 01101011 → 10진수 80\n",
      "2진수 01101100 → 10진수 96\n",
      "2진수 01101101 → 10진수 104\n",
      "2진수 01101110 → 10진수 112\n",
      "2진수 01101111 → 10진수 120\n",
      "2진수 01110000 → 10진수 128\n",
      "2진수 01110001 → 10진수 128\n",
      "2진수 01110010 → 10진수 160\n",
      "2진수 01110011 → 10진수 160\n",
      "2진수 01110100 → 10진수 192\n",
      "2진수 01110101 → 10진수 208\n",
      "2진수 01110110 → 10진수 224\n",
      "2진수 01110111 → 10진수 240\n",
      "2진수 01111000 → 10진수 inf\n",
      "2진수 01111001 → 10진수 256\n",
      "2진수 01111010 → 10진수 320\n",
      "2진수 01111011 → 10진수 320\n",
      "2진수 01111100 → 10진수 384\n",
      "2진수 01111101 → 10진수 416\n",
      "2진수 01111110 → 10진수 448\n",
      "2진수 01111111 → 10진수 480\n",
      "2진수 10000000 → 10진수 -0.0\n",
      "2진수 10000001 → 10진수 -0.0078125\n",
      "2진수 10000010 → 10진수 -0.0078125\n",
      "2진수 10000011 → 10진수 -0.009765625\n",
      "2진수 10000100 → 10진수 -0.01171875\n",
      "2진수 10000101 → 10진수 -0.01171875\n",
      "2진수 10000110 → 10진수 -0.013671875\n",
      "2진수 10000111 → 10진수 -0.0146484375\n",
      "2진수 10001000 → 10진수 -0.015625\n",
      "2진수 10001001 → 10진수 -0.015625\n",
      "2진수 10001010 → 10진수 -0.015625\n",
      "2진수 10001011 → 10진수 -0.01953125\n",
      "2진수 10001100 → 10진수 -0.0234375\n",
      "2진수 10001101 → 10진수 -0.025390625\n",
      "2진수 10001110 → 10진수 -0.02734375\n",
      "2진수 10001111 → 10진수 -0.029296875\n",
      "2진수 10010000 → 10진수 -0.03125\n",
      "2진수 10010001 → 10진수 -0.03125\n",
      "2진수 10010010 → 10진수 -0.0390625\n",
      "2진수 10010011 → 10진수 -0.04296875\n",
      "2진수 10010100 → 10진수 -0.046875\n",
      "2진수 10010101 → 10진수 -0.05078125\n",
      "2진수 10010110 → 10진수 -0.0546875\n",
      "2진수 10010111 → 10진수 -0.05859375\n",
      "2진수 10011000 → 10진수 -0.0625\n",
      "2진수 10011001 → 10진수 -0.0625\n",
      "2진수 10011010 → 10진수 -0.078125\n",
      "2진수 10011011 → 10진수 -0.078125\n",
      "2진수 10011100 → 10진수 -0.09375\n",
      "2진수 10011101 → 10진수 -0.1015625\n",
      "2진수 10011110 → 10진수 -0.109375\n",
      "2진수 10011111 → 10진수 -0.1171875\n",
      "2진수 10100000 → 10진수 -0.125\n",
      "2진수 10100001 → 10진수 -0.125\n",
      "2진수 10100010 → 10진수 -0.15625\n",
      "2진수 10100011 → 10진수 -0.171875\n",
      "2진수 10100100 → 10진수 -0.1875\n",
      "2진수 10100101 → 10진수 -0.203125\n",
      "2진수 10100110 → 10진수 -0.21875\n",
      "2진수 10100111 → 10진수 -0.234375\n",
      "2진수 10101000 → 10진수 -0.25\n",
      "2진수 10101001 → 10진수 -0.28125\n",
      "2진수 10101010 → 10진수 -0.3125\n",
      "2진수 10101011 → 10진수 -0.3125\n",
      "2진수 10101100 → 10진수 -0.375\n",
      "2진수 10101101 → 10진수 -0.40625\n",
      "2진수 10101110 → 10진수 -0.4375\n",
      "2진수 10101111 → 10진수 -0.46875\n",
      "2진수 10110000 → 10진수 -0.5\n",
      "2진수 10110001 → 10진수 -0.5625\n",
      "2진수 10110010 → 10진수 -0.625\n",
      "2진수 10110011 → 10진수 -0.6875\n",
      "2진수 10110100 → 10진수 -0.75\n",
      "2진수 10110101 → 10진수 -0.8125\n",
      "2진수 10110110 → 10진수 -0.875\n",
      "2진수 10110111 → 10진수 -0.9375\n",
      "2진수 10111000 → 10진수 -1\n",
      "2진수 10111001 → 10진수 -1.5\n",
      "2진수 10111010 → 10진수 -1.5\n",
      "2진수 10111011 → 10진수 -1.75\n",
      "2진수 10111100 → 10진수 -1.5\n",
      "2진수 10111101 → 10진수 -1.625\n",
      "2진수 10111110 → 10진수 -1.75\n",
      "2진수 10111111 → 10진수 -1.875\n",
      "2진수 11000000 → 10진수 -2\n",
      "2진수 11000001 → 10진수 -2.5\n",
      "2진수 11000010 → 10진수 -2.5\n",
      "2진수 11000011 → 10진수 -2.75\n",
      "2진수 11000100 → 10진수 -3\n",
      "2진수 11000101 → 10진수 -3.5\n",
      "2진수 11000110 → 10진수 -3.5\n",
      "2진수 11000111 → 10진수 -3.75\n",
      "2진수 11001000 → 10진수 -4\n",
      "2진수 11001001 → 10진수 -4.5\n",
      "2진수 11001010 → 10진수 -5\n",
      "2진수 11001011 → 10진수 -5.5\n",
      "2진수 11001100 → 10진수 -6\n",
      "2진수 11001101 → 10진수 -6.5\n",
      "2진수 11001110 → 10진수 -7\n",
      "2진수 11001111 → 10진수 -7.5\n",
      "2진수 11010000 → 10진수 -8\n",
      "2진수 11010001 → 10진수 -8\n",
      "2진수 11010010 → 10진수 -10\n",
      "2진수 11010011 → 10진수 -10\n",
      "2진수 11010100 → 10진수 -12\n",
      "2진수 11010101 → 10진수 -13\n",
      "2진수 11010110 → 10진수 -14\n",
      "2진수 11010111 → 10진수 -15\n",
      "2진수 11011000 → 10진수 -16\n",
      "2진수 11011001 → 10진수 -16\n",
      "2진수 11011010 → 10진수 -20\n",
      "2진수 11011011 → 10진수 -20\n",
      "2진수 11011100 → 10진수 -24\n",
      "2진수 11011101 → 10진수 -26\n",
      "2진수 11011110 → 10진수 -28\n",
      "2진수 11011111 → 10진수 -30\n",
      "2진수 11100000 → 10진수 -32\n",
      "2진수 11100001 → 10진수 -32\n",
      "2진수 11100010 → 10진수 -40\n",
      "2진수 11100011 → 10진수 -40\n",
      "2진수 11100100 → 10진수 -48\n",
      "2진수 11100101 → 10진수 -52\n",
      "2진수 11100110 → 10진수 -56\n",
      "2진수 11100111 → 10진수 -60\n",
      "2진수 11101000 → 10진수 -64\n",
      "2진수 11101001 → 10진수 -64\n",
      "2진수 11101010 → 10진수 -80\n",
      "2진수 11101011 → 10진수 -80\n",
      "2진수 11101100 → 10진수 -96\n",
      "2진수 11101101 → 10진수 -104\n",
      "2진수 11101110 → 10진수 -112\n",
      "2진수 11101111 → 10진수 -120\n",
      "2진수 11110000 → 10진수 -128\n",
      "2진수 11110001 → 10진수 -128\n",
      "2진수 11110010 → 10진수 -160\n",
      "2진수 11110011 → 10진수 -160\n",
      "2진수 11110100 → 10진수 -192\n",
      "2진수 11110101 → 10진수 -208\n",
      "2진수 11110110 → 10진수 -224\n",
      "2진수 11110111 → 10진수 -240\n",
      "2진수 11111000 → 10진수 -inf\n",
      "2진수 11111001 → 10진수 -256\n",
      "2진수 11111010 → 10진수 -320\n",
      "2진수 11111011 → 10진수 -320\n",
      "2진수 11111100 → 10진수 -384\n",
      "2진수 11111101 → 10진수 -416\n",
      "2진수 11111110 → 10진수 -448\n",
      "2진수 11111111 → 10진수 -480\n"
     ]
    }
   ],
   "source": [
    "for n in range(256):\n",
    "    bnum = \"{0:b}\".format(n).zfill(8)\n",
    "    qb_bnum = bnum[1:5]\n",
    "    q_bnum = 0\n",
    "    b_7 = int(bnum[0])\n",
    "\n",
    "    if len(bnum) == 8:\n",
    "        for i in range(4):\n",
    "            if qb_bnum[i] == '1':\n",
    "                q_bnum += 2**(3-i)\n",
    "\n",
    "        e = q_bnum - 7\n",
    "\n",
    "        b2b1b0 = '1.'\n",
    "        b2b1b0 += bnum[5:8]\n",
    "\n",
    "        b2b1b0 = float(b2b1b0) * 10**e\n",
    "\n",
    "        temp = 0\n",
    "        if e >= 3:\n",
    "            b2b1b0 = str(int(b2b1b0))\n",
    "            for n in range(len(b2b1b0)):\n",
    "                if b2b1b0[-n-1] == '1':\n",
    "                    temp += 2**n\n",
    "        elif e < 0: # 0.1111, e = -1\n",
    "            b2b1b0 *= 10**(3+(-e))\n",
    "            b2b1b0 = str(int(b2b1b0))\n",
    "            for n in range(len(b2b1b0)):\n",
    "                if b2b1b0[n] == '1':\n",
    "                    temp += 2**(-(n-e)) #앞에 0이 붙는 수만큼 -e를 더해줌\n",
    "        else: # 1.111, 11.11, 111.1\n",
    "            b_i = str(int(b2b1b0))# b2b1b0의 정수부분\n",
    "            b_f = round(b2b1b0 - int(b_i), 3) * 10**(3-e) # 실수값이 이상하게 나와서 반올림 사용\n",
    "            b_f = str(int(b_f))  # b2b1b0의 실수부분\n",
    "            temp = 0\n",
    "            for n in range(len(b_i)):\n",
    "                if b_i[-n-1] == '1':\n",
    "                    temp += 2**n\n",
    "            for n in range(len(b_f)):\n",
    "                if b_f[n] == '1':\n",
    "                    temp += 2**(-(n+1))\n",
    "\n",
    "        b2b1b0 = temp\n",
    "\n",
    "        if bnum == \"00000000\":\n",
    "            final = 0.0\n",
    "        elif bnum == \"10000000\":\n",
    "            final = -0.0\n",
    "        elif bnum == \"01111000\":\n",
    "            final = float(\"inf\")\n",
    "        elif bnum == \"11111000\":\n",
    "            final = -float(\"inf\")\n",
    "        else:\n",
    "            final = (-1)**b_7 * b2b1b0\n",
    "\n",
    "        if b_7:\n",
    "            print(\"2진수 {0} → 10진수 {1}\".format(bnum, final))\n",
    "        else:\n",
    "            print(\"2진수 {0} → 10진수 {1}\".format(bnum, final))\n",
    "    else:\n",
    "        print(\"8자리만 입력해주세요\")"
   ]
  }
 ],
 "metadata": {
  "kernelspec": {
   "display_name": "Python 3",
   "language": "python",
   "name": "python3"
  },
  "language_info": {
   "codemirror_mode": {
    "name": "ipython",
    "version": 3
   },
   "file_extension": ".py",
   "mimetype": "text/x-python",
   "name": "python",
   "nbconvert_exporter": "python",
   "pygments_lexer": "ipython3",
   "version": "3.8.5"
  },
  "latex_envs": {
   "LaTeX_envs_menu_present": true,
   "autoclose": false,
   "autocomplete": true,
   "bibliofile": "biblio.bib",
   "cite_by": "apalike",
   "current_citInitial": 1,
   "eqLabelWithNumbers": true,
   "eqNumInitial": 1,
   "hotkeys": {
    "equation": "Ctrl-E",
    "itemize": "Ctrl-I"
   },
   "labels_anchors": false,
   "latex_user_defs": false,
   "report_style_numbering": false,
   "user_envs_cfg": false
  },
  "toc": {
   "base_numbering": 1,
   "nav_menu": {},
   "number_sections": false,
   "sideBar": true,
   "skip_h1_title": false,
   "title_cell": "Table of Contents",
   "title_sidebar": "Contents",
   "toc_cell": false,
   "toc_position": {
    "height": "calc(100% - 180px)",
    "left": "10px",
    "top": "150px",
    "width": "270.5px"
   },
   "toc_section_display": true,
   "toc_window_display": false
  }
 },
 "nbformat": 4,
 "nbformat_minor": 2
}
