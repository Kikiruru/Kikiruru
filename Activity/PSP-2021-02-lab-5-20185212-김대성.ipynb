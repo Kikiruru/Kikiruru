{
 "cells": [
  {
   "cell_type": "markdown",
   "metadata": {},
   "source": [
    "<h1 align='center'> 파이썬과학프로그래밍기초 실습 5</h1>\n",
    "\n",
    "<p style=\"text-align: right\"> 2021.10.27.</p>"
   ]
  },
  {
   "cell_type": "markdown",
   "metadata": {},
   "source": [
    "<div class=\"alert alert-block alert-info\">\n",
    "    \n",
    "- 파일 이름에서 00000000을 자신의 학번으로, name을 자신의 이름으로 수정하세요.\n",
    "\n",
    "- 다음 줄에 자신의 이름, 학번, 학과(전공)을 적으세요.\n",
    "\n",
    "* 이름:  김대성          학번:    20185212         학과(전공): 스마트IoT\n",
    "    \n",
    "</div>\n",
    "\n",
    "- Jupyter notebook에 대한 설명은 [The Jupyter Notebook](https://jupyter-notebook.readthedocs.io/en/stable/)을  참고하라\n",
    "\n",
    "- Markdown은 [Markdown Guide](https://www.markdownguide.org/)를 참고하라.\n",
    "- [Markdown Cheat Sheet](https://www.markdownguide.org/cheat-sheet/)\n",
    "\n",
    "* 제출 마감: 10월 31일 (일) 오후 6:00.\n"
   ]
  },
  {
   "cell_type": "markdown",
   "metadata": {},
   "source": [
    "#### 예제 1.\n",
    " 문자열을 입력받아서 문자열의 순서를 반대로 만든 문자열을 반환하는 함수 reverse_string 을 작성하라.\n",
    " \n",
    " 작성된 함수를 이용해서 아래 문자열을 반대 순서로 만들어서 콘솔에 출력하라.\n",
    "```\n",
    "s1 = 'This is a test string.'\n",
    "s2 = '한림대학교'\n",
    "```"
   ]
  },
  {
   "cell_type": "code",
   "execution_count": 2,
   "metadata": {},
   "outputs": [
    {
     "name": "stdout",
     "output_type": "stream",
     "text": [
      ".gnirts tset a si sihT\n",
      "교학대림한\n"
     ]
    }
   ],
   "source": [
    "def reverse_string (s):\n",
    "    return s[::-1]\n",
    "\n",
    "s1 = 'This is a test string.'\n",
    "s2 = '한림대학교'\n",
    "print(reverse_string(s1))\n",
    "print(reverse_string(s2))"
   ]
  },
  {
   "cell_type": "markdown",
   "metadata": {},
   "source": [
    "#### 예제 2.\n",
    "리스트 메쏘드 중에 append는 다음과 같은 기능을 한다.\n",
    "```\n",
    "Help on method_descriptor:\n",
    "\n",
    "append(self, object, /)\n",
    "    Append object to the end of the list.\n",
    "```"
   ]
  },
  {
   "cell_type": "code",
   "execution_count": 3,
   "metadata": {},
   "outputs": [
    {
     "data": {
      "text/plain": [
       "method_descriptor"
      ]
     },
     "execution_count": 3,
     "metadata": {},
     "output_type": "execute_result"
    }
   ],
   "source": [
    "type(list.append)"
   ]
  },
  {
   "cell_type": "code",
   "execution_count": 8,
   "metadata": {},
   "outputs": [
    {
     "data": {
      "text/plain": [
       "builtin_function_or_method"
      ]
     },
     "execution_count": 8,
     "metadata": {},
     "output_type": "execute_result"
    }
   ],
   "source": [
    "type(lst.append)"
   ]
  },
  {
   "cell_type": "code",
   "execution_count": 6,
   "metadata": {},
   "outputs": [],
   "source": [
    "lst = [1, 2, 3]\n",
    "lst.append('s')"
   ]
  },
  {
   "cell_type": "code",
   "execution_count": 7,
   "metadata": {},
   "outputs": [
    {
     "data": {
      "text/plain": [
       "[1, 2, 3, 's']"
      ]
     },
     "execution_count": 7,
     "metadata": {},
     "output_type": "execute_result"
    }
   ],
   "source": [
    "lst"
   ]
  },
  {
   "cell_type": "code",
   "execution_count": 13,
   "metadata": {},
   "outputs": [],
   "source": [
    "lst = [1, 2, 3]\n",
    "list.append(lst, 's')"
   ]
  },
  {
   "cell_type": "code",
   "execution_count": 14,
   "metadata": {},
   "outputs": [
    {
     "data": {
      "text/plain": [
       "[1, 2, 3, 's']"
      ]
     },
     "execution_count": 14,
     "metadata": {},
     "output_type": "execute_result"
    }
   ],
   "source": [
    "lst"
   ]
  },
  {
   "cell_type": "markdown",
   "metadata": {},
   "source": [
    "리스트의 append 메쏘드를 사용하지 않고 다음과 같은 함수를 만들었다고 가정하자."
   ]
  },
  {
   "cell_type": "code",
   "execution_count": 15,
   "metadata": {},
   "outputs": [
    {
     "data": {
      "text/plain": [
       "[1, 2, 3, 's']"
      ]
     },
     "execution_count": 15,
     "metadata": {},
     "output_type": "execute_result"
    }
   ],
   "source": [
    "def list_append(lst, obj):\n",
    "    lst += [obj]\n",
    "    \n",
    "lst_1 = [1, 2, 3]\n",
    "list_append(lst_1, 's')\n",
    "lst_1"
   ]
  },
  {
   "cell_type": "markdown",
   "metadata": {},
   "source": [
    "list_append 함수에 return 문장이 없어도 lst의 내용이 변경되는 이유를 설명하라."
   ]
  },
  {
   "cell_type": "markdown",
   "metadata": {},
   "source": [
    "**답**: lst파라미터는 메인에서 전달된 주소를 가지고 있는데 +=연산자는 객체에 오른쪽항을 더해서 저장하는 연산자로<br>\n",
    "이때 lst는 메인에서 전달된 주소를 공유하기 때문에 정상적으로 값이 변경된다"
   ]
  },
  {
   "cell_type": "markdown",
   "metadata": {},
   "source": [
    "#### 예제 3.\n",
    "예제 2에서 만든 list_append 함수를 다음과 같이 만들면 다른 결과가 나온다. 왜 그런지 설명하라."
   ]
  },
  {
   "cell_type": "code",
   "execution_count": 16,
   "metadata": {},
   "outputs": [
    {
     "data": {
      "text/plain": [
       "[1, 2, 3]"
      ]
     },
     "execution_count": 16,
     "metadata": {},
     "output_type": "execute_result"
    }
   ],
   "source": [
    "def list_append_2(lst, obj):\n",
    "    lst = lst + [obj]\n",
    "\n",
    "lst_2 = [1, 2, 3]\n",
    "list_append_2(lst_2, 's')\n",
    "lst_2"
   ]
  },
  {
   "cell_type": "markdown",
   "metadata": {},
   "source": [
    "새로운 객체를 만들어 저장하기 때문에 함수에서 lst와 lst_2는 다른 값을 가지게 된다<br>\n",
    "이럴 경우는 리턴을 사용해야 한다 (lst와 lst_2는 서로 다른 주소를 갖는다)"
   ]
  },
  {
   "cell_type": "code",
   "execution_count": 17,
   "metadata": {},
   "outputs": [
    {
     "data": {
      "text/plain": [
       "[1, 2, 3, 's']"
      ]
     },
     "execution_count": 17,
     "metadata": {},
     "output_type": "execute_result"
    }
   ],
   "source": [
    "def list_append_2(lst, obj):\n",
    "    lst = lst + [obj]\n",
    "    return lst\n",
    "\n",
    "lst_2 = [1, 2, 3]\n",
    "lst_2 = list_append_2(lst_2, 's')\n",
    "lst_2"
   ]
  },
  {
   "cell_type": "markdown",
   "metadata": {},
   "source": [
    "#### 예제 4.\n",
    "세 개의 인수를 입력받아 셋 중의 가장 큰 값을 반환하는 함수 max_of_three(a, b, c)를 작성하라. 단, max( )를 사용하지 말아야 한다."
   ]
  },
  {
   "cell_type": "code",
   "execution_count": 26,
   "metadata": {},
   "outputs": [
    {
     "name": "stdout",
     "output_type": "stream",
     "text": [
      "3\n",
      "5\n",
      "6\n"
     ]
    }
   ],
   "source": [
    "def max_of_three(a, b, c):\n",
    "    if a > b:\n",
    "        if a > c:\n",
    "            return a\n",
    "        else:\n",
    "            return c\n",
    "    else:\n",
    "        if b > c:\n",
    "            return b\n",
    "        else:\n",
    "            return c\n",
    "\n",
    "m = max_of_three(1, 2, 3)\n",
    "print(m)\n",
    "m = max_of_three(1, 5, 3)\n",
    "print(m)\n",
    "m = max_of_three(6, 2, 3)\n",
    "print(m)"
   ]
  },
  {
   "cell_type": "code",
   "execution_count": 29,
   "metadata": {},
   "outputs": [
    {
     "name": "stdout",
     "output_type": "stream",
     "text": [
      "3\n",
      "5\n",
      "6\n"
     ]
    }
   ],
   "source": [
    "def max_of_three_2(a, b, c):\n",
    "    if a > b:\n",
    "        return a if a > c else c\n",
    "    else:\n",
    "        return b if b > c else c\n",
    "\n",
    "m = max_of_three_2(1, 2, 3)\n",
    "print(m)\n",
    "m = max_of_three_2(1, 5, 3)\n",
    "print(m)\n",
    "m = max_of_three_2(6, 2, 3)\n",
    "print(m)"
   ]
  },
  {
   "cell_type": "code",
   "execution_count": 30,
   "metadata": {},
   "outputs": [
    {
     "name": "stdout",
     "output_type": "stream",
     "text": [
      "3\n",
      "5\n",
      "6\n"
     ]
    }
   ],
   "source": [
    "def max_of_three_3(a, b, c):\n",
    "    return a if a > b else b if b > a and b > c else c\n",
    "\n",
    "m = max_of_three_3(1, 2, 3)\n",
    "print(m)\n",
    "m = max_of_three_3(1, 5, 3)\n",
    "print(m)\n",
    "m = max_of_three_3(6, 2, 3)\n",
    "print(m)"
   ]
  },
  {
   "cell_type": "markdown",
   "metadata": {},
   "source": [
    "#### 예제 5.\n",
    "3 개 이상의 인수를 입력받아 그 중에서 가장 큰 값을 반환하는 함수 max_of_multiple를 작성하려면 어떻게 하면 좋을지 생각해 보라. 이런 경우에 사용하는 것이 가변 길이 인수이다.\n",
    "\n",
    "아래 셀에 있는 프로그램을 실행하면서 \\*b에서 \\*이 어떤 기능을 하는지 생각해 보라."
   ]
  },
  {
   "cell_type": "code",
   "execution_count": 31,
   "metadata": {},
   "outputs": [
    {
     "name": "stdout",
     "output_type": "stream",
     "text": [
      "10 (9, 12)\n",
      "10 (9, 12, 5)\n"
     ]
    }
   ],
   "source": [
    "def test_VLA(a, *b):\n",
    "    print(a, b)\n",
    "test_VLA(10, 9, 12)\n",
    "test_VLA(10, 9, 12, 5)"
   ]
  },
  {
   "cell_type": "markdown",
   "metadata": {},
   "source": [
    "뒤에 오는 파라미터를 튜플로 패킹"
   ]
  },
  {
   "cell_type": "markdown",
   "metadata": {},
   "source": [
    "#### 예제 6.\n",
    "두 개 이상의 인수를 입력받아 셋 중의 가장 큰 값을 반환하는 함수 max_of_max_of_multiples()를 작성하라. 단, max( )를 사용하지 말아야 한다."
   ]
  },
  {
   "cell_type": "code",
   "execution_count": 35,
   "metadata": {},
   "outputs": [
    {
     "name": "stdout",
     "output_type": "stream",
     "text": [
      "7\n"
     ]
    }
   ],
   "source": [
    "def max_of_multiples(*x):\n",
    "    _max = x[0]\n",
    "    for a in x[1:]:\n",
    "        if _max < a:\n",
    "            _max = a\n",
    "    return _max\n",
    "\n",
    "print(max_of_multiples(1, 7, 3, 5, 2))"
   ]
  },
  {
   "cell_type": "code",
   "execution_count": 38,
   "metadata": {},
   "outputs": [
    {
     "name": "stdout",
     "output_type": "stream",
     "text": [
      "7\n"
     ]
    }
   ],
   "source": [
    "def max_of_multiples(*x):\n",
    "    def max_of_two(a, b):\n",
    "        return a if a > b else b\n",
    "    _max = x[0]\n",
    "    for a in x[1:]:\n",
    "        _max = max_of_two(_max, a)\n",
    "    return _max\n",
    "\n",
    "print(max_of_multiples(1, 7, 3, 5, 2))"
   ]
  },
  {
   "cell_type": "markdown",
   "metadata": {},
   "source": [
    "#### 문제1\n",
    "collections 모듈의 Counter 클래스는 Dict의 subclass로 hashable 객체의 개수를 세어서 반환한다.\n",
    "\n",
    "다음은 Counter class의 most_common 함수의 도움말이다.\n",
    "\n",
    "```\n",
    "most_common(self, n=None)\n",
    "    List the n most common elements and their counts from the most\n",
    "    common to the least.  If n is None, then list all element counts.\n",
    "    \n",
    "    >>> Counter('abracadabra').most_common(3)\n",
    "    [('a', 5), ('b', 2), ('r', 2)]\n",
    "```\n",
    "위 도움말과 아래 프로그램 예제를 참조해서 이와 같은 기능을 하는 most_common_char_count 함수를 작성하고 테스트하는 프로그램을 작성하라."
   ]
  },
  {
   "cell_type": "code",
   "execution_count": 40,
   "metadata": {},
   "outputs": [
    {
     "name": "stdout",
     "output_type": "stream",
     "text": [
      "Given string:  dajklvkdafjkd;ajfeqipjjfdas;fjkdsal;\n",
      "Counter({'j': 6, 'd': 5, 'a': 5, 'k': 4, 'f': 4, ';': 3, 'l': 2, 's': 2, 'v': 1, 'e': 1, 'q': 1, 'i': 1, 'p': 1})\n",
      "Most common four characters of the given string:\n",
      "[('j', 6), ('d', 5), ('a', 5), ('k', 4)]\n"
     ]
    }
   ],
   "source": [
    "from collections import Counter\n",
    "s = 'dajklvkdafjkd;ajfeqipjjfdas;fjkdsal;'\n",
    "print(\"Given string: \", s)\n",
    "print(Counter(s))\n",
    "print(\"Most common four characters of the given string:\")\n",
    "print(Counter(s).most_common(4))"
   ]
  },
  {
   "cell_type": "markdown",
   "metadata": {},
   "source": [
    "Algorithm\n",
    "1. 입력 문자열의 각 문자의 빈도 조사 --> dictionary로 만들기\n",
    "2. dictionay의 value를 기준으로 sorting\n",
    "3. if n == None:\n",
    "       전체 dictionay를 tuple의 리스트로 반환\n",
    "   else:\n",
    "       빈도가 가장 큰 n 개를 tuple의 리스트로 반환"
   ]
  },
  {
   "cell_type": "code",
   "execution_count": 17,
   "metadata": {
    "scrolled": true
   },
   "outputs": [
    {
     "name": "stdout",
     "output_type": "stream",
     "text": [
      "4 [('j', 6), ('a', 5), ('d', 5), ('k', 4)]\n",
      "({'j': 6, 'a': 5, 'd': 5, 'k': 4, 'f': 4, ';': 3, 'l': 2, 's': 2, 'e': 1, 'q': 1, 'i': 1, 'p': 1, 'v': 1},)\n"
     ]
    }
   ],
   "source": [
    "def most_common_char_count(s, n=None):\n",
    "    count = {}\n",
    "    count = {k: 0 for k in s if k not in count}\n",
    "    for k in s:\n",
    "        count[k] += 1\n",
    "    sorted_cnt = list(count.items()) #sorting 된 리스트 튜플\n",
    "    cnt_value = [n[1] for n in sorted_cnt]\n",
    "\n",
    "    for i in range(len(cnt_value)-1):\n",
    "        for j in range(i, len(cnt_value)):\n",
    "            if cnt_value[i] < cnt_value[j]:\n",
    "                sorted_cnt[i], sorted_cnt[j] = sorted_cnt[j], sorted_cnt[i]\n",
    "                cnt_value[i], cnt_value[j] = cnt_value[j], cnt_value[i]\n",
    "    #반복문을 이용한 정렬방식\n",
    "    if n==None:\n",
    "        Counter = []\n",
    "        Counter.append(dict(sorted_cnt))\n",
    "        Counter = tuple(Counter)\n",
    "        return Counter\n",
    "    else:\n",
    "        Counter = []\n",
    "        for k in range(n):\n",
    "            Counter.append(sorted_cnt[k])\n",
    "        return Counter\n",
    "\n",
    "s = 'dajklvkdafjkd;ajfeqipjjfdas;fjkdsal;'\n",
    "most_commons = most_common_char_count(s, 4)\n",
    "print(4, most_commons)\n",
    "print(most_common_char_count(s))"
   ]
  },
  {
   "cell_type": "code",
   "execution_count": 18,
   "metadata": {},
   "outputs": [
    {
     "name": "stdout",
     "output_type": "stream",
     "text": [
      "4 [('j', 6), ('d', 5), ('a', 5), ('k', 4)]\n",
      "({'j': 6, 'd': 5, 'a': 5, 'k': 4, 'f': 4, ';': 3, 'l': 2, 's': 2, 'v': 1, 'e': 1, 'q': 1, 'i': 1, 'p': 1},)\n"
     ]
    }
   ],
   "source": [
    "def most_common_char_count(s, n=None):\n",
    "    count = {}\n",
    "    count = {k: 0 for k in s if k not in count}\n",
    "    for k in s:\n",
    "        count[k] += 1\n",
    "    sorted_cnt = list(count.items()) #sorting 된 리스트 튜플\n",
    "\n",
    "    def sort_value(t):\n",
    "        return t[1]\n",
    "    sorted_cnt.sort(key=sort_value, reverse = True)\n",
    "    #sort key값을 이용한 정렬\n",
    "    if n==None:\n",
    "        Counter = []\n",
    "        Counter.append(dict(sorted_cnt))\n",
    "        Counter = tuple(Counter)\n",
    "        return Counter\n",
    "    else:\n",
    "        Counter = []\n",
    "        for k in range(n):\n",
    "            Counter.append(sorted_cnt[k])\n",
    "        return Counter\n",
    "\n",
    "s = 'dajklvkdafjkd;ajfeqipjjfdas;fjkdsal;'\n",
    "most_commons = most_common_char_count(s, 4)\n",
    "print(4, most_commons)\n",
    "print(most_common_char_count(s))"
   ]
  },
  {
   "cell_type": "code",
   "execution_count": 3,
   "metadata": {},
   "outputs": [
    {
     "data": {
      "text/plain": [
       "{'d': 0,\n",
       " 'a': 0,\n",
       " 'j': 0,\n",
       " 'k': 0,\n",
       " 'l': 0,\n",
       " 'v': 0,\n",
       " 'f': 0,\n",
       " ';': 0,\n",
       " 'e': 0,\n",
       " 'q': 0,\n",
       " 'i': 0,\n",
       " 'p': 0,\n",
       " 's': 0}"
      ]
     },
     "execution_count": 3,
     "metadata": {},
     "output_type": "execute_result"
    }
   ],
   "source": [
    "s = 'dajklvkdafjkd;ajfeqipjjfdas;fjkdsal;'\n",
    "cnt = {}\n",
    "for k in s:\n",
    "    if k not in cnt:\n",
    "        cnt[k] = 0\n",
    "cnt #문자 갯수 초기화"
   ]
  },
  {
   "cell_type": "code",
   "execution_count": 2,
   "metadata": {},
   "outputs": [
    {
     "data": {
      "text/plain": [
       "{'d': 0,\n",
       " 'a': 0,\n",
       " 'j': 0,\n",
       " 'k': 0,\n",
       " 'l': 0,\n",
       " 'v': 0,\n",
       " 'f': 0,\n",
       " ';': 0,\n",
       " 'e': 0,\n",
       " 'q': 0,\n",
       " 'i': 0,\n",
       " 'p': 0,\n",
       " 's': 0}"
      ]
     },
     "execution_count": 2,
     "metadata": {},
     "output_type": "execute_result"
    }
   ],
   "source": [
    "s = 'dajklvkdafjkd;ajfeqipjjfdas;fjkdsal;'\n",
    "cnt = {}\n",
    "cnt = {k: 0 for k in s if k not in cnt} #컴프리헨션 이용해서 초기화\n",
    "cnt"
   ]
  },
  {
   "cell_type": "code",
   "execution_count": 42,
   "metadata": {},
   "outputs": [
    {
     "name": "stdout",
     "output_type": "stream",
     "text": [
      "{'d': 5, 'a': 5, 'j': 6, 'k': 4, 'l': 2, 'v': 1, 'f': 4, ';': 3, 'e': 1, 'q': 1, 'i': 1, 'p': 1, 's': 2}\n"
     ]
    }
   ],
   "source": [
    "for k in s:\n",
    "    cnt[k] += 1\n",
    "print(cnt)"
   ]
  },
  {
   "cell_type": "code",
   "execution_count": 91,
   "metadata": {},
   "outputs": [
    {
     "name": "stdout",
     "output_type": "stream",
     "text": [
      "[('d', 5), ('a', 5), ('j', 6), ('k', 4), ('l', 2), ('v', 1), ('f', 4), (';', 3), ('e', 1), ('q', 1), ('i', 1), ('p', 1), ('s', 2)]\n",
      "[5, 5, 6, 4, 2, 1, 4, 3, 1, 1, 1, 1, 2]\n",
      "[('j', 6), ('a', 5), ('d', 5), ('k', 4), ('f', 4), (';', 3), ('l', 2), ('s', 2), ('e', 1), ('q', 1), ('i', 1), ('p', 1), ('v', 1)]\n",
      "[6, 5, 5, 4, 4, 3, 2, 2, 1, 1, 1, 1, 1]\n"
     ]
    }
   ],
   "source": [
    "sorted_cnt = list(cnt.items()) #딕셔너리를 튜플형태로 리스트에 저장\n",
    "print(sorted_cnt)\n",
    "cnt_value = [n[1] for n in sorted_cnt] #딕셔너리의 value값 리스트\n",
    "print(cnt_value)\n",
    "\n",
    "for i in range(len(cnt_value)-1):\n",
    "    for j in range(i, len(cnt_value)):\n",
    "        if cnt_value[i] < cnt_value[j]:\n",
    "            sorted_cnt[i], sorted_cnt[j] = sorted_cnt[j], sorted_cnt[i]\n",
    "            cnt_value[i], cnt_value[j] = cnt_value[j], cnt_value[i]\n",
    "            \n",
    "print(sorted_cnt)\n",
    "print(cnt_value) #반복문을 이용한 정렬"
   ]
  },
  {
   "cell_type": "code",
   "execution_count": 92,
   "metadata": {},
   "outputs": [
    {
     "name": "stdout",
     "output_type": "stream",
     "text": [
      "[('d', 5), ('a', 5), ('j', 6), ('k', 4), ('l', 2), ('v', 1), ('f', 4), (';', 3), ('e', 1), ('q', 1), ('i', 1), ('p', 1), ('s', 2)]\n",
      "[('j', 6), ('d', 5), ('a', 5), ('k', 4), ('f', 4), (';', 3), ('l', 2), ('s', 2), ('v', 1), ('e', 1), ('q', 1), ('i', 1), ('p', 1)]\n"
     ]
    }
   ],
   "source": [
    "sorted_cnt = list(cnt.items())\n",
    "print(sorted_cnt)\n",
    "def sort_value(t):\n",
    "    return t[1]\n",
    "sorted_cnt.sort(key=sort_value, reverse = True)\n",
    "print(sorted_cnt) #key값을 이용한 정렬"
   ]
  },
  {
   "cell_type": "code",
   "execution_count": 93,
   "metadata": {},
   "outputs": [
    {
     "name": "stdout",
     "output_type": "stream",
     "text": [
      "Help on method_descriptor:\n",
      "\n",
      "sort(self, /, *, key=None, reverse=False)\n",
      "    Sort the list in ascending order and return None.\n",
      "    \n",
      "    The sort is in-place (i.e. the list itself is modified) and stable (i.e. the\n",
      "    order of two equal elements is maintained).\n",
      "    \n",
      "    If a key function is given, apply it once to each list item and sort them,\n",
      "    ascending or descending, according to their function values.\n",
      "    \n",
      "    The reverse flag can be set to sort in descending order.\n",
      "\n"
     ]
    }
   ],
   "source": [
    "help(list.sort)"
   ]
  },
  {
   "cell_type": "markdown",
   "metadata": {},
   "source": [
    "#### 문제 3.\n",
    "\n",
    "온라인 가입자가 입력한 password는 다음과 같은 조건을 만족해야 한다.\n",
    " - password는 영문 alphabet 대소문자, 숫자, !, @, #, ^, &, * 의 조합으로 이루어져야 한다.\n",
    " - password는 10 글자 이상 15 글자 이하이어야 한다.\n",
    " - password에 반드시 영문 alphabet 소문자 1 개 이상, 대문자 1 개 이상, 숫자 1 개 이상, !, @, #, ^, &, * 중에서 1 개이상이 포함되어야 한다.\n",
    " \n",
    "어떤 문자열이 이 password의 기준을 만족하는지 조사해서, 만족하면 True를 반환하고, 아니면 False를 반환하는 함수를 작성하고 아래의 test용 문자열을 이용해서 test하는 프로그램을 작성하라.\n",
    "\n",
    "Test용 문자열과 함수의 반환값은 다음과 같다.\n",
    "\n",
    " - \"a@ddfj1dfAdk\" : True\n",
    " - \"abcdefghijKlmn\": False\n",
    " - \"1A2a$123456\": False\n",
    " - \"abcd1A*\": False\n",
    " - \"a13b456778999cd1A*\": False"
   ]
  },
  {
   "cell_type": "code",
   "execution_count": 52,
   "metadata": {},
   "outputs": [
    {
     "name": "stdout",
     "output_type": "stream",
     "text": [
      "True\n",
      "False\n",
      "False\n",
      "False\n",
      "False\n"
     ]
    }
   ],
   "source": [
    "def is_passwd_valid(password):\n",
    "    pw_list = set(password) #패스워드 글자 종류\n",
    "    pw_special = {'!', '@', '#', '^', '&', '*'} #특수문자\n",
    "    pw_num = {str(n) for n in range(10)} #숫자\n",
    "    pw_up = {chr(n) for n in range(ord('A'), ord('Z')+1)} #대문자\n",
    "    pw_lo = {chr(n) for n in range(ord('a'), ord('z')+1)} #소문자\n",
    "    pw_pos = pw_special.union(pw_num).union(pw_up).union(pw_lo) #패스워드로 가능한 문자목록조합\n",
    "    pw_len = len(password) #패스워드 길이\n",
    "    \n",
    "    if pw_len < 10 or pw_len > 15:\n",
    "        #print(\"Debug 1\")\n",
    "        return False\n",
    "    # 패스워드 길이가 10미만 15초과면 False반환\n",
    "    \n",
    "    if (pw_list & pw_special) == set():\n",
    "        #print(\"Debug 2\")\n",
    "        return False\n",
    "    elif (pw_list & pw_num) == set():\n",
    "        #print(\"Debug 3\")\n",
    "        return False\n",
    "    elif (pw_list & pw_up) == set():\n",
    "        #print(\"Debug 4\")\n",
    "        return False\n",
    "    elif (pw_list & pw_lo) == set():\n",
    "        #print(\"Debug 5\")\n",
    "        return False\n",
    "    #들어가야하는 각 문자별로 공집합이면 False반환 (즉 들어가야 할 문자가 없다)\n",
    "    \n",
    "    elif pw_list < pw_pos:\n",
    "        #print(\"Debug 6\")\n",
    "        return True\n",
    "    else:\n",
    "        #print(\"Debug 7\")\n",
    "        return False\n",
    "     # 만약 패스워드가 전체 가능한 문자의 부분집합이면 트루(사용할 수 없는 문자가 없다)\n",
    "        \n",
    "print(is_passwd_valid(\"a@ddfj1dfAdk\"))   # True\n",
    "print(is_passwd_valid(\"abcdefghijKlmn\")) # False\n",
    "print(is_passwd_valid(\"1A2a$123456\"))    # False\n",
    "print(is_passwd_valid(\"abcd1A*\"))        # False\n",
    "print(is_passwd_valid(\"a13b456778999cd1A*\")) #False"
   ]
  },
  {
   "cell_type": "code",
   "execution_count": 51,
   "metadata": {},
   "outputs": [
    {
     "name": "stdout",
     "output_type": "stream",
     "text": [
      "True\n",
      "False\n",
      "False\n",
      "False\n",
      "False\n",
      "False\n"
     ]
    }
   ],
   "source": [
    "print(is_passwd_valid(\"0123456789Aa@\"))\n",
    "print(is_passwd_valid(\"012345Aa@\"))\n",
    "print(is_passwd_valid(\"0123456789013Aa@\"))\n",
    "print(is_passwd_valid(\"0123456789Aa@$\"))\n",
    "print(is_passwd_valid(\"0123456789Aa$\"))\n",
    "print(is_passwd_valid(\"0123456789aa@\"))"
   ]
  },
  {
   "cell_type": "code",
   "execution_count": 58,
   "metadata": {},
   "outputs": [
    {
     "name": "stdout",
     "output_type": "stream",
     "text": [
      "['a', 'd', 'f', 'a', 'l', 'f', '1', '2', '3', '@', '2', '3', 'f']\n",
      "13\n",
      "{'f', '3', 'l', '@', '2', 'a', '1', 'd'}\n",
      "{'f', '3', 'l', '@', '2', 'a', '1', 'd'}\n"
     ]
    }
   ],
   "source": [
    "test_passwd = \"adfalf123@23f\"\n",
    "pw_list = [n for n in test_passwd]\n",
    "print(pw_list)\n",
    "#패스워드 리스트로 한글자씩 저장\n",
    "pw_len = len(pw_list)\n",
    "print(pw_len)\n",
    "#패스워드의 길이\n",
    "set_pw = set(pw_list)\n",
    "print(set_pw)\n",
    "set_pw2 = set(test_passwd)\n",
    "print(set_pw2)"
   ]
  },
  {
   "cell_type": "code",
   "execution_count": 33,
   "metadata": {},
   "outputs": [
    {
     "name": "stdout",
     "output_type": "stream",
     "text": [
      "['A', 'B', 'C', 'D', 'E', 'F', 'G', 'H', 'I', 'J', 'K', 'L', 'M', 'N', 'O', 'P', 'Q', 'R', 'S', 'T', 'U', 'V', 'W', 'X', 'Y', 'Z']\n",
      "['a', 'b', 'c', 'd', 'e', 'f', 'g', 'h', 'i', 'j', 'k', 'l', 'm', 'n', 'o', 'p', 'q', 'r', 's', 't', 'u', 'v', 'w', 'x', 'y', 'z']\n"
     ]
    }
   ],
   "source": [
    "pw_up = [chr(n) for n in range(ord('A'), ord('Z')+1)]\n",
    "print(pw_up) #대문자\n",
    "pw_lo = [chr(n) for n in range(ord('a'), ord('z')+1)]\n",
    "print(pw_lo) #소문자"
   ]
  },
  {
   "cell_type": "code",
   "execution_count": 47,
   "metadata": {},
   "outputs": [
    {
     "name": "stdout",
     "output_type": "stream",
     "text": [
      "{'*', '!', '@', '^', '&', '#'}\n",
      "{0, 1, 2, 3, 4, 5, 6, 7, 8, 9}\n",
      "{'S', 'N', 'H', 'E', 'Y', 'J', 'R', 'C', 'Z', 'A', 'B', 'D', 'K', 'F', 'V', 'L', 'U', 'I', 'G', 'T', 'X', 'W', 'O', 'M', 'P', 'Q'}\n",
      "{'n', 'g', 'l', 'w', 'z', 's', 'u', 'e', 'x', 'y', 'c', 'i', 'm', 'r', 't', 'o', 'b', 'f', 'k', 'p', 'v', 'q', 'a', 'j', 'h', 'd'}\n",
      "{0, 1, 2, 3, 4, '!', 5, 6, 7, 8, 9, 'H', 'E', 'J', 'g', 'l', 'R', 'C', 'w', 'z', 'Z', 's', 'u', 'n', 'e', '*', 'x', 'y', 'A', 'B', 'D', 'K', 'F', '^', 'V', 'c', 'i', 'L', 'm', 'r', 'S', 'U', 't', 'o', 'b', 'f', '@', 'k', 'I', 'p', 'G', 'T', 'v', 'X', 'W', 'N', 'q', 'O', 'M', '&', 'P', 'a', 'Q', '#', 'j', 'h', 'Y', 'd'}\n"
     ]
    }
   ],
   "source": [
    "pw_special = {'!', '@', '#', '^', '&', '*'} #특수문자\n",
    "pw_num = set(range(10)) #숫자 (문자로 바꿔줘야 함)\n",
    "pw_up = {chr(n) for n in range(ord('A'), ord('Z')+1)} #대문자\n",
    "pw_lo = {chr(n) for n in range(ord('a'), ord('z')+1)} #소문자\n",
    "pw_pos = pw_special.union(pw_num).union(pw_up).union(pw_lo) #패스워드로 가능한 문자목록조합\n",
    "print(pw_special)\n",
    "\n",
    "print(pw_num)\n",
    "\n",
    "print(pw_up)\n",
    "\n",
    "print(pw_lo)\n",
    "\n",
    "print(pw_pos)"
   ]
  },
  {
   "cell_type": "markdown",
   "metadata": {},
   "source": [
    "#### 예제7.\n",
    "리스트를 입력받아 리스트의 원소 중에 정수, 실수, 복소수의 합을 반환하는 함수를 작성하라. 리스트의 원소로 정수, 실수, 복소수 이외의 데이터 형 객체들은 합을 계산할 때 제외한다.\n",
    "\n",
    "작성된 함수를 이용해서 아래 리스트에 있는 숫자들의 합을 구하라.\n",
    "\n",
    "```\n",
    "x1 = [1, 3, 5, 7, 9]                     # 25\n",
    "x2 = [\"abc\", [3, 5], 3.5, 2+3j, 4.5, 10] # 20 + 3j\n",
    "x3 = []                                  # 0\n",
    "```"
   ]
  },
  {
   "cell_type": "code",
   "execution_count": 39,
   "metadata": {
    "scrolled": true
   },
   "outputs": [
    {
     "name": "stdout",
     "output_type": "stream",
     "text": [
      "25\n",
      "(20+3j)\n",
      "0\n"
     ]
    }
   ],
   "source": [
    "def number_sum(lst):\n",
    "    total = 0\n",
    "    for e in lst:\n",
    "        if type(e) == int or type(e) == float or type(e) == complex:\n",
    "            total += e\n",
    "    return total\n",
    "\n",
    "x1 = [1, 3, 5, 7, 9]                     # 25\n",
    "x2 = [\"abc\", [3, 5], 3.5, 2+3j, 4.5, 10] # 18.0\n",
    "x3 = []                                  # 0\n",
    "\n",
    "print(number_sum(x1))\n",
    "print(number_sum(x2))\n",
    "print(number_sum(x3))"
   ]
  },
  {
   "cell_type": "markdown",
   "metadata": {},
   "source": [
    "#### 문제 2.\n",
    "다음은 리스트 메쏘드의 일부이다.\n",
    "\n",
    "- insert\n",
    "- pop\n",
    "\n",
    "이 메쏘드와 같은 기능을 하는 list_method 함수를 만들고 몇 가지 예를 시험하여 리스트 메쏘드와 기능이 같은지 검증하라. 단, 리스트 메쏘드인 list.insert(), list.pop()을 사용하면 안된다. 그리고 list_insert 함수는 return 값이 없고, list_pop 함수는 return 값이 있는 것에 주의해야 한다."
   ]
  },
  {
   "cell_type": "code",
   "execution_count": 73,
   "metadata": {},
   "outputs": [],
   "source": [
    "lst = [1, 2, 3]\n",
    "list.insert(lst, 1, 6) #리스트 index value"
   ]
  },
  {
   "cell_type": "code",
   "execution_count": 74,
   "metadata": {},
   "outputs": [
    {
     "data": {
      "text/plain": [
       "[1, 6, 2, 3]"
      ]
     },
     "execution_count": 74,
     "metadata": {},
     "output_type": "execute_result"
    }
   ],
   "source": [
    "lst"
   ]
  },
  {
   "cell_type": "code",
   "execution_count": 75,
   "metadata": {},
   "outputs": [
    {
     "data": {
      "text/plain": [
       "6"
      ]
     },
     "execution_count": 75,
     "metadata": {},
     "output_type": "execute_result"
    }
   ],
   "source": [
    "list.pop(lst, 1) #리스트 index return value"
   ]
  },
  {
   "cell_type": "code",
   "execution_count": 76,
   "metadata": {},
   "outputs": [
    {
     "data": {
      "text/plain": [
       "[1, 2, 3]"
      ]
     },
     "execution_count": 76,
     "metadata": {},
     "output_type": "execute_result"
    }
   ],
   "source": [
    "lst"
   ]
  },
  {
   "cell_type": "code",
   "execution_count": 169,
   "metadata": {},
   "outputs": [],
   "source": [
    "def list_insert(lst, index, obj, /):\n",
    "    lst2 = lst.copy()\n",
    "    lst.clear()\n",
    "    lst += lst2[:index]\n",
    "    lst += [obj]\n",
    "    lst += lst2[index:]\n",
    "    \n",
    "lst = [1, 2, 3]\n",
    "list_insert(lst, 1, 6)"
   ]
  },
  {
   "cell_type": "code",
   "execution_count": 170,
   "metadata": {},
   "outputs": [
    {
     "data": {
      "text/plain": [
       "[1, 6, 2, 3]"
      ]
     },
     "execution_count": 170,
     "metadata": {},
     "output_type": "execute_result"
    }
   ],
   "source": [
    "lst"
   ]
  },
  {
   "cell_type": "code",
   "execution_count": 178,
   "metadata": {},
   "outputs": [
    {
     "data": {
      "text/plain": [
       "2"
      ]
     },
     "execution_count": 178,
     "metadata": {},
     "output_type": "execute_result"
    }
   ],
   "source": [
    "def list_pop(lst, index=-1, /):\n",
    "    value = lst[index]\n",
    "    lst2 = lst.copy()\n",
    "    lst.clear()\n",
    "    lst += lst2[:index]\n",
    "    del(lst2[index])\n",
    "    lst += lst2[index:]\n",
    "    return value\n",
    "\n",
    "lst = [1, 2, 3]\n",
    "list_pop(lst, 1)\n"
   ]
  },
  {
   "cell_type": "code",
   "execution_count": 187,
   "metadata": {},
   "outputs": [
    {
     "data": {
      "text/plain": [
       "[1, 3]"
      ]
     },
     "execution_count": 187,
     "metadata": {},
     "output_type": "execute_result"
    }
   ],
   "source": [
    "lst"
   ]
  },
  {
   "cell_type": "markdown",
   "metadata": {},
   "source": [
    "#### 예제 8.\n",
    " Python 함수는 여러 개의 객체를 튜틀로 반환하기도 한다. 예를 들면, divmod 함수가 그렇다.\n",
    " \n",
    " 여러 개의 숫자를 입력받아 평균과 분산을 반환하는 함수 mean_var 를 작성하라. 단, 입력되는 숫자의 개수는 변할 수 있고, 숫자의 개수가 0개이면 평균과 분산은 모두 0.0을 반환한다.\n",
    "\n",
    "단, 평균과 분산을 구할 때 다른 함수를 사용하지 말고 직접 계산해야 한다."
   ]
  },
  {
   "cell_type": "code",
   "execution_count": 171,
   "metadata": {
    "scrolled": true
   },
   "outputs": [
    {
     "name": "stdout",
     "output_type": "stream",
     "text": [
      "Help on built-in function divmod in module builtins:\n",
      "\n",
      "divmod(x, y, /)\n",
      "    Return the tuple (x//y, x%y).  Invariant: div*y + mod == x.\n",
      "\n"
     ]
    }
   ],
   "source": [
    "help(divmod)"
   ]
  },
  {
   "cell_type": "markdown",
   "metadata": {},
   "source": [
    "$x_1, \\cdots, x_n$의 평균 $m$과 분산 $\\sigma^2$은 각각 다음과 같이 구한다.\n",
    "\n",
    "$$m = \\frac{1}{n} \\sum_{i=1}^n x_i$$\n",
    "$$\\sigma^2 = \\frac{1}{n} \\sum_{i=1}^n \\left(x_i - m\\right)^2$$\n",
    "\n",
    "mean_var(1, 3, 5)의 결과는 다음과 같아야 한다.\n",
    "```\n",
    "(3.0, 2.6666666666666665)\n",
    "```"
   ]
  },
  {
   "cell_type": "code",
   "execution_count": 19,
   "metadata": {},
   "outputs": [
    {
     "data": {
      "text/plain": [
       "(3.0, 2.6666666666666665)"
      ]
     },
     "execution_count": 19,
     "metadata": {},
     "output_type": "execute_result"
    }
   ],
   "source": [
    "def mean_var(*x):\n",
    "    m = 0\n",
    "    for a in x:\n",
    "        m += a\n",
    "    m = m / len(x)\n",
    "    v = 0\n",
    "    for a in x:\n",
    "        v += (a - m) ** 2\n",
    "    v = v / len(x)\n",
    "    return m, v\n",
    "mean_var(1, 3, 5)\n"
   ]
  }
 ],
 "metadata": {
  "kernelspec": {
   "display_name": "Python 3",
   "language": "python",
   "name": "python3"
  },
  "language_info": {
   "codemirror_mode": {
    "name": "ipython",
    "version": 3
   },
   "file_extension": ".py",
   "mimetype": "text/x-python",
   "name": "python",
   "nbconvert_exporter": "python",
   "pygments_lexer": "ipython3",
   "version": "3.8.5"
  },
  "latex_envs": {
   "LaTeX_envs_menu_present": true,
   "autoclose": false,
   "autocomplete": true,
   "bibliofile": "biblio.bib",
   "cite_by": "apalike",
   "current_citInitial": 1,
   "eqLabelWithNumbers": true,
   "eqNumInitial": 1,
   "hotkeys": {
    "equation": "Ctrl-E",
    "itemize": "Ctrl-I"
   },
   "labels_anchors": false,
   "latex_user_defs": false,
   "report_style_numbering": false,
   "user_envs_cfg": false
  },
  "toc": {
   "base_numbering": 1,
   "nav_menu": {},
   "number_sections": false,
   "sideBar": true,
   "skip_h1_title": false,
   "title_cell": "Table of Contents",
   "title_sidebar": "Contents",
   "toc_cell": false,
   "toc_position": {
    "height": "calc(100% - 180px)",
    "left": "10px",
    "top": "150px",
    "width": "270.5px"
   },
   "toc_section_display": true,
   "toc_window_display": false
  }
 },
 "nbformat": 4,
 "nbformat_minor": 2
}
