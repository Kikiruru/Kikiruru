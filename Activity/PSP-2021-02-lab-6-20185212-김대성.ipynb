{
 "cells": [
  {
   "cell_type": "markdown",
   "metadata": {},
   "source": [
    "<h1 align='center'> 파이썬과학프로그래밍기초 실습 6</h1>\n",
    "\n",
    "<p style=\"text-align: right\"> 2021.11.8.</p>"
   ]
  },
  {
   "cell_type": "markdown",
   "metadata": {},
   "source": [
    "<div class=\"alert alert-block alert-info\">\n",
    "    \n",
    "- 파일 이름에서 00000000을 자신의 학번으로, name을 자신의 이름으로 수정하세요.\n",
    "\n",
    "- 다음 줄에 자신의 이름, 학번, 학과(전공)을 적으세요.\n",
    "\n",
    "* 이름:   김대성&nbsp;          학번:    20185212&nbsp;&nbsp;         학과(전공): 스마트IoT\n",
    "    \n",
    "</div>\n",
    "\n",
    "- Jupyter notebook에 대한 설명은 [The Jupyter Notebook](https://jupyter-notebook.readthedocs.io/en/stable/)을  참고하라\n",
    "\n",
    "- Markdown은 [Markdown Guide](https://www.markdownguide.org/)를 참고하라.\n",
    "- [Markdown Cheat Sheet](https://www.markdownguide.org/cheat-sheet/)\n",
    "\n",
    "* 제출 마감: 11월 13일 (토) 오후 6:00.\n"
   ]
  },
  {
   "cell_type": "markdown",
   "metadata": {},
   "source": [
    "#### 예제 1. 리스트의 숫자를 sorting하는 예\n",
    "\n",
    "```\n",
    "lst = [5, 1, 3, 7, 8]\n",
    "```\n",
    "\n",
    "#### 1) 내장 함수 sorted 이용"
   ]
  },
  {
   "cell_type": "code",
   "execution_count": 1,
   "metadata": {},
   "outputs": [
    {
     "name": "stdout",
     "output_type": "stream",
     "text": [
      "original: [9, 8, 3, 7, 5]\n",
      "sorted: [3, 5, 7, 8, 9]\n"
     ]
    }
   ],
   "source": [
    "lst = [9, 8, 3, 7, 5]\n",
    "lst_1 = sorted(lst)\n",
    "print('original:', lst)\n",
    "print('sorted:', lst_1)"
   ]
  },
  {
   "cell_type": "markdown",
   "metadata": {},
   "source": [
    "#### 2) Bubble sort\n",
    "\n",
    "\n",
    "##### 2.1) 알고리듬 실행 예\n",
    "- [**9, 8**, 3, 7, 5]\n",
    "- [8, **9, 3**, 7, 5]\n",
    "- [8, 3, **9, 7**, 5]\n",
    "- [8, 3, 7, **9, 5**]\n",
    "- [**8, 3**, 7, 5, 9]\n",
    "- [3, **8, 7**, 5, 9]\n",
    "- [3, 7, **8, 5**, 9]\n",
    "- [**3, 7**, 5, 8, 9]\n",
    "- [3, **7, 5**, 8, 9]\n",
    "- [**3, 5**, 7, 8, 9]\n",
    "- [3, 5, 7, 8, 9]"
   ]
  },
  {
   "cell_type": "markdown",
   "metadata": {},
   "source": [
    "#####  2.2) 반복 bublle sort 함수 예"
   ]
  },
  {
   "cell_type": "code",
   "execution_count": 4,
   "metadata": {},
   "outputs": [
    {
     "name": "stdout",
     "output_type": "stream",
     "text": [
      "[9, 8, 3, 7, 5]\n",
      "[8, 9, 3, 7, 5]\n",
      "[3, 9, 8, 7, 5]\n",
      "[3, 9, 8, 7, 5]\n",
      "[3, 9, 8, 7, 5]\n",
      "[3, 9, 8, 7, 5]\n",
      "[3, 8, 9, 7, 5]\n",
      "[3, 7, 9, 8, 5]\n",
      "[3, 5, 9, 8, 7]\n",
      "[3, 5, 9, 8, 7]\n",
      "[3, 5, 8, 9, 7]\n",
      "[3, 5, 7, 9, 8]\n",
      "[3, 5, 7, 9, 8]\n",
      "[3, 5, 7, 8, 9]\n",
      "\n",
      "[3, 5, 7, 8, 9]\n"
     ]
    }
   ],
   "source": [
    "def bubble_sort(array):\n",
    "    for i in range(len(array)-1):\n",
    "        for n in range(i, len(array)):\n",
    "            if array[i] > array[n]:\n",
    "                array[i], array[n] = array[n], array[i]\n",
    "            print(array)\n",
    "    \n",
    "lst_1 = [9, 8, 3, 7, 5]\n",
    "bubble_sort(lst_1)\n",
    "print()\n",
    "print(lst_1)"
   ]
  },
  {
   "cell_type": "code",
   "execution_count": 2,
   "metadata": {},
   "outputs": [
    {
     "name": "stdout",
     "output_type": "stream",
     "text": [
      "[8, 9, 3, 7, 5]\n",
      "[8, 3, 9, 7, 5]\n",
      "[8, 3, 7, 9, 5]\n",
      "[8, 3, 7, 5, 9]\n",
      "[3, 8, 7, 5, 9]\n",
      "[3, 7, 8, 5, 9]\n",
      "[3, 7, 5, 8, 9]\n",
      "[3, 7, 5, 8, 9]\n",
      "[3, 5, 7, 8, 9]\n",
      "[3, 5, 7, 8, 9]\n",
      "\n",
      "[3, 5, 7, 8, 9]\n"
     ]
    }
   ],
   "source": [
    "def bubble_sort(array):\n",
    "    n = len(array)\n",
    "    for i in range(n):\n",
    "        for j in range(n-1-i):\n",
    "            if array[j] > array[j+1]:\n",
    "                array[j], array[j+1] = array[j+1], array[j]\n",
    "            print(array)\n",
    "    \n",
    "lst_1 = [9, 8, 3, 7, 5]\n",
    "bubble_sort(lst_1)\n",
    "print()\n",
    "print(lst_1)"
   ]
  },
  {
   "cell_type": "code",
   "execution_count": 14,
   "metadata": {
    "scrolled": true
   },
   "outputs": [
    {
     "name": "stdout",
     "output_type": "stream",
     "text": [
      "[5, 3, 7, 9, 6]\n",
      "[3, 5, 7, 9, 6]\n",
      "[3, 5, 7, 9, 6]\n",
      "[3, 5, 7, 9, 6]\n",
      "[3, 5, 7, 9, 6]\n",
      "[3, 5, 7, 9, 6]\n",
      "[3, 5, 7, 9, 6]\n",
      "[3, 5, 7, 9, 6]\n",
      "[3, 5, 7, 9, 6]\n",
      "[3, 5, 7, 9, 6]\n",
      "[3, 5, 7, 9, 6]\n",
      "[3, 5, 6, 9, 7]\n",
      "[3, 5, 6, 9, 7]\n",
      "[3, 5, 6, 7, 9]\n"
     ]
    },
    {
     "data": {
      "text/plain": [
       "[3, 5, 6, 7, 9]"
      ]
     },
     "execution_count": 14,
     "metadata": {},
     "output_type": "execute_result"
    }
   ],
   "source": [
    "lst_2 = [5, 3, 7, 9, 6]\n",
    "bubble_sort(lst_2)\n",
    "lst_2"
   ]
  },
  {
   "cell_type": "markdown",
   "metadata": {},
   "source": [
    "##### 2.3) 위 함수의 단점을 보완한 새로운 bublle sort 함수 예"
   ]
  },
  {
   "cell_type": "code",
   "execution_count": 34,
   "metadata": {},
   "outputs": [
    {
     "data": {
      "text/plain": [
       "[3, 5, 7, 8, 9]"
      ]
     },
     "execution_count": 34,
     "metadata": {},
     "output_type": "execute_result"
    }
   ],
   "source": [
    "def bubble_sort_2(array):\n",
    "    n = len(array)\n",
    "    for i in range(n):\n",
    "        flag = True\n",
    "        for j in range(n-1-i):\n",
    "            if array[j] > array[j+1]:\n",
    "                array[j], array[j+1] = array[j+1], array[j]\n",
    "                flag = False\n",
    "        if flag == True:\n",
    "            break\n",
    "            \n",
    "lst = [9, 8, 3, 7, 5]\n",
    "bubble_sort_2(lst)\n",
    "lst"
   ]
  },
  {
   "cell_type": "code",
   "execution_count": 20,
   "metadata": {},
   "outputs": [
    {
     "name": "stdout",
     "output_type": "stream",
     "text": [
      "[3, 5, 7, 8, 9]\n",
      "[3, 5, 7, 8, 9]\n",
      "[3, 5, 7, 8, 9]\n",
      "[3, 5, 7, 8, 9]\n"
     ]
    },
    {
     "data": {
      "text/plain": [
       "[3, 5, 7, 8, 9]"
      ]
     },
     "execution_count": 20,
     "metadata": {},
     "output_type": "execute_result"
    }
   ],
   "source": [
    "lst_3 = [5, 3, 7, 8, 9]\n",
    "bubble_sort_2(lst_3)\n",
    "lst_3"
   ]
  },
  {
   "cell_type": "markdown",
   "metadata": {},
   "source": [
    "##### 2.4) 재귀 bubble sort 함수\n",
    "\n",
    "```\n",
    "lst = [9, 8, 3, 7, 5]\n",
    "```\n",
    "- 함수의 동작\n",
    "\n",
    "  - 기초 단계: len(lst) < 2이면 lst를 반환한다.\n",
    "  - 재귀 단계:\n",
    "      - n 개의 원소에 대해서 bubble sort 실행\n",
    "      - 처음 n-1 개의 원소에 재귀 함수 적용\n"
   ]
  },
  {
   "cell_type": "code",
   "execution_count": 24,
   "metadata": {},
   "outputs": [
    {
     "data": {
      "text/plain": [
       "[3, 5, 7, 8, 9]"
      ]
     },
     "execution_count": 24,
     "metadata": {},
     "output_type": "execute_result"
    }
   ],
   "source": [
    "def recursive_bubble_sort(array, n=None):\n",
    "    if n == None:\n",
    "        n = len(array)\n",
    "    #기초 단계\n",
    "    if n == 1:\n",
    "        return array\n",
    "    #반복 단계\n",
    "    for i in range(n-1):\n",
    "        if array[i] > array[i+1]:\n",
    "                array[i], array[i+1] = array[i+1], array[i]\n",
    "    recursive_bubble_sort(array, n-1)\n",
    "\n",
    "lst_4 = [9, 8, 3, 7, 5]\n",
    "recursive_bubble_sort(lst_4)\n",
    "lst_4"
   ]
  },
  {
   "cell_type": "code",
   "execution_count": 33,
   "metadata": {},
   "outputs": [
    {
     "data": {
      "text/plain": [
       "[8, 3, 7, 5, 9]"
      ]
     },
     "execution_count": 33,
     "metadata": {},
     "output_type": "execute_result"
    }
   ],
   "source": [
    "def recursive_bubble_sort_2(array):\n",
    "    n = len(array)\n",
    "    #기초 단계\n",
    "    if n == 1:\n",
    "        return array\n",
    "    #반복 단계\n",
    "    for i in range(n-1):\n",
    "        if array[i] > array[i+1]:\n",
    "                array[i], array[i+1] = array[i+1], array[i]\n",
    "    recursive_bubble_sort(array[:n-1])\n",
    "\n",
    "lst_4 = [9, 8, 3, 7, 5]\n",
    "recursive_bubble_sort_2(lst_4)\n",
    "lst_4"
   ]
  },
  {
   "cell_type": "markdown",
   "metadata": {},
   "source": [
    "슬라이싱 한 리스트의 주소값이 달라지면서 리스트 슬라이싱을 한 복사본이 소트되면서 원래 리스트는 소트되지 않고 반환된다"
   ]
  },
  {
   "cell_type": "code",
   "execution_count": 35,
   "metadata": {},
   "outputs": [
    {
     "data": {
      "text/plain": [
       "[0, 1, 1, 3, 4, 4, 5, 5, 6, 7, 7, 8, 9]"
      ]
     },
     "execution_count": 35,
     "metadata": {},
     "output_type": "execute_result"
    }
   ],
   "source": [
    "lst_5 = [5, 1, 5, 3, 7, 8, 4, 9, 1, 0, 4, 6, 7]\n",
    "bubble_sort_2(lst_5)\n",
    "lst_5"
   ]
  },
  {
   "cell_type": "markdown",
   "metadata": {},
   "source": [
    "#### 3) 또 다른 재귀 sort 함수\n",
    "\n",
    "```\n",
    "lst = [5, 1, 5, 3, 7, 8, 4, 9, 1, 0, 4, 6, 7]\n",
    "```\n",
    "- 함수의 동작은 다음과 같다.\n",
    "\n",
    "  - 기초 단계: len(lst) < 2이면 lst를 반환한다.\n",
    "  - 재귀 단계:\n",
    "      - pivot = lst[0]\n",
    "      - pivot보다 작은 숫자들: [1, 3, 4, 1, 0, 4]\n",
    "      - pivot과 같은 숫자들: [5, 5]\n",
    "      - pivot보다 큰숫자들: [7, 8, 9, 6, 7]\n",
    "      - 큰 숫자들과 작은 숫자들을 자기 자신을 호출하면서 argument로 전달\n",
    "      - sort_recursive(작은 숫자들) + 같은 숫자들 + sort_recursive(큰 숫자들)을 반환한다.\n",
    "\n",
    "```\n",
    "[5, 1, 5, 3, 7, 8, 4, 9, 1, 0, 4, 6, 7] --> [1, 3, 4, 1, 0, 4] + [5, 5] + [7, 8, 9, 6, 7]\n",
    "\n",
    "[1, 3, 4, 1, 0, 4] --> [0] + [1, 1] + [3, 4, 4]\n",
    "\n",
    "[0]\n",
    "\n",
    "[3, 4, 4] --> [] + [3] + [4, 4]\n",
    "\n",
    "[3]\n",
    "\n",
    "[]\n",
    "\n",
    "[7, 8, 9, 6, 7] --> [6] + [7, 7] + [8, 9]\n",
    "\n",
    "[6]\n",
    "\n",
    "[8, 9] --> [] + [8] + [9]\n",
    "\n",
    "[]\n",
    "\n",
    "[9]\n",
    "\n",
    "[0] + [1, 1] + [3, 4, 4] + [5, 5] + [6] + [7, 7] + [8, 9]\n",
    "\n",
    "[8, 9] --> [] + [8] + [9]\n",
    "\n",
    "```"
   ]
  },
  {
   "cell_type": "code",
   "execution_count": 29,
   "metadata": {},
   "outputs": [
    {
     "data": {
      "text/plain": [
       "[0, 1, 1, 3, 4, 4, 5, 5, 6, 7, 7, 8, 9]"
      ]
     },
     "execution_count": 29,
     "metadata": {},
     "output_type": "execute_result"
    }
   ],
   "source": [
    "lst = [5, 1, 5, 3, 7, 8, 4, 9, 1, 0, 4, 6, 7]\n",
    "sorted(lst)"
   ]
  },
  {
   "cell_type": "code",
   "execution_count": 41,
   "metadata": {},
   "outputs": [
    {
     "data": {
      "text/plain": [
       "[0, 1, 1, 3, 4, 4, 5, 5, 6, 7, 7, 8, 9]"
      ]
     },
     "execution_count": 41,
     "metadata": {},
     "output_type": "execute_result"
    }
   ],
   "source": [
    "lst = [5, 1, 5, 3, 7, 8, 4, 9, 1, 0, 4, 6, 7]\n",
    "bubble_sort_2(lst)\n",
    "lst"
   ]
  },
  {
   "cell_type": "code",
   "execution_count": 31,
   "metadata": {},
   "outputs": [
    {
     "name": "stdout",
     "output_type": "stream",
     "text": [
      "[5, 1, 5, 3, 7, 8, 4, 9, 1, 0, 4, 6, 7]\n",
      "[0, 1, 1, 3, 4, 4, 5, 5, 6, 7, 7, 8, 9]\n"
     ]
    }
   ],
   "source": [
    "def recursive_sort(lst):\n",
    "    #기초단계\n",
    "    if len(lst) < 2:\n",
    "        return lst\n",
    "    else:\n",
    "        #재귀 단계\n",
    "        pivot = lst[0]\n",
    "        smaller = []\n",
    "        greater = []\n",
    "        same = [pivot]\n",
    "        \n",
    "        for elem in lst[1:]:\n",
    "            if elem > pivot:\n",
    "                greater.append(elem)\n",
    "            elif elem < pivot:\n",
    "                smaller.append(elem)\n",
    "            else:\n",
    "                same.append(elem)\n",
    "    return recursive_sort(smaller) + same + recursive_sort(greater)\n",
    "\n",
    "lst = [5, 1, 5, 3, 7, 8, 4, 9, 1, 0, 4, 6, 7]\n",
    "sorted_lst = recursive_sort(lst)\n",
    "print(lst)\n",
    "print(sorted_lst)"
   ]
  },
  {
   "cell_type": "markdown",
   "metadata": {},
   "source": [
    "#### 예제 2.\n",
    "문자열을 입력받아서 문자열의 순서를 반대로 만든 문자열을 반환하는 재귀 함수 reverse_string_recursive(s)를 작성하라."
   ]
  },
  {
   "cell_type": "code",
   "execution_count": 35,
   "metadata": {},
   "outputs": [
    {
     "name": "stdout",
     "output_type": "stream",
     "text": [
      "dcba\n"
     ]
    }
   ],
   "source": [
    "def reverse_string (s):\n",
    "    return s[::-1]\n",
    "    \n",
    "s2 = reverse_string('abcd')\n",
    "print(s2)"
   ]
  },
  {
   "cell_type": "code",
   "execution_count": 36,
   "metadata": {},
   "outputs": [
    {
     "name": "stdout",
     "output_type": "stream",
     "text": [
      "dcba\n"
     ]
    }
   ],
   "source": [
    "def reverse_string_2 (s):\n",
    "    r = ''\n",
    "    for c in s:\n",
    "        r = c + r\n",
    "    return r\n",
    "    \n",
    "s2 = reverse_string_2('abcd')\n",
    "print(s2)"
   ]
  },
  {
   "cell_type": "code",
   "execution_count": 37,
   "metadata": {},
   "outputs": [
    {
     "data": {
      "text/plain": [
       "'dcba'"
      ]
     },
     "execution_count": 37,
     "metadata": {},
     "output_type": "execute_result"
    }
   ],
   "source": [
    "def recursive_reverse_string (s):\n",
    "    #기초 단계\n",
    "    if len(s) < 2:\n",
    "        return s\n",
    "    else:\n",
    "    #반복 단계\n",
    "        return recursive_reverse_string(s[1:]) + s[0]\n",
    "recursive_reverse_string('abcd')"
   ]
  },
  {
   "cell_type": "markdown",
   "metadata": {},
   "source": [
    "#### 예제 3.\n",
    "x**n을 반환하는 재귀 함수 power_recursive(x, n)를 작성하라.\n",
    "\n",
    "단, n은 0보다 크거나 같은 정수라고 가정한다."
   ]
  },
  {
   "cell_type": "code",
   "execution_count": 38,
   "metadata": {},
   "outputs": [],
   "source": [
    "def power_recursive(x, n):\n",
    "    assert n >= 0\n",
    "    if n == 0:\n",
    "        return 1\n",
    "    return x * power_recursive(x, n-1)"
   ]
  },
  {
   "cell_type": "code",
   "execution_count": 39,
   "metadata": {},
   "outputs": [
    {
     "name": "stdout",
     "output_type": "stream",
     "text": [
      "671 ns ± 5.27 ns per loop (mean ± std. dev. of 7 runs, 1000000 loops each)\n"
     ]
    }
   ],
   "source": [
    "%%timeit\n",
    "power_recursive(3, 5)\n",
    "    "
   ]
  },
  {
   "cell_type": "code",
   "execution_count": 40,
   "metadata": {},
   "outputs": [
    {
     "name": "stdout",
     "output_type": "stream",
     "text": [
      "9.9 ns ± 0.0994 ns per loop (mean ± std. dev. of 7 runs, 100000000 loops each)\n"
     ]
    }
   ],
   "source": [
    "%%timeit\n",
    "3**5"
   ]
  },
  {
   "cell_type": "markdown",
   "metadata": {},
   "source": [
    "#### 예제 4.\n",
    "검색"
   ]
  },
  {
   "cell_type": "code",
   "execution_count": 41,
   "metadata": {},
   "outputs": [
    {
     "data": {
      "text/plain": [
       "[5, 1, 5, 3, 7, 8, 4, 9, 1, 0, 4, 6, 7]"
      ]
     },
     "execution_count": 41,
     "metadata": {},
     "output_type": "execute_result"
    }
   ],
   "source": [
    "from random import seed, choices\n",
    "seed(153)\n",
    "lst"
   ]
  },
  {
   "cell_type": "code",
   "execution_count": 42,
   "metadata": {},
   "outputs": [
    {
     "data": {
      "text/plain": [
       "[7, 26, 56, 59, 83, 85, 88, 89, 97, 99]"
      ]
     },
     "execution_count": 42,
     "metadata": {},
     "output_type": "execute_result"
    }
   ],
   "source": [
    "lst = sorted(choices(range(100), k=10))\n",
    "lst"
   ]
  },
  {
   "cell_type": "code",
   "execution_count": 43,
   "metadata": {},
   "outputs": [
    {
     "data": {
      "text/plain": [
       "False"
      ]
     },
     "execution_count": 43,
     "metadata": {},
     "output_type": "execute_result"
    }
   ],
   "source": [
    "n = 43\n",
    "n in lst"
   ]
  },
  {
   "cell_type": "code",
   "execution_count": 44,
   "metadata": {},
   "outputs": [],
   "source": [
    "def is_in (lst, n):\n",
    "    for e in lst:\n",
    "        if n == e:\n",
    "            return True\n",
    "    return False"
   ]
  },
  {
   "cell_type": "code",
   "execution_count": 45,
   "metadata": {
    "scrolled": true
   },
   "outputs": [
    {
     "data": {
      "text/plain": [
       "False"
      ]
     },
     "execution_count": 45,
     "metadata": {},
     "output_type": "execute_result"
    }
   ],
   "source": [
    "is_in(lst, 3)"
   ]
  },
  {
   "cell_type": "code",
   "execution_count": 50,
   "metadata": {},
   "outputs": [],
   "source": [
    "def get_index(lst, n):\n",
    "    for idx in range(len(lst)):\n",
    "        if n == lst[idx]:\n",
    "            return idx\n",
    "    return -1"
   ]
  },
  {
   "cell_type": "code",
   "execution_count": 51,
   "metadata": {},
   "outputs": [
    {
     "data": {
      "text/plain": [
       "9"
      ]
     },
     "execution_count": 51,
     "metadata": {},
     "output_type": "execute_result"
    }
   ],
   "source": [
    "get_index(lst, 99)"
   ]
  },
  {
   "cell_type": "code",
   "execution_count": 52,
   "metadata": {},
   "outputs": [
    {
     "data": {
      "text/plain": [
       "-1"
      ]
     },
     "execution_count": 52,
     "metadata": {},
     "output_type": "execute_result"
    }
   ],
   "source": [
    "get_index(lst, 96)"
   ]
  },
  {
   "cell_type": "code",
   "execution_count": 53,
   "metadata": {},
   "outputs": [],
   "source": [
    "def get_index_2(lst, n):\n",
    "    for idx, e in enumerate(lst):\n",
    "        if n == e:\n",
    "            return idx\n",
    "    return -1"
   ]
  },
  {
   "cell_type": "code",
   "execution_count": 54,
   "metadata": {},
   "outputs": [
    {
     "data": {
      "text/plain": [
       "-1"
      ]
     },
     "execution_count": 54,
     "metadata": {},
     "output_type": "execute_result"
    }
   ],
   "source": [
    "get_index_2(lst, 39)"
   ]
  },
  {
   "cell_type": "code",
   "execution_count": 55,
   "metadata": {},
   "outputs": [
    {
     "data": {
      "text/plain": [
       "9"
      ]
     },
     "execution_count": 55,
     "metadata": {},
     "output_type": "execute_result"
    }
   ],
   "source": [
    "get_index_2(lst, 99)"
   ]
  },
  {
   "cell_type": "markdown",
   "metadata": {},
   "source": [
    "#### 예제 5.\n",
    "이진 검색 방법을 이용한 원소 검색"
   ]
  },
  {
   "cell_type": "code",
   "execution_count": 56,
   "metadata": {},
   "outputs": [
    {
     "data": {
      "text/plain": [
       "[7, 26, 56, 59, 83, 85, 88, 89, 97, 99]"
      ]
     },
     "execution_count": 56,
     "metadata": {},
     "output_type": "execute_result"
    }
   ],
   "source": [
    "lst"
   ]
  },
  {
   "cell_type": "markdown",
   "metadata": {},
   "source": [
    "-> 함수에 영향을 주지 않고 반환값의 데이터 타입이 int형이라는 것을 알려줌(참고용)"
   ]
  },
  {
   "cell_type": "code",
   "execution_count": 60,
   "metadata": {},
   "outputs": [],
   "source": [
    "def binary_search(lst, e) -> int :\n",
    "    \"\"\"\n",
    "    lst에 원소 n의 index를 반환한다.\n",
    "    lst에 n이 없는 경우에는 -1을 반환한다.\n",
    "    입력:\n",
    "        - lst: 시퀀스형 데이터\n",
    "        - e: 원소\n",
    "\n",
    "    \"\"\"\n",
    "    bubble_sort_2(lst)\n",
    "    \n",
    "    idx_low = 0\n",
    "    idx_high = len(lst) - 1\n",
    "    \n",
    "    while idx_low <= idx_high:\n",
    "        idx_mid = (idx_low + idx_high) // 2\n",
    "        \n",
    "        if lst[idx_mid] < e:\n",
    "            idx_low = idx_mid + 1\n",
    "        elif lst[idx_mid] > e:\n",
    "            idx_high = idx_mid - 1\n",
    "        else:\n",
    "            return idx_mid\n",
    "        \n",
    "    return -1"
   ]
  },
  {
   "cell_type": "code",
   "execution_count": 61,
   "metadata": {
    "scrolled": true
   },
   "outputs": [
    {
     "name": "stdout",
     "output_type": "stream",
     "text": [
      "[7, 26, 56, 59, 83, 85, 88, 89, 97, 99]\n",
      "[7, 26, 56, 59, 83, 85, 88, 89, 97, 99]\n",
      "[7, 26, 56, 59, 83, 85, 88, 89, 97, 99]\n",
      "[7, 26, 56, 59, 83, 85, 88, 89, 97, 99]\n",
      "[7, 26, 56, 59, 83, 85, 88, 89, 97, 99]\n",
      "[7, 26, 56, 59, 83, 85, 88, 89, 97, 99]\n",
      "[7, 26, 56, 59, 83, 85, 88, 89, 97, 99]\n",
      "[7, 26, 56, 59, 83, 85, 88, 89, 97, 99]\n",
      "[7, 26, 56, 59, 83, 85, 88, 89, 97, 99]\n"
     ]
    },
    {
     "data": {
      "text/plain": [
       "-1"
      ]
     },
     "execution_count": 61,
     "metadata": {},
     "output_type": "execute_result"
    }
   ],
   "source": [
    "binary_search(lst, 44)"
   ]
  },
  {
   "cell_type": "code",
   "execution_count": 62,
   "metadata": {},
   "outputs": [
    {
     "name": "stdout",
     "output_type": "stream",
     "text": [
      "[7, 26, 56, 59, 83, 85, 88, 89, 97, 99]\n",
      "[7, 26, 56, 59, 83, 85, 88, 89, 97, 99]\n",
      "[7, 26, 56, 59, 83, 85, 88, 89, 97, 99]\n",
      "[7, 26, 56, 59, 83, 85, 88, 89, 97, 99]\n",
      "[7, 26, 56, 59, 83, 85, 88, 89, 97, 99]\n",
      "[7, 26, 56, 59, 83, 85, 88, 89, 97, 99]\n",
      "[7, 26, 56, 59, 83, 85, 88, 89, 97, 99]\n",
      "[7, 26, 56, 59, 83, 85, 88, 89, 97, 99]\n",
      "[7, 26, 56, 59, 83, 85, 88, 89, 97, 99]\n"
     ]
    },
    {
     "data": {
      "text/plain": [
       "9"
      ]
     },
     "execution_count": 62,
     "metadata": {},
     "output_type": "execute_result"
    }
   ],
   "source": [
    "binary_search(lst, 99)"
   ]
  },
  {
   "cell_type": "markdown",
   "metadata": {},
   "source": [
    "#### 예제 6.\n",
    "예제 5를 순환 함수 형식으로 바꾸어라."
   ]
  },
  {
   "cell_type": "code",
   "execution_count": 85,
   "metadata": {},
   "outputs": [
    {
     "data": {
      "text/plain": [
       "[7, 26, 56, 59, 83, 85, 88, 89, 97, 99]"
      ]
     },
     "execution_count": 85,
     "metadata": {},
     "output_type": "execute_result"
    }
   ],
   "source": [
    "from random import seed, choices\n",
    "seed(153)\n",
    "lst = sorted(choices(range(100), k=10))\n",
    "lst"
   ]
  },
  {
   "cell_type": "code",
   "execution_count": 122,
   "metadata": {},
   "outputs": [],
   "source": [
    "def recursive_binary_search(lst, e) -> int :\n",
    "    \"\"\"\n",
    "    lst에 원소 n의 index를 반환한다.\n",
    "    lst에 n이 없는 경우에는 -1을 반환한다.\n",
    "    입력:\n",
    "        - lst: 크기 순으로 정렬된 원소를 가진 시퀀스형 데이터\n",
    "        - e: 원소\n",
    "    반환 값:\n",
    "        - e의 index (lst에 n이 없는 경우에는 -1)\n",
    "    \"\"\"\n",
    "    binary_lst = []\n",
    "    idx_mid = len(lst) // 2\n",
    "    if e not in lst:\n",
    "        return -1\n",
    "    if lst[idx_mid] < e:\n",
    "        binary_lst = lst[idx_mid+1:]\n",
    "        return recursive_binary_search(binary_lst, e) + idx_mid + 1\n",
    "    elif lst[idx_mid] > e:\n",
    "        binary_lst = lst[:idx_mid]\n",
    "        return recursive_binary_search(binary_lst, e)\n",
    "    else:\n",
    "        return idx_mid"
   ]
  },
  {
   "cell_type": "code",
   "execution_count": 87,
   "metadata": {},
   "outputs": [
    {
     "data": {
      "text/plain": [
       "-1"
      ]
     },
     "execution_count": 87,
     "metadata": {},
     "output_type": "execute_result"
    }
   ],
   "source": [
    "recursive_binary_search(lst, 44)"
   ]
  },
  {
   "cell_type": "code",
   "execution_count": 123,
   "metadata": {},
   "outputs": [
    {
     "name": "stdout",
     "output_type": "stream",
     "text": [
      "[7, 26, 56, 59, 83, 85, 88, 89, 97, 99]\n"
     ]
    },
    {
     "data": {
      "text/plain": [
       "-1"
      ]
     },
     "execution_count": 123,
     "metadata": {},
     "output_type": "execute_result"
    }
   ],
   "source": [
    "print(lst)\n",
    "recursive_binary_search(lst, 9)"
   ]
  },
  {
   "cell_type": "code",
   "execution_count": 136,
   "metadata": {},
   "outputs": [
    {
     "name": "stdout",
     "output_type": "stream",
     "text": [
      "lst(len) : 10\n",
      "lst[0] = 7\n",
      "index : 0\n",
      "lst[1] = 26\n",
      "index : 1\n",
      "lst[2] = 56\n",
      "index : 2\n",
      "lst[3] = 59\n",
      "index : 3\n",
      "lst[4] = 83\n",
      "index : 4\n",
      "lst[5] = 85\n",
      "index : 5\n",
      "lst[6] = 88\n",
      "index : 6\n",
      "lst[7] = 89\n",
      "index : 7\n",
      "lst[8] = 97\n",
      "index : 8\n",
      "lst[9] = 99\n",
      "index : 9\n"
     ]
    }
   ],
   "source": [
    "print(\"lst(len) : \", len(lst), sep = \"\")\n",
    "i = 0\n",
    "for e in lst:\n",
    "    print(\"lst[\",i,\"] = \", e, sep = \"\")\n",
    "    print(\"index : \", recursive_binary_search(lst, e), sep = \"\")\n",
    "    i += 1"
   ]
  },
  {
   "cell_type": "markdown",
   "metadata": {},
   "source": [
    "#### 예제 7.\n",
    "다음 프로그램의 결과가 나오는 과정을 설명하라."
   ]
  },
  {
   "cell_type": "code",
   "execution_count": 64,
   "metadata": {},
   "outputs": [
    {
     "data": {
      "text/plain": [
       "[5, 4, 6, 6, 10]"
      ]
     },
     "execution_count": 64,
     "metadata": {},
     "output_type": "execute_result"
    }
   ],
   "source": [
    "fruits = ['apple', 'pear', 'banana', 'orange', 'strawberry']\n",
    "list(map(len, fruits))"
   ]
  },
  {
   "cell_type": "code",
   "execution_count": 63,
   "metadata": {},
   "outputs": [
    {
     "data": {
      "text/plain": [
       "[5, 4, 6, 6, 10]"
      ]
     },
     "execution_count": 63,
     "metadata": {},
     "output_type": "execute_result"
    }
   ],
   "source": [
    "fruits = ['apple', 'pear', 'banana', 'orange', 'strawberry']\n",
    "[len(e) for e in fruits]"
   ]
  },
  {
   "cell_type": "markdown",
   "metadata": {},
   "source": [
    "**답**: map은 리스트의 요소를 지정된 함수로 처리해주는 함수로 list(map(len, fruits))는 fruits의 각 원소에 len을 사용한 결과를 리스트로 만들어준다 즉 각 원소(문자열)의 길이를 리스트로 만들어줘 [5, 4, 6, 6, 10]이 출력된다"
   ]
  },
  {
   "cell_type": "markdown",
   "metadata": {},
   "source": [
    "#### 예제 8.\n",
    "아래 프로그램을 map() 함수를 이용해서 바꾸고, for loop과 map 함수를 사용한 경우의 실행 시간을 비교하라."
   ]
  },
  {
   "cell_type": "code",
   "execution_count": 65,
   "metadata": {},
   "outputs": [
    {
     "name": "stdout",
     "output_type": "stream",
     "text": [
      "741 ns ± 7.14 ns per loop (mean ± std. dev. of 7 runs, 1000000 loops each)\n"
     ]
    }
   ],
   "source": [
    "%%timeit\n",
    "secret_fruits = []\n",
    "for i in range(len(fruits)):\n",
    "    secret_fruits.append(hash(fruits[i]))\n",
    "#print(fruits)    "
   ]
  },
  {
   "cell_type": "code",
   "execution_count": 66,
   "metadata": {},
   "outputs": [
    {
     "name": "stdout",
     "output_type": "stream",
     "text": [
      "403 ns ± 3.19 ns per loop (mean ± std. dev. of 7 runs, 1000000 loops each)\n"
     ]
    }
   ],
   "source": [
    "%%timeit\n",
    "secret_fruits = list(map(hash, fruits))\n",
    "#print(fruits)"
   ]
  },
  {
   "cell_type": "markdown",
   "metadata": {},
   "source": [
    "#### 예제 9.\n",
    "데이터 정규화\n",
    "$$z = \\frac{x - \\min(x)}{\\max(x) - \\min(x)}$$\n",
    "\n",
    "- 예: 1, 3, 5, 6\n",
    " * 최댓값: 6\n",
    " * 최솟값: 1\n",
    " * 정규화된 후의 값: (1-1)/5. (3-1)/5, (5-1)/5, (6-1)/5 --> 0.0, 0.4, 0.8, 1.0\n"
   ]
  },
  {
   "cell_type": "code",
   "execution_count": 137,
   "metadata": {},
   "outputs": [
    {
     "name": "stdout",
     "output_type": "stream",
     "text": [
      "[0.0, 0.4, 0.8, 1.0]\n"
     ]
    }
   ],
   "source": [
    "def normalize(arr):\n",
    "    _max = max(arr)\n",
    "    _min = min(arr)\n",
    "    d = _max - _min\n",
    "    x_normalized = []\n",
    "    for a in arr:\n",
    "        x_normalized.append((a-_min) / d)\n",
    "    return x_normalized\n",
    "\n",
    "x = [1, 3, 5, 6]\n",
    "xn = normalize(x)\n",
    "print(xn)"
   ]
  },
  {
   "cell_type": "code",
   "execution_count": 138,
   "metadata": {},
   "outputs": [
    {
     "name": "stdout",
     "output_type": "stream",
     "text": [
      "[0.0, 0.4, 0.8, 1.0]\n"
     ]
    }
   ],
   "source": [
    "def normalize_2(arr):\n",
    "    _max = max(arr)\n",
    "    _min = min(arr)\n",
    "    d = _max - _min\n",
    "    x_normalized = [(a-_min)/d for a in arr]\n",
    "    return x_normalized\n",
    "\n",
    "x = [1, 3, 5, 6]\n",
    "xn = normalize_2(x)\n",
    "print(xn)"
   ]
  },
  {
   "cell_type": "code",
   "execution_count": 142,
   "metadata": {},
   "outputs": [
    {
     "name": "stdout",
     "output_type": "stream",
     "text": [
      "[0.0, 0.4, 0.8, 1.0]\n"
     ]
    }
   ],
   "source": [
    "def normalize_3(arr):\n",
    "    _max = max(arr)\n",
    "    _min = min(arr)\n",
    "    d = _max - _min\n",
    "    def normalize_z(x):\n",
    "        return (x-_min) / d\n",
    "    x_normalized = list(map(normalize_z, arr))\n",
    "    return x_normalized\n",
    "\n",
    "x = [1, 3, 5, 6]\n",
    "xn = normalize_3(x)\n",
    "print(xn)"
   ]
  },
  {
   "cell_type": "markdown",
   "metadata": {},
   "source": [
    "### 예제 10.  다음 리스트의 합을 구하는 함수를 reduce 함수를 이용하여 만들어라.\n",
    "\n",
    "- [1, 3, 5, 7, 9] "
   ]
  },
  {
   "cell_type": "code",
   "execution_count": 146,
   "metadata": {},
   "outputs": [
    {
     "data": {
      "text/plain": [
       "25"
      ]
     },
     "execution_count": 146,
     "metadata": {},
     "output_type": "execute_result"
    }
   ],
   "source": [
    "sum([1, 3, 5, 7, 9])"
   ]
  },
  {
   "cell_type": "code",
   "execution_count": 147,
   "metadata": {},
   "outputs": [],
   "source": [
    "lst = [1, 3, 5, 7, 9]"
   ]
  },
  {
   "cell_type": "code",
   "execution_count": 148,
   "metadata": {},
   "outputs": [
    {
     "data": {
      "text/plain": [
       "25"
      ]
     },
     "execution_count": 148,
     "metadata": {},
     "output_type": "execute_result"
    }
   ],
   "source": [
    "from functools import reduce\n",
    "reduce(lambda x, y: x + y, lst)"
   ]
  },
  {
   "cell_type": "markdown",
   "metadata": {},
   "source": [
    "### 문제 1.\n",
    "2차원 그리드 grid의 왼쪽 위에서 시작해서 오늘쪽 아래로 이동한다. 단, 이동 중에 한 번에 오른쪽으로 한 칸 또는 아래쪽으로 한 칸만 이동할 수 있다. (왼쪽이나 위로 갈 수 없다).\n",
    "이 때 이동 경로에 있는 칸에 있는 수를 더했을 때 가장 큰 수가 나오는 경로를 찾아라.\n",
    "\n",
    "예:\n",
    "```\n",
    "[1, 2, 3]\n",
    "[4, 5, 6]\n",
    "[7, 8, 9] --> 1 + 4 + 7 + 8 + 9 = 29\n",
    "\n",
    "[1,  2, 3]\n",
    "[4, 10, 6]\n",
    "[7,  8, 9] --> 1 + 4 + 10 + 8 + 9 = 32\n",
    "\n",
    "[1, 2, 13]\n",
    "[4, 5,  6]\n",
    "[7, 8,  9] --> 1 + 2 + 13 + 6 + 9 = 31\n",
    "\n",
    "[[18, 73, 98,  9, 33],\n",
    " [16, 64, 98, 58, 61],\n",
    " [84, 49, 27, 13, 63],\n",
    " [ 4, 50, 56, 78, 98],\n",
    " [99,  1, 90, 58, 35]] --> 18 + 16 + 84 + 49 + 50 + 56 + 78 + 98 + 35 = 484\n",
    "```"
   ]
  },
  {
   "cell_type": "code",
   "execution_count": 104,
   "metadata": {},
   "outputs": [
    {
     "data": {
      "text/plain": [
       "602"
      ]
     },
     "execution_count": 104,
     "metadata": {},
     "output_type": "execute_result"
    }
   ],
   "source": [
    "18+73+98+98+58+61+63+98+35 #lst4의 최댓값"
   ]
  },
  {
   "cell_type": "code",
   "execution_count": 5,
   "metadata": {},
   "outputs": [],
   "source": [
    "lst = [[1,2,3],[4,5,6],[7,8,9]]\n",
    "lst2 = [[1,2,3],[4,10,6],[7,8,9]]\n",
    "lst3 = [[1,2,13],[4,5,6],[7,8,9]]\n",
    "lst4 = [[18,73,98,9,33],[16,64,98,58,61],[84,49,27,13,63],[4,50,56,78,98],[99,1,90,58,35]]"
   ]
  },
  {
   "cell_type": "code",
   "execution_count": 102,
   "metadata": {},
   "outputs": [
    {
     "name": "stdout",
     "output_type": "stream",
     "text": [
      "arr = 1\n",
      "arr = 2\n",
      "arr = 3\n"
     ]
    },
    {
     "data": {
      "text/plain": [
       "6"
      ]
     },
     "execution_count": 102,
     "metadata": {},
     "output_type": "execute_result"
    }
   ],
   "source": [
    "def max_path_sum(arr):\n",
    "    \"\"\"\n",
    "    행과 열의 원소를 모두 더한 값의 평균을 비교해 평균이 더 높은 곳으로 이동경로 설정\n",
    "    \"\"\"\n",
    "    lst = []\n",
    "    hap = 0\n",
    "\n",
    "    # 기초 단계\n",
    "    len_row = len(arr[0]) #행의 길이\n",
    "    sum_row = 0 #행 원소의 합\n",
    "    len_col = len(arr) #열의 길이\n",
    "    sum_col = 0 #열 원소의 합\n",
    "    \n",
    "    if len_col < 2: #열이 1개거나 없을 때\n",
    "        for i in range(len_row):\n",
    "            hap += arr[0][i]\n",
    "            #print(\"arr =\", arr[0][i])\n",
    "        return hap\n",
    "    elif len_row < 2: #행이 1개거나 없을 때\n",
    "        for i in range(len_col):\n",
    "            hap += arr[i][0]\n",
    "            #print(\"arr =\", arr[i][0])\n",
    "        return hap\n",
    "    \n",
    "    for i in arr[0]:\n",
    "        sum_row += i\n",
    "    for j in range(len_col):\n",
    "        sum_col += arr[j][0]\n",
    "    hap += arr[0][0]\n",
    "    #print(\"arr =\", arr[0][0])\n",
    "    \n",
    "    # 반복 단계\n",
    "    if sum_row / len_row > sum_col / len_col:\n",
    "        for i in range(len_col):\n",
    "            lst.append(arr[i][1:])\n",
    "        return hap + max_path_sum(lst)\n",
    "    elif sum_row / len_row < sum_col / len_col:\n",
    "        for i in range(1,len_col):\n",
    "            lst.append(arr[i])\n",
    "        return hap + max_path_sum(lst)\n",
    "    else: #평균이 같을 때\n",
    "        if arr[1][0] > arr[0][1]:\n",
    "            for i in range(1,len_col):\n",
    "                lst.append(arr[i])\n",
    "            return hap + max_path_sum(lst)\n",
    "        else:\n",
    "            for i in range(len_col):\n",
    "                lst.append(arr[i][1:])\n",
    "            return hap + max_path_sum(lst)\n",
    "\n",
    "lst_test = [[1, 2, 3]]\n",
    "max_path_sum(lst_test)"
   ]
  },
  {
   "cell_type": "code",
   "execution_count": 112,
   "metadata": {},
   "outputs": [
    {
     "name": "stdout",
     "output_type": "stream",
     "text": [
      "arr = 1\n",
      "arr = 4\n",
      "arr = 7\n",
      "arr = 8\n",
      "arr = 9\n",
      "max_path_sum = 29\n",
      "arr = 1\n",
      "arr = 4\n",
      "arr = 10\n",
      "arr = 8\n",
      "arr = 9\n",
      "max_path_sum = 32\n",
      "arr = 1\n",
      "arr = 2\n",
      "arr = 13\n",
      "arr = 6\n",
      "arr = 9\n",
      "max_path_sum = 31\n",
      "arr = 18\n",
      "arr = 73\n",
      "arr = 98\n",
      "arr = 98\n",
      "arr = 58\n",
      "arr = 61\n",
      "arr = 63\n",
      "arr = 98\n",
      "arr = 35\n",
      "max_path_sum = 602\n"
     ]
    }
   ],
   "source": [
    "lst = [[1,2,3],[4,5,6],[7,8,9]]\n",
    "lst2 = [[1,2,3],[4,10,6],[7,8,9]]\n",
    "lst3 = [[1,2,13],[4,5,6],[7,8,9]]\n",
    "lst4 = [[18,73,98,9,33],[16,64,98,58,61],[84,49,27,13,63],[4,50,56,78,98],[99,1,90,58,35]]\n",
    "print(\"max_path_sum =\", max_path_sum(lst))\n",
    "print(\"max_path_sum =\", max_path_sum(lst2))\n",
    "print(\"max_path_sum =\", max_path_sum(lst3))\n",
    "print(\"max_path_sum =\", max_path_sum(lst4))"
   ]
  },
  {
   "cell_type": "code",
   "execution_count": 111,
   "metadata": {},
   "outputs": [
    {
     "name": "stdout",
     "output_type": "stream",
     "text": [
      "arr = 1\n",
      "arr = 2\n",
      "arr = 4\n",
      "arr = 9\n",
      "arr = 1\n"
     ]
    },
    {
     "data": {
      "text/plain": [
       "17"
      ]
     },
     "execution_count": 111,
     "metadata": {},
     "output_type": "execute_result"
    }
   ],
   "source": [
    "lst = [[1,2,4,9],\n",
    "       [2,6,3,1],]\n",
    "max_path_sum(lst)"
   ]
  },
  {
   "cell_type": "markdown",
   "metadata": {},
   "source": [
    "#### 문제 2. zip 함수를 이용하면 두 개의 iterables의 같은 위치에 있는 원소의 tuple을 원소로 갖는 iterable을 만들 수 있다.\n",
    "\n",
    "```\n",
    "provinces = ['경기도', '강원도']\n",
    "cities = ['수원', '춘천']\n",
    "result = list(zip(provinces, cities))\n",
    "print(result)\n",
    "```\n",
    "\n",
    "위 네 줄을 실행하면 다음 결과를 얻는다.\n",
    "\n",
    "[('경기도', '수원'), ('강원도', '춘천')]\n",
    "\n",
    "\n",
    "map 함수를 이용하여 result를 구하여라."
   ]
  },
  {
   "cell_type": "markdown",
   "metadata": {},
   "source": [
    "# Test"
   ]
  },
  {
   "cell_type": "code",
   "execution_count": 2,
   "metadata": {},
   "outputs": [
    {
     "name": "stdout",
     "output_type": "stream",
     "text": [
      "[('경기도', '수원'), ('강원도', '춘천')]\n"
     ]
    }
   ],
   "source": [
    "provinces = ['경기도', '강원도']\n",
    "cities = ['수원', '춘천']\n",
    "result = list(zip(provinces, cities))\n",
    "print(result)"
   ]
  },
  {
   "cell_type": "code",
   "execution_count": 3,
   "metadata": {},
   "outputs": [
    {
     "data": {
      "text/plain": [
       "[('경기도', '수원'), ('강원도', '춘천')]"
      ]
     },
     "execution_count": 3,
     "metadata": {},
     "output_type": "execute_result"
    }
   ],
   "source": [
    "result = list(map(tuple, zip(provinces, cities)))\n",
    "result"
   ]
  },
  {
   "cell_type": "code",
   "execution_count": 4,
   "metadata": {},
   "outputs": [
    {
     "data": {
      "text/plain": [
       "[('경기도', '수원'), ('강원도', '춘천')]"
      ]
     },
     "execution_count": 4,
     "metadata": {},
     "output_type": "execute_result"
    }
   ],
   "source": [
    "def zip2(arr, arr2):\n",
    "    if len(arr) != len(arr2):\n",
    "        return\n",
    "    lst = []\n",
    "    for i in range(len(arr)):\n",
    "        lst.append((arr[i], arr2[i]))\n",
    "    return lst\n",
    "result = zip2(provinces, cities)\n",
    "result"
   ]
  },
  {
   "cell_type": "code",
   "execution_count": 5,
   "metadata": {},
   "outputs": [
    {
     "data": {
      "text/plain": [
       "(['경기도', '강원도'], ['수원', '춘천'])"
      ]
     },
     "execution_count": 5,
     "metadata": {},
     "output_type": "execute_result"
    }
   ],
   "source": [
    "(provinces, cities)"
   ]
  },
  {
   "cell_type": "code",
   "execution_count": 21,
   "metadata": {},
   "outputs": [
    {
     "data": {
      "text/plain": [
       "[None, None]"
      ]
     },
     "execution_count": 21,
     "metadata": {},
     "output_type": "execute_result"
    }
   ],
   "source": [
    "result = list(map(zip2, provinces, cities))\n",
    "result"
   ]
  },
  {
   "cell_type": "code",
   "execution_count": 6,
   "metadata": {},
   "outputs": [
    {
     "data": {
      "text/plain": [
       "[('경기도', '수원'), ('강원도', '춘천')]"
      ]
     },
     "execution_count": 6,
     "metadata": {},
     "output_type": "execute_result"
    }
   ],
   "source": [
    "def zip3(arr):\n",
    "    if len(arr) != 2:\n",
    "        return\n",
    "    lst = list()\n",
    "    for i in range(len(arr[0])):\n",
    "        lst.append((arr[0][i], arr[1][i]))\n",
    "    return lst\n",
    "\n",
    "zip3((provinces, cities))"
   ]
  },
  {
   "cell_type": "code",
   "execution_count": 14,
   "metadata": {
    "scrolled": true
   },
   "outputs": [
    {
     "data": {
      "text/plain": [
       "[('경기도', '수원'), ('강원도', '춘천')]"
      ]
     },
     "execution_count": 14,
     "metadata": {},
     "output_type": "execute_result"
    }
   ],
   "source": [
    "zip3(new_list)"
   ]
  },
  {
   "cell_type": "code",
   "execution_count": 16,
   "metadata": {},
   "outputs": [
    {
     "name": "stdout",
     "output_type": "stream",
     "text": [
      "[['경기도', '강원도'], ['수원', '춘천']]\n"
     ]
    },
    {
     "data": {
      "text/plain": [
       "[[('경', '강'), ('기', '원'), ('도', '도')], [('수', '춘'), ('원', '천')]]"
      ]
     },
     "execution_count": 16,
     "metadata": {},
     "output_type": "execute_result"
    }
   ],
   "source": [
    "new_list = []\n",
    "new_list.append(provinces)\n",
    "new_list.append(cities)\n",
    "print(new_list)\n",
    "result = list(map(zip3, new_list))\n",
    "result"
   ]
  },
  {
   "cell_type": "code",
   "execution_count": 28,
   "metadata": {},
   "outputs": [
    {
     "data": {
      "text/plain": [
       "[30, 60, 80]"
      ]
     },
     "execution_count": 28,
     "metadata": {},
     "output_type": "execute_result"
    }
   ],
   "source": [
    "def add(a, b):\n",
    "    return a + b\n",
    "\n",
    "a = [10, 20, 30]\n",
    "b = [20, 40, 50]\n",
    "\n",
    "result  = list(map(add, a, b))\n",
    "result"
   ]
  },
  {
   "cell_type": "markdown",
   "metadata": {},
   "source": [
    "# 답"
   ]
  },
  {
   "cell_type": "code",
   "execution_count": 32,
   "metadata": {},
   "outputs": [
    {
     "data": {
      "text/plain": [
       "[('경기도', '수원'), ('강원도', '춘천')]"
      ]
     },
     "execution_count": 32,
     "metadata": {},
     "output_type": "execute_result"
    }
   ],
   "source": [
    "def zip4(arr, arr2):\n",
    "    return (arr, arr2)\n",
    "\n",
    "result = list(map(zip4, provinces, cities))\n",
    "result"
   ]
  }
 ],
 "metadata": {
  "kernelspec": {
   "display_name": "Python 3",
   "language": "python",
   "name": "python3"
  },
  "language_info": {
   "codemirror_mode": {
    "name": "ipython",
    "version": 3
   },
   "file_extension": ".py",
   "mimetype": "text/x-python",
   "name": "python",
   "nbconvert_exporter": "python",
   "pygments_lexer": "ipython3",
   "version": "3.8.5"
  },
  "latex_envs": {
   "LaTeX_envs_menu_present": true,
   "autoclose": false,
   "autocomplete": true,
   "bibliofile": "biblio.bib",
   "cite_by": "apalike",
   "current_citInitial": 1,
   "eqLabelWithNumbers": true,
   "eqNumInitial": 1,
   "hotkeys": {
    "equation": "Ctrl-E",
    "itemize": "Ctrl-I"
   },
   "labels_anchors": false,
   "latex_user_defs": false,
   "report_style_numbering": false,
   "user_envs_cfg": false
  },
  "toc": {
   "base_numbering": 1,
   "nav_menu": {},
   "number_sections": false,
   "sideBar": true,
   "skip_h1_title": false,
   "title_cell": "Table of Contents",
   "title_sidebar": "Contents",
   "toc_cell": false,
   "toc_position": {
    "height": "calc(100% - 180px)",
    "left": "10px",
    "top": "150px",
    "width": "270.5px"
   },
   "toc_section_display": true,
   "toc_window_display": false
  }
 },
 "nbformat": 4,
 "nbformat_minor": 2
}
