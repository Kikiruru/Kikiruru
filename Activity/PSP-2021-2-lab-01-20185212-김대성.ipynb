{
 "cells": [
  {
   "cell_type": "markdown",
   "metadata": {},
   "source": [
    "<h1 align='center'> 파이썬과학프로그래밍기초 실습 1</h1>\n",
    "\n",
    "<h6 align='right'> 2021.9.8.</h6>\n"
   ]
  },
  {
   "cell_type": "markdown",
   "metadata": {},
   "source": [
    "<div class=\"alert alert-block alert-info\">\n",
    "    \n",
    "- 파일 이름에서 00000000을 자신의 학번으로, name을 자신의 이름으로 수정하세요.\n",
    "\n",
    "- 다음 줄에 자신의 이름, 학번, 학과(전공)을 적으세요.\n",
    "\n",
    "* 이름:   김대성          학번:    20185212         학과(전공): 스마트IoT\n",
    "    \n",
    "</div>\n",
    "\n",
    "- Jupyter notebook에 대한 설명은 [The Jupyter Notebook](https://jupyter-notebook.readthedocs.io/en/stable/)을  참고하라\n",
    "\n",
    "- Markdown은 [Markdown Guide](https://www.markdownguide.org/)를 참고하라.\n",
    "- [Markdown Cheat Sheet](https://www.markdownguide.org/cheat-sheet/)\n",
    "\n",
    "* 제출 마감: 3월 10일 (금) 오후 6:00까지 최종본 SmartLEAD제출\n"
   ]
  },
  {
   "cell_type": "markdown",
   "metadata": {},
   "source": [
    "## 1. Jupyter Notebook 관련\n",
    "\n",
    "#### 문제  1. 이 셀 아래에 새로운 code 셀을 만들려고 한다. 현재 셀을 선택한 상태에서 어떤 키를 눌러야 하는가?\n",
    "\n",
    "**답**: B"
   ]
  },
  {
   "cell_type": "markdown",
   "metadata": {},
   "source": [
    "#### 문제 2. Code cell에서 한 문장의 첫 글자가 '!'이면, 해당 OS의 system command로 처리된다.\n",
    "\n",
    "   이 셀 아래에 새로운 code 셀을 만들어서 아래 명령을 실행하려고 한다. 새로운 셀을 만들어서 아래 명령을 입력한 후에 그 셀을 실행하려면 어떤 키를 눌러야 하는지 설명하라.\n",
    "\n",
    "```code\n",
    "!pwd\n",
    "```\n",
    "\n",
    "**답**: ctrl + enter"
   ]
  },
  {
   "cell_type": "code",
   "execution_count": 1,
   "metadata": {},
   "outputs": [
    {
     "name": "stdout",
     "output_type": "stream",
     "text": [
      "/Users/kimdaesung/Desktop/2021-파이썬과학프로그래밍/실습\r\n"
     ]
    }
   ],
   "source": [
    "!pwd"
   ]
  },
  {
   "cell_type": "markdown",
   "metadata": {},
   "source": [
    "#### 문제 3. 이 셀 아래에 새로운 code 셀을 만들고, 그 셀을 Markdown cell을 만드는 방법을 설명하라.\n",
    "\n",
    "**답**: 커맨드 모드로 들어간 후에 M키를 눌러 마크다운 셀을 만드거나 셀 메뉴에서 markdown type으로 변경한다"
   ]
  },
  {
   "cell_type": "markdown",
   "metadata": {},
   "source": [
    "#### 생각해 보기\n",
    "\n",
    "Markdown cell에 수식을 사용하기 위해서는 \\\\$와 \\\\$ 사이에 또는 \\\\$\\\\$와 \\\\$\\\\$ 사이에수식을 넣을 수 있다. "
   ]
  },
  {
   "cell_type": "markdown",
   "metadata": {},
   "source": [
    "- $n$ 개의 원소 $x_i$로 이루어진 모집단의 평균, 분산, 표준편차를 구하는 식은 다음과 같다.\n",
    "\n",
    "-----------\n",
    "$$\\bar{x} = \\frac{1}{n}\\sum_{i=1}^{n} x_i $$\n",
    "$$\\sigma^2 =  \\frac{1}{n}\\sum_{i=1}^{n} (x_i - \\bar{x})^2 $$\n",
    "$$\\sigma =  \\sqrt{\\frac{1}{n}\\sum_{i=1}^{n} (x_i - \\bar{x})^2} $$\n",
    "-----------\n",
    "$$ \\sqrt[3]{8} = 2$$\n",
    "----\n"
   ]
  },
  {
   "cell_type": "markdown",
   "metadata": {},
   "source": [
    "- 이 셀에 위 셀의 수식들을 직접 입력해 보고, 적당히 변형시켜서 새로운 식을 작성해 보라.\n"
   ]
  },
  {
   "cell_type": "markdown",
   "metadata": {},
   "source": [
    "$$\\bar{x} = \\frac{1}{n}\\sum_{i=1}^{n} x_i $$\n",
    "$$\\sigma^2 = \\frac{1}{n}\\sum_{i=1}^{n} (x_i - \\bar{x})^2 $$\n",
    "$$\\sigma = \\sqrt{\\frac{1}{n}\\sum_{i=1}^{n} (x_i - \\bar{x})^2} $$\n",
    "-----------\n",
    "$$ \\sqrt[3]{8} = 2$$\n",
    "-----------\n",
    "$$\\bar{x} = n^{-1}\\sum_{i=1}^{n} x_i $$\n",
    "$$\\sigma^2 = \\frac{1}{n}\\sum_{i=1}^{n} \\sqrt{(x_i - \\bar{x})^4} $$\n",
    "$$\\sigma = (\\frac{1}{n}\\sum_{i=1}^{n} (x_i - \\bar{x})^2)^{\\frac{1}{2}} $$\n",
    "-----------\n",
    "$$ \\sqrt[4]{16} = 2$$\n",
    "--"
   ]
  },
  {
   "cell_type": "markdown",
   "metadata": {},
   "source": [
    "## 2. Python 연산자"
   ]
  },
  {
   "cell_type": "markdown",
   "metadata": {},
   "source": [
    "### 2.0 Python의 기본 산술 연산\n",
    "\n",
    "|연산\t\t\t| \t연산자\t\t| 예\t\t\t\t| 결과|\n",
    "|:----------|-----------|---------------|-----|\n",
    "|덧셈\t\t\t|\t+\t\t| 2+3\t\t\t|5\t |\n",
    "|뺄셈\t\t\t|\t-\t\t| 5-3\t\t\t|2\t |\n",
    "|곱셈\t\t\t|\t*\t|  5 * 6\t\t|30\t\t|\n",
    "|정수 나눗셈\t\t|\t/\t\t|\t 11/3\t\t|3.6666666666666665 \t|\n",
    "|실수 나눗셈\t\t|\t/ \t\t|\t11.0/3 \t|3.6666666666666665|\n",
    "|나눗셈의 몫\t\t|\t//\t\t|\t11//3\t\t|3 \t\t|\n",
    "|나눗셈의 몫\t\t|\t//\t\t|\t11. // 3.\t\t|3. \t\t|\n",
    "|나눗셈의 나머지\t|\t%\t\t|\t11 % 3\t\t|2 \t\t|\n",
    "|지수승\t\t\t| **\t\t\t|  3 ** 2\t|9\t\t|"
   ]
  },
  {
   "cell_type": "markdown",
   "metadata": {},
   "source": [
    "### 2.1 Python 비트 연산자"
   ]
  },
  {
   "cell_type": "markdown",
   "metadata": {},
   "source": [
    "a | b | a AND(&) b |a OR(&#124;) b|a XOR(^) b\n",
    "--|---|---|---|---\n",
    "0 | 0 | 0 | 0 |   0\n",
    "0 | 1 | 0 | 1 |   1\n",
    "1 | 0 | 0 | 1 |   1\n",
    "1 | 1 | 1 | 1 |   0\n",
    "0111 | 1001 | 0001 | 1111 |   1110\n",
    " \n",
    "\n",
    "\n"
   ]
  },
  {
   "cell_type": "markdown",
   "metadata": {},
   "source": [
    "#### 문제 4. 다음 각 셀 아래에 연산 결과를 설명하라."
   ]
  },
  {
   "cell_type": "code",
   "execution_count": 2,
   "metadata": {},
   "outputs": [
    {
     "data": {
      "text/plain": [
       "(6, 12, 24, 48)"
      ]
     },
     "execution_count": 2,
     "metadata": {},
     "output_type": "execute_result"
    }
   ],
   "source": [
    "3 << 1, 3 << 2, 3 << 3, 3 << 4"
   ]
  },
  {
   "cell_type": "markdown",
   "metadata": {},
   "source": [
    "**설명**: 3 << 1: 11을 왼쪽으로 1비트 이동시키면서 빈공간은 0으로 채워 110이 된다.<br>\n",
    "3 << 2: 11을 왼쪽으로 2비트 이동시키면서 빈공간은 0으로 채워 1100이 된다.<br>\n",
    "3 << 3, 3 << 4: 11을 왼쪽으로 각각 3비트, 4비트씩 이동 후 빈공간을 0으로 채워 11000, 110000이 된다."
   ]
  },
  {
   "cell_type": "code",
   "execution_count": 3,
   "metadata": {},
   "outputs": [
    {
     "data": {
      "text/plain": [
       "(-6, -12, -24, -48)"
      ]
     },
     "execution_count": 3,
     "metadata": {},
     "output_type": "execute_result"
    }
   ],
   "source": [
    "-3 << 1, -3 << 2, -3 << 3, -3 << 4"
   ]
  },
  {
   "cell_type": "markdown",
   "metadata": {},
   "source": [
    "**설명**: -3을 음수로 표현하기 위해 2의 보수를 사용하면 11111101이 된고 여기에서 왼쪽으로 1비트 이동시키면 111111010이 나오게 되는데<br>\n",
    "이것을 10진수로 다시 표현하기 위해 보수를 취하면 -6을 얻을 수 있고 8칸을 초과한 숫자는 무시한다.\n",
    "\n",
    "각각 왼쪽으로 2비트, 3비트 4비트를 이동시켰을 때 11110100, 11101000, 11010000을 얻을 수 있다."
   ]
  },
  {
   "cell_type": "code",
   "execution_count": 4,
   "metadata": {},
   "outputs": [
    {
     "data": {
      "text/plain": [
       "(38, 19, 9, 4)"
      ]
     },
     "execution_count": 4,
     "metadata": {},
     "output_type": "execute_result"
    }
   ],
   "source": [
    "77 >> 1, 77 >> 2, 77 >> 3, 77 >> 4"
   ]
  },
  {
   "cell_type": "markdown",
   "metadata": {},
   "source": [
    "**설명**: 각각 오른쪽으로 1, 2, 3, 4비트만큼 이동했을 때 각 오른쪽 끝에 있는 숫자는 무시하고 왼쪽 끝에는 0으로 채운다\n",
    "\n",
    "즉 77 : 1001101일 때 1비트 이동하면 100110, 2비트 이동하면 10011, 3비트 이동하면 1001, 4비트 이동하면 100이 된다."
   ]
  },
  {
   "cell_type": "code",
   "execution_count": 5,
   "metadata": {},
   "outputs": [
    {
     "data": {
      "text/plain": [
       "(-39, -20, -10, -5)"
      ]
     },
     "execution_count": 5,
     "metadata": {},
     "output_type": "execute_result"
    }
   ],
   "source": [
    "-77 >> 1, -77 >> 2, -77 >> 3, -77 >> 4"
   ]
  },
  {
   "cell_type": "markdown",
   "metadata": {},
   "source": [
    "**설명**: 77을 2의 보수로 음수를 표현하면 10110011인데 여기서 오른쪽으로 1비트 이동하게 되면 왼쪽 끝은 1로 채우고 오른쪽 끝에 있는 숫자는 무시한다.<br>\n",
    "따라서 11011001이 되고 이것을 다시 2의 보수를 취해 계산하게 되면 00100111로 -39가 나오게 된다.\n",
    "\n",
    "오른쪽으로 각각 2비트, 3비트, 4비트 이동하게 되면<br>\n",
    "11101100, 11110110, 11111011이 되고 2의 보수를 다시 취하면 00010100, 00001010, 00000101 : -20, -10, -5가 나온다."
   ]
  },
  {
   "cell_type": "code",
   "execution_count": 6,
   "metadata": {},
   "outputs": [
    {
     "data": {
      "text/plain": [
       "(38.5, 38, 38, -38.5, -39, -38, -39)"
      ]
     },
     "execution_count": 6,
     "metadata": {},
     "output_type": "execute_result"
    }
   ],
   "source": [
    "77/2, 77//2, int(38.5), -77/2, -77//2, int(-38.5), -77>>1"
   ]
  },
  {
   "cell_type": "markdown",
   "metadata": {},
   "source": [
    "**설명**: / : 나누기 연산자로 77을 2로 나눈 값을 구한다.\n",
    "\n",
    "// : 나머지 연산자로 77을 2로 나눈 몫을 구한다.\n",
    "\n",
    "int(38.5) : 실수형 38.5을 정수형으로 바꾸면서 소숫점을 버린다.\n",
    "\n",
    "-77/2 : -77을 2로 나눈 값을 구한다.\n",
    "\n",
    "-77//2 : -77을 2로 나눈 몫을 구한다. 이때 나머지 정리에 의해 나머지는 음수가 될 수 없으므로 몫은 -39, 나머지는 1이 된다.\n",
    "\n",
    "int(-38.5) : 실수 -38.5를 정수로 바꾸면서 소숫점은 버린다.\n",
    "\n",
    "-77>>1 : 오른쪽으로 1비트 이동한다는 것은 $2^1$을 나눈거랑 같다 이때 가장 오른쪽에 있는 숫자는 버리므로 -77//2과 같은 연산이다."
   ]
  },
  {
   "cell_type": "code",
   "execution_count": 7,
   "metadata": {},
   "outputs": [
    {
     "data": {
      "text/plain": [
       "(True, True, True, True)"
      ]
     },
     "execution_count": 7,
     "metadata": {},
     "output_type": "execute_result"
    }
   ],
   "source": [
    "77 //2 == 77 >> 1, 77 //4 == 77 >> 2, -77 //2 == -77 >> 1, -77 //2**2 == -77 >> 2"
   ]
  },
  {
   "cell_type": "markdown",
   "metadata": {},
   "source": [
    "**설명**: == 연산자는 좌우식을 비교해서 True와 False를 반환하는 연산자이다.<br>\n",
    "77 >> 1 : $2^1$만큼 나눈 후 몫을 구하는 것과 같다 따라서 참<br>\n",
    "77 >> 2 : $2^2$만큼 나눈 후 몫을 구하는 것과 같다 따라서 참<br>\n",
    "-77 >> 1 : $2^1$만큼 나눈 후 몫을 구하는 것과 같다 따라서 참<br>\n",
    "-77 >> 2 : $2^2$만큼 나눈 후 몫을 구하는 것과 같고 2\\**2는 $2^2$과 같으므로 따라서 참<br>"
   ]
  },
  {
   "cell_type": "code",
   "execution_count": 8,
   "metadata": {},
   "outputs": [
    {
     "data": {
      "text/plain": [
       "True"
      ]
     },
     "execution_count": 8,
     "metadata": {},
     "output_type": "execute_result"
    }
   ],
   "source": [
    "n = 43542\n",
    "n >> 5 == n // (2 ** 5)"
   ]
  },
  {
   "cell_type": "markdown",
   "metadata": {},
   "source": [
    "**설명**: 5비트 오른쪽으로 이동한다는 것은 $2^5$만큼 나눈 몫을 구하는 것과 같고 2\\**5역시 $2^5$이므로 참"
   ]
  },
  {
   "cell_type": "code",
   "execution_count": 9,
   "metadata": {},
   "outputs": [
    {
     "data": {
      "text/plain": [
       "(-3, 2)"
      ]
     },
     "execution_count": 9,
     "metadata": {},
     "output_type": "execute_result"
    }
   ],
   "source": [
    "-5 // 2, 5 // 2"
   ]
  },
  {
   "cell_type": "markdown",
   "metadata": {},
   "source": [
    "**설명**:-5인 경우 나머지 정리에 의해 나머지가 음수가 나올 수가 없으므로 $-5=-3*2 + 1$ 즉 -3이 나오게 된다"
   ]
  },
  {
   "cell_type": "markdown",
   "metadata": {},
   "source": [
    "<div class=\"alert alert-info\">\n",
    "    \n",
    "**나머지 정리**\n",
    "    \n",
    "정수 $m$을 $n$으로 나누었을 때의 몫과 나머지를 각각 $q$와 $r$이라고 하면,\n",
    "   $$ m = qn + r,  (0 \\le r < n)$$\n",
    "</div>\n",
    "\n",
    "$$ 5 = 2 \\cdot 2 + 1$$\n",
    "$$ -5 = -3 \\cdot 2 + 1$$"
   ]
  },
  {
   "cell_type": "markdown",
   "metadata": {},
   "source": [
    "&#32; | 0000011 ( 3) | 1001101 (77)\n",
    "--|--|--\n",
    "n | Shift Left (<< n) | Shift Right(>> n)\n",
    "1  | 0000110 ( 6)  | 0100110 (38)\n",
    "2  | 0001100 (12)  | 0010011 (19)\n",
    "3  | 0011000 (24)  | 0001001 ( 9)\n",
    "4  | 0110000 (48)  | 0000100 ( 4)"
   ]
  },
  {
   "cell_type": "code",
   "execution_count": 10,
   "metadata": {},
   "outputs": [
    {
     "data": {
      "text/plain": [
       "(-2, -2, -3, 2)"
      ]
     },
     "execution_count": 10,
     "metadata": {},
     "output_type": "execute_result"
    }
   ],
   "source": [
    "-4 >> 1, (-4) >> 1, (-5) >> 1, 5 >> 1"
   ]
  },
  {
   "cell_type": "markdown",
   "metadata": {},
   "source": [
    "### 2.2 Unary 연산자\n",
    "\n"
   ]
  },
  {
   "cell_type": "code",
   "execution_count": 11,
   "metadata": {},
   "outputs": [
    {
     "name": "stdout",
     "output_type": "stream",
     "text": [
      "5 -5 -6 5\n",
      "-6 6 5 -6\n"
     ]
    }
   ],
   "source": [
    "x = 5\n",
    "print(+x, -x, ~x, ~~x)\n",
    "x = -6\n",
    "print(+x, -x, ~x, ~~x)"
   ]
  },
  {
   "cell_type": "markdown",
   "metadata": {},
   "source": [
    "#### 문제 5. 아래 스크립트를 아래의 code cell에서 실행하고 그 결과가 나온 이유를 설명하라.\n",
    "```python\n",
    "print(~3)\n",
    "print(~-4)\n",
    "print(-4 + +2 - ~3)\n",
    "print(3 >> 1)\n",
    "print(7 >> 2)\n",
    "print(3 << 1)\n",
    "print(5 & 2)\n",
    "print(5 | 2)\n",
    "print(9 ^ 2)\n",
    "\n",
    "```"
   ]
  },
  {
   "cell_type": "code",
   "execution_count": 12,
   "metadata": {},
   "outputs": [
    {
     "name": "stdout",
     "output_type": "stream",
     "text": [
      "-4\n",
      "3\n",
      "2\n",
      "1\n",
      "1\n",
      "6\n",
      "0\n",
      "7\n",
      "11\n"
     ]
    }
   ],
   "source": [
    "print(~3)\n",
    "print(~-4)\n",
    "print(-4 + +2 - ~3)\n",
    "print(3 >> 1)\n",
    "print(7 >> 2)\n",
    "print(3 << 1)\n",
    "print(5 & 2)\n",
    "print(5 | 2)\n",
    "print(9 ^ 2)"
   ]
  },
  {
   "cell_type": "markdown",
   "metadata": {},
   "source": [
    "**설명**: ~3 : 3:00000011 -> ~3:11111100 으로 바뀌게 되는데 11111100을 2의 보수로 계산해보면 00000100:4 즉 -4가 나오게 된다.<br>\n",
    "~-4 : -4:11111100 -> ~-4:00000011 으로 바뀌는데 00000011은 3이므로 3이 나오게 된다.<br>\n",
    "(-4 + +2 - ~3) : unary 연산자의 우선순위가 더 높기 때문에 -4, +2, ~3을 먼저 계산하고 + - 을 계산하게 되면 -4 + 2 - (-4) 즉 2가 나오게 된다.<br>\n",
    "3 >> 1 : 3//2와 같은 계산이므로 1이 나오게 된다.<br>\n",
    "7 >> 2 : 7//4와 같은 계산이므로 1이 나오게 된다.<br>\n",
    "3 << 1 : 3*2와 같은 계산이므로 2가 나오게 된다.<br>\n",
    "5 & 2 : &는 비트연산자로 5:00000101, 2:00000010 둘이 &를 사용하게 되면 각 자리에서 동시에 1인 경우에만 1이므로 00000000이 결과로 0이 나오게 된다.<br>\n",
    "5 | 2 : |는 비트연산자로 각 자리에 1이 하나라도 있으면 1이므로 00000111이 결과로 7이 나오게 된다.<br>\n",
    "9 ^ 2 : ^는 비트연산자로 각 자리에 1이 하나만 있어야 1이므로 9:00001001 00001011이 결과로 11이 나오게 된다."
   ]
  },
  {
   "cell_type": "markdown",
   "metadata": {},
   "source": [
    "### 2.3 논리 연산자"
   ]
  },
  {
   "cell_type": "code",
   "execution_count": 13,
   "metadata": {
    "scrolled": true
   },
   "outputs": [
    {
     "data": {
      "text/plain": [
       "False"
      ]
     },
     "execution_count": 13,
     "metadata": {},
     "output_type": "execute_result"
    }
   ],
   "source": [
    "True and False"
   ]
  },
  {
   "cell_type": "code",
   "execution_count": 14,
   "metadata": {},
   "outputs": [
    {
     "data": {
      "text/plain": [
       "(False, True)"
      ]
     },
     "execution_count": 14,
     "metadata": {},
     "output_type": "execute_result"
    }
   ],
   "source": [
    "bool(0), bool(-1)"
   ]
  },
  {
   "cell_type": "code",
   "execution_count": 15,
   "metadata": {},
   "outputs": [
    {
     "data": {
      "text/plain": [
       "(True, True, False)"
      ]
     },
     "execution_count": 15,
     "metadata": {},
     "output_type": "execute_result"
    }
   ],
   "source": [
    "bool([1, 2]), bool([0]), bool([])"
   ]
  },
  {
   "cell_type": "code",
   "execution_count": 16,
   "metadata": {},
   "outputs": [
    {
     "data": {
      "text/plain": [
       "(True, False)"
      ]
     },
     "execution_count": 16,
     "metadata": {},
     "output_type": "execute_result"
    }
   ],
   "source": [
    "bool(\"abc\"), bool(\"\")"
   ]
  },
  {
   "cell_type": "markdown",
   "metadata": {},
   "source": [
    "### 2.4  연산자 우선 순위\n",
    "\n",
    "| 순위 |  연산자 |\n",
    "--|--\n",
    "1 | ( )\n",
    "2 | \\*\\*\n",
    "3 | +x, -x, ~x\n",
    "4 | \\*, \\/, \\/\\/, \\%\n",
    "5 | +, -\n",
    "6 | \\<\\<, \\>\\>\n",
    "7 | \\&\n",
    "8 | \\^\n",
    "9 | &#124;\n",
    "10 | ==, !=, \\>, \\>=, \\<, \\<=, is, is not, in, not in\n",
    "11 | not\n",
    "12 | and\n",
    "13 | or\n",
    "\n",
    "- 한 명령 줄에 우선 순위가 동일한 연산자들이 여러 개 있는 경우에는 왼쪽에서 오른쪽\n",
    "순으로 연산이 실행됨"
   ]
  },
  {
   "cell_type": "code",
   "execution_count": 24,
   "metadata": {},
   "outputs": [
    {
     "data": {
      "text/plain": [
       "'abc'"
      ]
     },
     "execution_count": 24,
     "metadata": {},
     "output_type": "execute_result"
    }
   ],
   "source": [
    "3 and \"abc\" or [] # 'abc'가 반환된 이유 : Lazy Evaluation"
   ]
  },
  {
   "cell_type": "code",
   "execution_count": 25,
   "metadata": {},
   "outputs": [
    {
     "data": {
      "text/plain": [
       "3"
      ]
     },
     "execution_count": 25,
     "metadata": {},
     "output_type": "execute_result"
    }
   ],
   "source": [
    "3 or \"abc\" and [] # and의 경우 False and 경우 바로 False 반환, or 경우 True or 경우 바로 True 반환"
   ]
  },
  {
   "cell_type": "code",
   "execution_count": 26,
   "metadata": {},
   "outputs": [
    {
     "data": {
      "text/plain": [
       "-3"
      ]
     },
     "execution_count": 26,
     "metadata": {},
     "output_type": "execute_result"
    }
   ],
   "source": [
    "~2"
   ]
  },
  {
   "cell_type": "code",
   "execution_count": 27,
   "metadata": {},
   "outputs": [
    {
     "data": {
      "text/plain": [
       "3"
      ]
     },
     "execution_count": 27,
     "metadata": {},
     "output_type": "execute_result"
    }
   ],
   "source": [
    "3 ** ~-2"
   ]
  },
  {
   "cell_type": "code",
   "execution_count": 28,
   "metadata": {},
   "outputs": [
    {
     "data": {
      "text/plain": [
       "6.0"
      ]
     },
     "execution_count": 28,
     "metadata": {},
     "output_type": "execute_result"
    }
   ],
   "source": [
    "3 * 4 / 2"
   ]
  },
  {
   "cell_type": "markdown",
   "metadata": {},
   "source": [
    "#### 예제 1. 이 예제는 연산자의 우선순위를 알아보는 예제이다. 아래 스크립트를 실행한 경우에 연산이 실행되는 순서외 최종 결과를 적어라. \n",
    "```python\n",
    "a = 4 * 3**2 / 2 \n",
    "```\n",
    "\n",
    "- 순서: 1) `3**2`    2) `4 * (3**2)`    3) `4 * 3**2 / 2` \n",
    "- 결과: 18"
   ]
  },
  {
   "cell_type": "markdown",
   "metadata": {},
   "source": [
    "#### 문제 6. 아래 스크립트를 실행한 경우에 연산이 실행되는 순서를 적어라. \n",
    "```python\n",
    "1) 4 * 3 ** 2 / 2 \n",
    "2) 32 >> 8 // 4 * 2\n",
    "3) -4 + +5 -~3 + ~-2\n",
    "4) 5 and [] or not 3 and not \"\"\n",
    "5) not - 5 or 'abc' and ~ 4 or [1, 2, 3]\n",
    "```"
   ]
  },
  {
   "cell_type": "code",
   "execution_count": 2,
   "metadata": {},
   "outputs": [
    {
     "data": {
      "text/plain": [
       "18.0"
      ]
     },
     "execution_count": 2,
     "metadata": {},
     "output_type": "execute_result"
    }
   ],
   "source": [
    "4 * 3 ** 2 / 2"
   ]
  },
  {
   "cell_type": "markdown",
   "metadata": {},
   "source": [
    "- 3 ** 2 : 4 * 9 / 2\n",
    "- 4 * 9: 36 /2\n",
    "- 36 / 2: 18.0"
   ]
  },
  {
   "cell_type": "code",
   "execution_count": 3,
   "metadata": {},
   "outputs": [
    {
     "data": {
      "text/plain": [
       "2"
      ]
     },
     "execution_count": 3,
     "metadata": {},
     "output_type": "execute_result"
    }
   ],
   "source": [
    "32 >> 8 // 4 * 2"
   ]
  },
  {
   "cell_type": "markdown",
   "metadata": {},
   "source": [
    "- 8 // 4 : 32 >> 2 * 2\n",
    "- 2 * 2 : 32 >> 4\n",
    "- 32 >> 4 : 2"
   ]
  },
  {
   "cell_type": "markdown",
   "metadata": {},
   "source": [
    "## 3. 조건문\n",
    "\n",
    "1.\n",
    "```code\n",
    "if <조건식>: \n",
    "    <statement(s)>\n",
    "```\n",
    "\n",
    "\n",
    "2.\n",
    "```code\n",
    "if <조건식>: \n",
    "    <statement(s)>\n",
    "else:\n",
    "    <statement(s)>\n",
    "```\n",
    "\n",
    "3.\n",
    "\n",
    "```code\n",
    "if <조건식>: \n",
    "    <statement(s)>\n",
    "elif <조건식>:\n",
    "    <statement(s)>\n",
    "else:\n",
    "    <statement(s)>\n",
    "```"
   ]
  },
  {
   "cell_type": "markdown",
   "metadata": {},
   "source": [
    "#### 예제 2. 아래 셀들을 실행하면서 프로그램의 구조를 생각해 보자."
   ]
  },
  {
   "cell_type": "code",
   "execution_count": 29,
   "metadata": {},
   "outputs": [
    {
     "name": "stdout",
     "output_type": "stream",
     "text": [
      "정수를 입력하시오: 3\n",
      "정수 3 은(는) 홀수이다.\n"
     ]
    }
   ],
   "source": [
    "n = eval(input(\"정수를 입력하시오: \"))\n",
    "if n % 2:\n",
    "    print(f\"정수 {n} 은(는) 홀수이다.\")"
   ]
  },
  {
   "cell_type": "code",
   "execution_count": 30,
   "metadata": {},
   "outputs": [
    {
     "name": "stdout",
     "output_type": "stream",
     "text": [
      "정수를 입력하시오: 5\n",
      "정수 5 은(는) 홀수이다.\n"
     ]
    }
   ],
   "source": [
    "n = eval(input(\"정수를 입력하시오: \"))\n",
    "if n % 2:\n",
    "    print(f\"정수 {n} 은(는) 홀수이다.\")\n",
    "else:\n",
    "    print(f\"정수 {n} 은(는) 짝수이다.\")"
   ]
  },
  {
   "cell_type": "code",
   "execution_count": 31,
   "metadata": {},
   "outputs": [
    {
     "name": "stdout",
     "output_type": "stream",
     "text": [
      "정수를 입력하시오: 9\n",
      "정수 9 은(는) 3의 배수이다.\n"
     ]
    }
   ],
   "source": [
    "n = eval(input(\"정수를 입력하시오: \"))\n",
    "if n % 3 == 1:\n",
    "    print(f\"정수 {n} 을(를) 3으로 나눈 나머니가 1이다.\")\n",
    "elif n % 3 == 2:\n",
    "    print(f\"정수 {n} 을(를) 3으로 나눈 나머니가 2이다.\")\n",
    "else:\n",
    "    print(f\"정수 {n} 은(는) 3의 배수이다.\")"
   ]
  },
  {
   "cell_type": "code",
   "execution_count": null,
   "metadata": {},
   "outputs": [],
   "source": []
  },
  {
   "cell_type": "markdown",
   "metadata": {},
   "source": [
    "## 4. 반복문\n",
    "\n",
    "### 4.1 For 문을 이용한 반복 제어\n",
    "\n",
    "```code\n",
    "for <var> in <iterable>: \n",
    "    <statement(s)>\n",
    "```       "
   ]
  },
  {
   "cell_type": "markdown",
   "metadata": {},
   "source": [
    "#### 예제 3. 아래 셀들을 실행하면서 프로그램의 구조를 생각해 보자."
   ]
  },
  {
   "cell_type": "code",
   "execution_count": 32,
   "metadata": {
    "scrolled": true
   },
   "outputs": [
    {
     "name": "stdout",
     "output_type": "stream",
     "text": [
      "1\n",
      "2\n",
      "3\n",
      "4\n"
     ]
    }
   ],
   "source": [
    "for n in 1, 2, 3, 4:\n",
    "    print(n)"
   ]
  },
  {
   "cell_type": "code",
   "execution_count": 33,
   "metadata": {},
   "outputs": [
    {
     "name": "stdout",
     "output_type": "stream",
     "text": [
      "나는 수프를 먹는다.\n",
      "나는 빵을 먹는다.\n",
      "나는 밥을 먹는다.\n",
      "나는 과일을 먹는다.\n"
     ]
    }
   ],
   "source": [
    "먹을거리 = ['수프를', '빵을', '밥을', '과일을']\n",
    "for food in 먹을거리:\n",
    "    print(f\"나는 {food} 먹는다.\")"
   ]
  },
  {
   "cell_type": "code",
   "execution_count": 34,
   "metadata": {},
   "outputs": [
    {
     "name": "stdout",
     "output_type": "stream",
     "text": [
      "2, 3, 5, 7, 11, 13, 17, 19, 23, 29, "
     ]
    }
   ],
   "source": [
    "for n in 2, 3, 5, 7, 11, 13, 17, 19, 23, 29:\n",
    "    print(n, end=\", \")"
   ]
  },
  {
   "cell_type": "markdown",
   "metadata": {},
   "source": [
    "#### range 객체\n",
    "\n",
    "- range(start, stop, step) "
   ]
  },
  {
   "cell_type": "markdown",
   "metadata": {},
   "source": [
    "#### 예제 4. 아래 셀들을 실행하면서 프로그램의 구조를 생각해 보자."
   ]
  },
  {
   "cell_type": "code",
   "execution_count": 35,
   "metadata": {
    "scrolled": true
   },
   "outputs": [
    {
     "name": "stdout",
     "output_type": "stream",
     "text": [
      "1\n",
      "2\n",
      "3\n",
      "4\n"
     ]
    }
   ],
   "source": [
    "for n in range(1, 5):\n",
    "    print(n)"
   ]
  },
  {
   "cell_type": "code",
   "execution_count": 36,
   "metadata": {},
   "outputs": [
    {
     "name": "stdout",
     "output_type": "stream",
     "text": [
      "1\n",
      "3\n",
      "5\n",
      "7\n",
      "9\n"
     ]
    }
   ],
   "source": [
    "for n in range(1, 10, 2):\n",
    "    print(n)"
   ]
  },
  {
   "cell_type": "code",
   "execution_count": 37,
   "metadata": {},
   "outputs": [
    {
     "name": "stdout",
     "output_type": "stream",
     "text": [
      "10\n",
      "8\n",
      "6\n",
      "4\n",
      "2\n"
     ]
    }
   ],
   "source": [
    "for n in range(10, 1, -2):\n",
    "    print(n)"
   ]
  },
  {
   "cell_type": "code",
   "execution_count": 38,
   "metadata": {},
   "outputs": [
    {
     "name": "stdout",
     "output_type": "stream",
     "text": [
      "range(0, 10) : 0 10 1\n",
      "range(1, 10) : 1 10 1\n",
      "range(1, 12, 3) : 1 12 3\n"
     ]
    }
   ],
   "source": [
    "x = range(10)\n",
    "print(str(x), ':', x.start, x.stop, x.step)\n",
    "x = range(1, 10)\n",
    "print(str(x), ':',  x.start, x.stop, x.step)\n",
    "x = range(1, 12, 3)\n",
    "print(str(x), ':',  x.start, x.stop, x.step)"
   ]
  },
  {
   "cell_type": "code",
   "execution_count": 39,
   "metadata": {},
   "outputs": [
    {
     "name": "stdout",
     "output_type": "stream",
     "text": [
      "2 3 4 5 6 7 8 9 10 11 12 13 14 15 16 17 18 19 20 21 22 23 24 25 26 27 28 29 30 "
     ]
    }
   ],
   "source": [
    "for n in range(2, 31):\n",
    "     print(n, end=\" \")"
   ]
  },
  {
   "cell_type": "code",
   "execution_count": 40,
   "metadata": {
    "scrolled": true
   },
   "outputs": [
    {
     "name": "stdout",
     "output_type": "stream",
     "text": [
      " 2 : \n",
      " 3 : \n",
      " 4 : 0 \n",
      " 5 : 1 \n",
      " 6 : 0 0 \n",
      " 7 : 1 1 \n",
      " 8 : 0 2 0 \n",
      " 9 : 1 0 1 \n",
      "10 : 0 1 2 0 \n",
      "11 : 1 2 3 1 \n",
      "12 : 0 0 0 2 0 \n",
      "13 : 1 1 1 3 1 \n",
      "14 : 0 2 2 4 2 0 \n",
      "15 : 1 0 3 0 3 1 \n",
      "16 : 0 1 0 1 4 2 0 \n",
      "17 : 1 2 1 2 5 3 1 \n",
      "18 : 0 0 2 3 0 4 2 0 \n",
      "19 : 1 1 3 4 1 5 3 1 \n",
      "20 : 0 2 0 0 2 6 4 2 0 \n",
      "21 : 1 0 1 1 3 0 5 3 1 \n",
      "22 : 0 1 2 2 4 1 6 4 2 0 \n",
      "23 : 1 2 3 3 5 2 7 5 3 1 \n",
      "24 : 0 0 0 4 0 3 0 6 4 2 0 \n",
      "25 : 1 1 1 0 1 4 1 7 5 3 1 \n",
      "26 : 0 2 2 1 2 5 2 8 6 4 2 0 \n",
      "27 : 1 0 3 2 3 6 3 0 7 5 3 1 \n",
      "28 : 0 1 0 3 4 0 4 1 8 6 4 2 0 \n",
      "29 : 1 2 1 4 5 1 5 2 9 7 5 3 1 \n",
      "30 : 0 0 2 0 0 2 6 3 0 8 6 4 2 0 \n"
     ]
    }
   ],
   "source": [
    "for n in range(2, 31):\n",
    "    print(f\"{n:2}\", end=\" : \")\n",
    "    for k in range(2, n//2 + 1):\n",
    "        print(n%k, end=\" \")\n",
    "    print()"
   ]
  },
  {
   "cell_type": "markdown",
   "metadata": {},
   "source": [
    "#### 문제 7. 키보드로 입력받은 자연수가 소수인지 확인하는 프로그램을 아래 셀에 작성하라. 단, for loop을 사용하라."
   ]
  },
  {
   "cell_type": "code",
   "execution_count": 64,
   "metadata": {},
   "outputs": [
    {
     "name": "stdout",
     "output_type": "stream",
     "text": [
      "2 이상의 자연수를 입력하시오: 5\n",
      "소수입니다.\n"
     ]
    }
   ],
   "source": [
    "n = int(input(\"2 이상의 자연수를 입력하시오: \"))\n",
    "assert n > 1\n",
    "for k in range (2, n):\n",
    "    if(n%k == 0):\n",
    "        print(\"자연수입니다.\")\n",
    "        break\n",
    "if(k+1 == n or n == 2):\n",
    "    print(\"소수입니다.\")"
   ]
  },
  {
   "cell_type": "markdown",
   "metadata": {},
   "source": [
    "#### 문제 8. 30이하의 자연수 중에 모든 소수를 출력하는 프로그램을 아래 셀에 작성하라. 단, 중첩 (nested) for loop을 사용하라."
   ]
  },
  {
   "cell_type": "code",
   "execution_count": 71,
   "metadata": {},
   "outputs": [
    {
     "name": "stdout",
     "output_type": "stream",
     "text": [
      "1 2 3 5 7 11 13 17 19 23 29 "
     ]
    }
   ],
   "source": [
    "for k in range (1, 31):\n",
    "    if(k > 2):\n",
    "        for i in range (2, k):\n",
    "            if(k%i == 0):\n",
    "                break\n",
    "            elif(i+1 == k):\n",
    "                print(k, end=\" \")\n",
    "                break\n",
    "    else:\n",
    "        print(k, end=\" \")"
   ]
  },
  {
   "cell_type": "markdown",
   "metadata": {},
   "source": [
    "### 4.2 Print 문 연습\n",
    "\n",
    "#### 예제 5. 아래 cell을 실행하고 그 구조를 이해해 보자."
   ]
  },
  {
   "cell_type": "code",
   "execution_count": 72,
   "metadata": {},
   "outputs": [
    {
     "name": "stdout",
     "output_type": "stream",
     "text": [
      "줄 수를 입력하시오 (1 이상): 3\n",
      "*\n",
      "**\n",
      "***\n"
     ]
    }
   ],
   "source": [
    "rows = int(input(\"줄 수를 입력하시오 (1 이상): \"))  \n",
    "assert n > 0\n",
    "for row in range(0, rows):  \n",
    "    for col in range(0, row+1):\n",
    "        print('*', end=\"\")\n",
    "    print()\n"
   ]
  },
  {
   "cell_type": "markdown",
   "metadata": {},
   "source": [
    "#### 문제 9. 아래에 위 프로그램의 모든 줄에 대해서 이해한 것을 적어라.\n",
    "**프로그램 설명**\n",
    "\n",
    "```\n",
    "rows = int(input(\"줄 수를 입력하시오: \"))  # 화면에 '줄 수를 입력하시오: '라는 문자열 출력하고\n",
    "                                           # 키보드로부터 받은 숫자를 정수형 데이터로 변환하여\n",
    "                                           # rows 라는 변수에 할당\n",
    "\n",
    "for row in range(0, rows):  # 0~rows의 값 - 1 만큼 row에 반복적으로 할당\n",
    "    for col in range(0, row+1): # 0~row+1 만큼 col에 반복적으로 할당\n",
    "        print('*', end=\"\") # col의 값만큼 반복하여 *출력 end=\"\"로 *이 계속이어지게 출력\n",
    "                           # col은 row가 반복될수록 1씩 증가\n",
    "    print() # 줄바꿈\n",
    "\n",
    "```"
   ]
  },
  {
   "cell_type": "markdown",
   "metadata": {},
   "source": [
    "#### 예제 6. f-string을 이용하여 출력 문자열 포맷하기"
   ]
  },
  {
   "cell_type": "code",
   "execution_count": 73,
   "metadata": {},
   "outputs": [
    {
     "name": "stdout",
     "output_type": "stream",
     "text": [
      "    5    3    9\n",
      "539\n",
      "    5    3    9\n",
      "    5    3    9\n",
      "5    3    9    \n",
      "  5    3    9  \n"
     ]
    }
   ],
   "source": [
    "# 정수형 변수의 값 출력하기\n",
    "a = 5\n",
    "b = 3\n",
    "c = 9\n",
    "# old style\n",
    "print(\"%5d%5d%5d\" % (a, b, c))\n",
    "# f-string\n",
    "print(f\"{a}{b}{c}\")\n",
    "print(f\"{a:5}{b:5}{c:5}\")\n",
    "print(f\"{a:>5}{b:>5}{c:>5}\") # 5칸 띄우고 오른쪽부터\n",
    "print(f\"{a:<5}{b:<5}{c:<5}\") # 5칸 띄우고 왼쪽부터\n",
    "print(f\"{a:^5}{b:^5}{c:^5}\") # 5만큼 띄우고 가운데 출력\n"
   ]
  },
  {
   "cell_type": "code",
   "execution_count": 74,
   "metadata": {},
   "outputs": [
    {
     "name": "stdout",
     "output_type": "stream",
     "text": [
      "x= 5.354, y=32.450, z=-135.300\n",
      "x= 5.354, y=32.450, z=-135.300\n"
     ]
    }
   ],
   "source": [
    "# 실수형 변수의 값 출력 포맷 정하기\n",
    "x = 5.3538\n",
    "y = 32.45\n",
    "z = -135.3\n",
    "# old style\n",
    "print(\"x=%6.3f, y=%6.3f, z=%6.3f\" % (x, y, z))\n",
    "# f-string\n",
    "print(f\"x={x:6.3f}, y={y:6.3f}, z={z:6.3f}\")\n"
   ]
  },
  {
   "cell_type": "code",
   "execution_count": 75,
   "metadata": {},
   "outputs": [
    {
     "name": "stdout",
     "output_type": "stream",
     "text": [
      "구구단 단 수를 입력하시오 (2 ~ 9):3\n",
      "3 x 1 =  3\n",
      "3 x 2 =  6\n",
      "3 x 3 =  9\n",
      "3 x 4 = 12\n",
      "3 x 5 = 15\n",
      "3 x 6 = 18\n",
      "3 x 7 = 21\n",
      "3 x 8 = 24\n",
      "3 x 9 = 27\n"
     ]
    }
   ],
   "source": [
    "n = int(input(\"구구단 단 수를 입력하시오 (2 ~ 9):\"))  \n",
    "assert 2 <= n <= 9\n",
    "for i in range(1, 10):  \n",
    "    print(f\"{n} x {i} = {n*i:2}\")"
   ]
  },
  {
   "cell_type": "markdown",
   "metadata": {},
   "source": [
    "#### 문제 10. Console에 다음과 같은 문자열을 출력하는 프로그램을 작성하라.\n",
    "\n",
    "```\n",
    "2 x 1 =  2  3 x 1 =  3  4 x 1 =  4  5 x 1 =  5  6 x 1 =  6  7 x 1 =  7  8 x 1 =  8  9 x 1 =  9  \n",
    "2 x 2 =  4  3 x 2 =  6  4 x 2 =  8  5 x 2 = 10  6 x 2 = 12  7 x 2 = 14  8 x 2 = 16  9 x 2 = 18  \n",
    "2 x 3 =  6  3 x 3 =  9  4 x 3 = 12  5 x 3 = 15  6 x 3 = 18  7 x 3 = 21  8 x 3 = 24  9 x 3 = 27  \n",
    "2 x 4 =  8  3 x 4 = 12  4 x 4 = 16  5 x 4 = 20  6 x 4 = 24  7 x 4 = 28  8 x 4 = 32  9 x 4 = 36  \n",
    "2 x 5 = 10  3 x 5 = 15  4 x 5 = 20  5 x 5 = 25  6 x 5 = 30  7 x 5 = 35  8 x 5 = 40  9 x 5 = 45  \n",
    "2 x 6 = 12  3 x 6 = 18  4 x 6 = 24  5 x 6 = 30  6 x 6 = 36  7 x 6 = 42  8 x 6 = 48  9 x 6 = 54  \n",
    "2 x 7 = 14  3 x 7 = 21  4 x 7 = 28  5 x 7 = 35  6 x 7 = 42  7 x 7 = 49  8 x 7 = 56  9 x 7 = 63  \n",
    "2 x 8 = 16  3 x 8 = 24  4 x 8 = 32  5 x 8 = 40  6 x 8 = 48  7 x 8 = 56  8 x 8 = 64  9 x 8 = 72  \n",
    "2 x 9 = 18  3 x 9 = 27  4 x 9 = 36  5 x 9 = 45  6 x 9 = 54  7 x 9 = 63  8 x 9 = 72  9 x 9 = 81  \n",
    "```"
   ]
  },
  {
   "cell_type": "code",
   "execution_count": 107,
   "metadata": {},
   "outputs": [
    {
     "name": "stdout",
     "output_type": "stream",
     "text": [
      "2 X 1 =  2  3 X 1 =  3  4 X 1 =  4  5 X 1 =  5  6 X 1 =  6  7 X 1 =  7  8 X 1 =  8  9 X 1 =  9  \n",
      "2 X 2 =  4  3 X 2 =  6  4 X 2 =  8  5 X 2 = 10  6 X 2 = 12  7 X 2 = 14  8 X 2 = 16  9 X 2 = 18  \n",
      "2 X 3 =  6  3 X 3 =  9  4 X 3 = 12  5 X 3 = 15  6 X 3 = 18  7 X 3 = 21  8 X 3 = 24  9 X 3 = 27  \n",
      "2 X 4 =  8  3 X 4 = 12  4 X 4 = 16  5 X 4 = 20  6 X 4 = 24  7 X 4 = 28  8 X 4 = 32  9 X 4 = 36  \n",
      "2 X 5 = 10  3 X 5 = 15  4 X 5 = 20  5 X 5 = 25  6 X 5 = 30  7 X 5 = 35  8 X 5 = 40  9 X 5 = 45  \n",
      "2 X 6 = 12  3 X 6 = 18  4 X 6 = 24  5 X 6 = 30  6 X 6 = 36  7 X 6 = 42  8 X 6 = 48  9 X 6 = 54  \n",
      "2 X 7 = 14  3 X 7 = 21  4 X 7 = 28  5 X 7 = 35  6 X 7 = 42  7 X 7 = 49  8 X 7 = 56  9 X 7 = 63  \n",
      "2 X 8 = 16  3 X 8 = 24  4 X 8 = 32  5 X 8 = 40  6 X 8 = 48  7 X 8 = 56  8 X 8 = 64  9 X 8 = 72  \n",
      "2 X 9 = 18  3 X 9 = 27  4 X 9 = 36  5 X 9 = 45  6 X 9 = 54  7 X 9 = 63  8 X 9 = 72  9 X 9 = 81  \n"
     ]
    }
   ],
   "source": [
    "for i in range(1, 10):\n",
    "    for j in range(2, 10):\n",
    "        print(f\"{j:<2}X{i:>2} ={i*j:>3}\", end=\"  \")\n",
    "    print()"
   ]
  },
  {
   "cell_type": "markdown",
   "metadata": {},
   "source": [
    "### 4.3 While 문을 이용한 반복 제어\n",
    "\n",
    "```code\n",
    "while <boolean_expression>: \n",
    "    <statement(s)>\n",
    "```       "
   ]
  },
  {
   "cell_type": "markdown",
   "metadata": {},
   "source": [
    "##### 예제  7. 아래 셀들에 있는 프로그램들의 구조를 생각해 보자."
   ]
  },
  {
   "cell_type": "code",
   "execution_count": 108,
   "metadata": {
    "scrolled": true
   },
   "outputs": [
    {
     "name": "stdout",
     "output_type": "stream",
     "text": [
      "1\n",
      "2\n",
      "3\n",
      "4\n"
     ]
    }
   ],
   "source": [
    "# for count in range(1, 5)\n",
    "count = 1\n",
    "while count < 5:\n",
    "   print(count)\n",
    "   count = count + 1\n"
   ]
  },
  {
   "cell_type": "code",
   "execution_count": 109,
   "metadata": {
    "scrolled": true
   },
   "outputs": [
    {
     "name": "stdout",
     "output_type": "stream",
     "text": [
      "-1\n",
      "1\n",
      "3\n",
      "5\n",
      "7\n",
      "9\n"
     ]
    }
   ],
   "source": [
    "# for count in range(-1, 10, 2)\n",
    "count = -1\n",
    "while count < 10:\n",
    "   print(count)\n",
    "   count += 2\n"
   ]
  },
  {
   "cell_type": "code",
   "execution_count": 110,
   "metadata": {},
   "outputs": [
    {
     "name": "stdout",
     "output_type": "stream",
     "text": [
      "나는 수프를 먹는다.\n",
      "나는 빵을 먹는다.\n",
      "나는 밥을 먹는다.\n",
      "나는 과일을 먹는다.\n"
     ]
    }
   ],
   "source": [
    "#\n",
    "# for food in ['수프를', '빵을', '밥을', '과일을']\n",
    "#\n",
    "먹을거리 = iter(['수프를', '빵을', '밥을', '과일을'])\n",
    "while True:\n",
    "    try:\n",
    "        food = next(먹을거리)\n",
    "        print(f\"나는 {food} 먹는다.\")\n",
    "    except StopIteration:\n",
    "        break"
   ]
  },
  {
   "cell_type": "markdown",
   "metadata": {},
   "source": [
    "<div class=\"alert alert-block alter-warning\">\n",
    "     \n",
    "**주의**: 현재 Jupyter notebook에서는 정상적인 Turtle graphic 프로그램도 문제를 일으키니, Turtle graphic 프로그램은 반드시 Spyder에서 작성하고 실행을 확인한 후에 source code만 jupyter notebook cell에 적기 바랍니다.\n",
    "\n",
    "</div>"
   ]
  },
  {
   "cell_type": "markdown",
   "metadata": {},
   "source": [
    "##### 예제  8. 아래 셀에 있는 프로그램들의 구조를 생각해 보자."
   ]
  },
  {
   "cell_type": "code",
   "execution_count": 111,
   "metadata": {},
   "outputs": [],
   "source": [
    "import turtle\n",
    "t = turtle.Turtle()\n",
    "t.forward(100)\n",
    "t.left(90)\n",
    "t.forward(100)\n",
    "t.left(90)\n",
    "t.forward(100)\n",
    "t.left(90)\n",
    "t.forward(100)\n",
    "t.left(90)\n",
    "turtle.exitonclick()\n"
   ]
  },
  {
   "cell_type": "markdown",
   "metadata": {},
   "source": [
    "#### 문제 11. 예제 8에 있는  스크립트를 for loop을 사용하여 다시 작성하고, 실행하여 결과를 확인하라."
   ]
  },
  {
   "cell_type": "code",
   "execution_count": 1,
   "metadata": {},
   "outputs": [],
   "source": [
    "import turtle\n",
    "t = turtle.Turtle()\n",
    "for i in range(1,5):\n",
    "    t.forward(100)\n",
    "    t.left(90)\n",
    "turtle.exitonclick()"
   ]
  },
  {
   "cell_type": "markdown",
   "metadata": {},
   "source": [
    "#### 문제 12. 예제 8의 스크립트를 while loop을 사용하여 다시 작성하라."
   ]
  },
  {
   "cell_type": "code",
   "execution_count": 1,
   "metadata": {},
   "outputs": [],
   "source": [
    "import turtle\n",
    "t = turtle.Turtle()\n",
    "cnt = 1\n",
    "while cnt < 5:\n",
    "    t.forward(100)\n",
    "    t.left(90)\n",
    "    cnt = cnt + 1\n",
    "turtle.exitonclick()"
   ]
  },
  {
   "cell_type": "markdown",
   "metadata": {},
   "source": [
    "#### 문제 13. 문제 12에서 작성한 스크립트를 수정하여 정8각형을 그리는 스크립트를 작성하라."
   ]
  },
  {
   "cell_type": "code",
   "execution_count": 1,
   "metadata": {},
   "outputs": [],
   "source": [
    "import turtle\n",
    "t = turtle.Turtle()\n",
    "for _ in range(8):\n",
    "    t.forward(100)\n",
    "    t.left(45)\n",
    "turtle.exitonclick()\n",
    "\n"
   ]
  },
  {
   "cell_type": "markdown",
   "metadata": {},
   "source": [
    "##### 예제  9. 아래 셀에 있는 프로그램을 샐행해 보자."
   ]
  },
  {
   "cell_type": "code",
   "execution_count": 1,
   "metadata": {},
   "outputs": [],
   "source": [
    "import turtle\n",
    "t = turtle.Turtle()\n",
    "for _ in range(5):\n",
    "    t.forward(200)\n",
    "    t.right(180-36)\n",
    "turtle.exitonclick()"
   ]
  },
  {
   "cell_type": "markdown",
   "metadata": {},
   "source": [
    "#### 문제 14.  바로 위의 프로그램을 참조해서 Turtle 그래픽의 turtle.forward와 turtle.right의 조합의 반복으로 꼭지점의 개수가 n개 (n은 5 이상의 홀수)인 별 모양의 그림을 그리는 프로그램을 작성하라."
   ]
  },
  {
   "cell_type": "code",
   "execution_count": 1,
   "metadata": {
    "scrolled": true
   },
   "outputs": [
    {
     "name": "stdout",
     "output_type": "stream",
     "text": [
      "그려질 별의 꼭지점의 갯수를 입력하시오 5개이상 홀수:17\n"
     ]
    }
   ],
   "source": [
    "import turtle\n",
    "t = turtle.Turtle()\n",
    "n = eval(input(\"그려질 별의 꼭지점의 갯수를 입력하시오 5개이상 홀수:\"))\n",
    "assert n > 4 and n%2 != 0\n",
    "for _ in range(n):\n",
    "    t.forward(200)\n",
    "    t.right(180-180/n)\n",
    "turtle.exitonclick()"
   ]
  }
 ],
 "metadata": {
  "kernelspec": {
   "display_name": "Python 3 (ipykernel)",
   "language": "python",
   "name": "python3"
  },
  "language_info": {
   "codemirror_mode": {
    "name": "ipython",
    "version": 3
   },
   "file_extension": ".py",
   "mimetype": "text/x-python",
   "name": "python",
   "nbconvert_exporter": "python",
   "pygments_lexer": "ipython3",
   "version": "3.9.7"
  },
  "latex_envs": {
   "LaTeX_envs_menu_present": true,
   "autoclose": false,
   "autocomplete": true,
   "bibliofile": "biblio.bib",
   "cite_by": "apalike",
   "current_citInitial": 1,
   "eqLabelWithNumbers": true,
   "eqNumInitial": 1,
   "hotkeys": {
    "equation": "Ctrl-E",
    "itemize": "Ctrl-I"
   },
   "labels_anchors": false,
   "latex_user_defs": false,
   "report_style_numbering": false,
   "user_envs_cfg": false
  },
  "toc": {
   "base_numbering": 1,
   "nav_menu": {},
   "number_sections": false,
   "sideBar": true,
   "skip_h1_title": false,
   "title_cell": "Table of Contents",
   "title_sidebar": "Contents",
   "toc_cell": false,
   "toc_position": {
    "height": "calc(100% - 180px)",
    "left": "10px",
    "top": "150px",
    "width": "270.5px"
   },
   "toc_section_display": true,
   "toc_window_display": false
  }
 },
 "nbformat": 4,
 "nbformat_minor": 2
}
