{
 "cells": [
  {
   "cell_type": "markdown",
   "metadata": {},
   "source": [
    "<h1 align='center'> 파이썬과학프로그래밍기초 중간고사</h1>\n",
    "\n",
    "<h3 align='center'> 담당교수 : 박섭형</h3>\n",
    "\n",
    "<p style=\"text-align: right\"> 2021.10. 20.</p>"
   ]
  },
  {
   "cell_type": "markdown",
   "metadata": {},
   "source": [
    "<div class=\"alert alert-block alert-info\">\n",
    "    \n",
    "- 파일 이름에서 00000000을 자신의 학번으로, name을 자신의 이름으로 수정하세요.\n",
    "\n",
    "- 다음 줄에 자신의 이름, 학번, 학과(전공)을 적으세요.\n",
    "\n",
    "* 이름:   김대성          학번:    20185212         학과(전공): 스마트IoT\n",
    "    \n",
    "</div>\n",
    "\n",
    "- 주의 사항\n",
    "  - 시험 시간: 오후 1:00 ~ 오후 2:20 (ipynb 파일 제출 마감 시간이 오후 2:20)\n",
    "  - 시험 시간 동안에는 카메라를 켜고 있어야 함\n",
    "  - 오후 2:20에 줌을 종료하고 개인 동영상 녹화 시작\n",
    "     - 녹화할 때 Jupyter notebook 화면이 전체 화면에 나오고 설명하는 자신의 얼굴이 화면 모퉁이에 함께 녹화되어야 함\n",
    "     - 문제 하나당 설명 시간이 3분을 넘지 않도록 주의\n",
    "  - Upload할 파일과 업로드 마감 시간\n",
    "     - ipynb 파일 (파일 upolad 마감 시간: 오후 2:20)\n",
    "     - 문제해설 녹화 동영상 (동영상 파일 upolad 마감 시간: 오후 2:50)\n",
    "  - 설명하는 문제의 답을 단답식으로 간단히 적으면 감점될 수 있으니, 아는 내용을 자세히 적을 것을 권장합니다."
   ]
  },
  {
   "cell_type": "markdown",
   "metadata": {},
   "source": [
    "#### 채점 결과 \n",
    "\n",
    "- 이곳은 채점용으로 사용하니 학생들은 이곳에 아무 것도 기록하지 말기 바랍니다.\n",
    "\n",
    "| 문제 | 문제 1 | 문제 2 | 문제 3 | 문제 4 | 문제 5 | 문제 6 | 문제 7 | 문제 8 | 문제 9 | 합계 |\n",
    "--|--|--|--|--|--|--|--|--|--|--\n",
    "만점 | 10 | 10 | 10 | 10 | 10 | 10 | 10 | 10 | 20 | 100\n",
    "점수 | | | | | | | | | |"
   ]
  },
  {
   "cell_type": "markdown",
   "metadata": {},
   "source": [
    "\n",
    "### 문제 1.\n",
    "\n",
    "아래 셀에 있는 문장은 '가'와 'A'를 비교하는 것이다.\n",
    "\n",
    "이 두 문자의 대소를 어떤 방법으로 비교할 수 있는지 설명하고, 이 비교 결과가 False가 되는 이유를 설명하라."
   ]
  },
  {
   "cell_type": "code",
   "execution_count": 1,
   "metadata": {
    "scrolled": false
   },
   "outputs": [
    {
     "data": {
      "text/plain": [
       "False"
      ]
     },
     "execution_count": 1,
     "metadata": {},
     "output_type": "execute_result"
    }
   ],
   "source": [
    "'가' <= 'A'"
   ]
  },
  {
   "cell_type": "markdown",
   "metadata": {},
   "source": [
    "**답**: 컴퓨터는 문자를 인식할 수 없기 때문에 이진코드를 해석해서 문자로 출력해준다 <br>\n",
    "이 때 '가'를 이진코드로 해석한 숫자가 'A'보다 더 크기 때문에 False가 출력된다"
   ]
  },
  {
   "cell_type": "markdown",
   "metadata": {},
   "source": [
    "### 문제 2.\n",
    "\n",
    "아래 셀에 있는 문장을 실행했을 경우에 어떤 과정을 거쳐서 [1, 2, 3.0]이 반환되는지 설명하라.\n"
   ]
  },
  {
   "cell_type": "code",
   "execution_count": 5,
   "metadata": {
    "scrolled": false
   },
   "outputs": [
    {
     "data": {
      "text/plain": [
       "[1, 2, 3.0]"
      ]
     },
     "execution_count": 5,
     "metadata": {},
     "output_type": "execute_result"
    }
   ],
   "source": [
    "3e5 and 1 and [1, 2, 3.0]  or not {} or {'a': 1}"
   ]
  },
  {
   "cell_type": "markdown",
   "metadata": {},
   "source": [
    "**답**: 같은 줄에 서로 다른 연산자가 있을 경우 연산자의 우선순위에 따라서 연산순서가 결정되는데<br>\n",
    "and or not이 있을 경우 우선순위는 not and or순으로 결정된다 <br>\n",
    "또한 파이썬은 and or 연산할 때<br>\n",
    "평가 중간단계에서 최종값이 결정되면 더 이상 평가를 진행하지 않는다<br>\n",
    "그래서 [1,2,3.0] or not{}이 True기 때문에 평가는 여기서 멈추고 [1,2,3.0]을 반환한 것이다."
   ]
  },
  {
   "cell_type": "markdown",
   "metadata": {},
   "source": [
    "### 문제 3.\n",
    "\n",
    "A, B, C가 다음과 같다.\n",
    "```\n",
    "A = {1, 3, 5}\n",
    "B = {3, 7, 9}\n",
    "C = {1, 5, 7, 9}\n",
    "```\n",
    "A와 B만 이용해서 C를 구하는 문장 2 가지를 적어라."
   ]
  },
  {
   "cell_type": "code",
   "execution_count": 16,
   "metadata": {},
   "outputs": [],
   "source": [
    "A = {1, 3, 5}\n",
    "B = {3, 7, 9}"
   ]
  },
  {
   "cell_type": "code",
   "execution_count": 34,
   "metadata": {},
   "outputs": [
    {
     "name": "stdout",
     "output_type": "stream",
     "text": [
      "{1, 5, 7, 9}\n"
     ]
    }
   ],
   "source": [
    "# 답 1 교집합의 여집합 구하기\n",
    "# 합집합 구하기\n",
    "C = A.union(B)\n",
    "# 교집합 빼기\n",
    "C.discard(A.intersection(B).pop())\n",
    "print(C)"
   ]
  },
  {
   "cell_type": "code",
   "execution_count": 35,
   "metadata": {},
   "outputs": [
    {
     "name": "stdout",
     "output_type": "stream",
     "text": [
      "{1, 5, 7, 9}\n"
     ]
    }
   ],
   "source": [
    "# 답 2 대칭차집합 연산\n",
    "C = A.symmetric_difference(B)\n",
    "print(C)"
   ]
  },
  {
   "cell_type": "markdown",
   "metadata": {},
   "source": [
    "### 문제 4.\n",
    "\n",
    "아래 프로그램 실행 결과에서 왜 세 개는 True이고 나머지 세 개는 False가 되는지 설명하라."
   ]
  },
  {
   "cell_type": "code",
   "execution_count": 36,
   "metadata": {},
   "outputs": [
    {
     "name": "stdout",
     "output_type": "stream",
     "text": [
      "True\n",
      "True\n",
      "True\n",
      "False\n",
      "False\n",
      "False\n"
     ]
    }
   ],
   "source": [
    "print(1/7 + 1/7 == 2/7)\n",
    "print(1/7 + 1/7 + 1/7 == 3/7)\n",
    "print(1/7 + 1/7 + 1/7 + 1/7 == 4/7)\n",
    "print(1/7 + 1/7 + 1/7 + 1/7 + 1/7 == 5/7)\n",
    "print(1/7 + 1/7 + 1/7 + 1/7 + 1/7 + 1/7 == 6/7)\n",
    "print(1/7 + 1/7 + 1/7 + 1/7 + 1/7 + 1/7 + 1/7 == 7/7)"
   ]
  },
  {
   "cell_type": "markdown",
   "metadata": {},
   "source": [
    "**답**: \n",
    "파이썬에서 실수는 정확한 값이 아니라 10진수의 근삿값으로 표현된다<br>\n",
    "즉 어느 정도의 오차범위가 있는데<br>\n",
    "계속 덧셈연산을 하다보니 오차범위 밖으로 벗어나 False가 출력된 것이다\n"
   ]
  },
  {
   "cell_type": "markdown",
   "metadata": {},
   "source": [
    "### 문제 5\n",
    "\n",
    "아래 프로그램은 딕셔너리를 이용하여 한 사람의 이름과 거주 도시를 표시한 것이다.\n",
    "```\n",
    "person1 = {'name': '홍길동', 'city':'춘천'}\n",
    "print(person1)\n",
    "```\n",
    "\n",
    "이제 춘천에 거주하는 두 번째 사람의 데이터를 만들기 위해서 다음과 같이 두 줄을 추가하였다.\n",
    "```\n",
    "person2 = person1\n",
    "person2['name'] = '이한림'\n",
    "print(person2)\n",
    "```\n",
    "이 프로그램에 어떤 문제가 있으며 그 이유는 무엇인지 설명하고, 이 문제를 해결할 수 있는 새로운 방법으로 person1의 데이터 구조를 이용해서 person2 데이터를 초기화하는 다른 방법을 설명하라. \n",
    "다시 말하면, 다음과 같은 방법 말고 다른 방법이 있는지 설명하라.\n",
    "```\n",
    "person2 = {'name': '이한림', 'city':'춘천'}\n",
    "```"
   ]
  },
  {
   "cell_type": "markdown",
   "metadata": {},
   "source": [
    "**답**: person2 = person1이런 식으로 person2를 할당하게 되면 person1과 person2는 같은 객체의 주소를 가르키게 된다<br>\n",
    "따라서 person2의 값을 바꾸게 되면 person1도 같이 바뀌게 되는 문제가 발생한다<br>\n",
    "이 문제를 해결하기 위해서는 copy()매소드를 이용한 shollow copy를 하거나 deepcopy를 해야한다.<br>\n",
    "만약 person1의 value값이 mutable형 데이터라면 deepcopy를 이용해 value값의 주소도 바꿔줘야 한다<br>"
   ]
  },
  {
   "cell_type": "markdown",
   "metadata": {},
   "source": [
    "\n",
    "### 문제 6.\n",
    "\n",
    "아래 셀에 있는 프로그램은 사용자가 키보드로 입력한 단어를 콘솔에 다시 출력하는 것을 반복하다가 사용자가 '끝'이라는 단어를 입력하면 실행이 멈추는 프로그램이다."
   ]
  },
  {
   "cell_type": "code",
   "execution_count": 48,
   "metadata": {},
   "outputs": [
    {
     "name": "stdout",
     "output_type": "stream",
     "text": [
      "$ df\n",
      "df\n",
      "$ s\n",
      "s\n",
      "$ df\n",
      "df\n",
      "$ 끝\n"
     ]
    }
   ],
   "source": [
    "word = input(\"$ \")\n",
    "while word != \"끝\":\n",
    "    print(word)\n",
    "    word = input(\"$ \")"
   ]
  },
  {
   "cell_type": "markdown",
   "metadata": {},
   "source": [
    "Walrus 연산자를 이용해서 위에 있는 프로그램을 수정한 것을 아래 셀에 작성하라."
   ]
  },
  {
   "cell_type": "code",
   "execution_count": 67,
   "metadata": {},
   "outputs": [
    {
     "name": "stdout",
     "output_type": "stream",
     "text": [
      "$ 1\n",
      "$ 2\n",
      "2\n",
      "$ 3\n",
      "3\n",
      "$ 4\n",
      "4\n",
      "$ ㄹ\n",
      "ㄹ\n",
      "$ ㅇ\n",
      "ㅇ\n",
      "$ ㄹ\n",
      "ㄹ\n",
      "$ 끝\n"
     ]
    }
   ],
   "source": [
    "# 답\n",
    "word = input(\"$ \")\n",
    "while (word := input(\"$ \")) != \"끝\":\n",
    "    print(word)"
   ]
  },
  {
   "cell_type": "markdown",
   "metadata": {},
   "source": [
    "### 문제 7.\n",
    "\n",
    "아래에 있는 세 줄은 1과 6 사이의 난수 20 개를 원소로 갖는 리스트를 만드는 프로그램이다.\n",
    "\n",
    "```\n",
    "import random\n",
    "random.seed(153)\n",
    "lst = [random.randint(1, 6) for _ in range(20)]\n",
    "```\n",
    "위 프로그램을 실행하면 lst는 다음과 같아야 한다.\n",
    "```\n",
    "lst = [4, 1, 1, 3, 6, 4, 5, 5, 5, 5, 3, 4, 2, 5, 5, 3, 6, 5, 2, 2]\n",
    "```\n",
    "lst에서 index가 5인 원소부터 index가 -3인 원소까지에서 원소의 값이 3인 원소들의 index만 모은 리스트를 idx3이라고 하자.\n",
    "즉, idx3은 다음과 같다.\n",
    "```\n",
    "idx3 = [10, 15]\n",
    "```\n",
    "\n",
    "idx3를 구해서 콘솔에 출력하는 프로그램을 작성하라. 콘솔에는 다음과 같은 출력이 나타나야 한다.\n",
    "```\n",
    "[10, 15]\n",
    "```\n"
   ]
  },
  {
   "cell_type": "code",
   "execution_count": 73,
   "metadata": {},
   "outputs": [
    {
     "data": {
      "text/plain": [
       "[4, 1, 1, 3, 6, 4, 5, 5, 5, 5, 3, 4, 2, 5, 5, 3, 6, 5, 2, 2]"
      ]
     },
     "execution_count": 73,
     "metadata": {},
     "output_type": "execute_result"
    }
   ],
   "source": [
    "import random\n",
    "random.seed(153)\n",
    "lst = [random.randint(1, 6) for _ in range(20)]\n",
    "lst"
   ]
  },
  {
   "cell_type": "code",
   "execution_count": 90,
   "metadata": {},
   "outputs": [
    {
     "name": "stdout",
     "output_type": "stream",
     "text": [
      "[10, 15]\n"
     ]
    }
   ],
   "source": [
    "# 답 index : -3 = 뒤에서 3번째 값 = 5, index 5 앞에서 6번째 값 = 4\n",
    "# lst[5:-3]의 범위\n",
    "idx3 = []\n",
    "for n in range(4, len(lst)-2):\n",
    "    if lst[n] == 3:\n",
    "        idx3.append(n)\n",
    "print(idx3)"
   ]
  },
  {
   "cell_type": "markdown",
   "metadata": {},
   "source": [
    "### 문제 8\n",
    "\n",
    "다음과 같이 주어진 두 개의 tuples가 있다. \n",
    "```\n",
    "days = ('Sunday', 'Monday', 'Tuesday', 'Wednesday', 'Thursday', 'Friday', 'Saturday')\n",
    "요일 = ('일', '월', '화', '수', '목', '금', '토')\n",
    "```\n",
    "\n",
    "위 두 개의 tuple을 활용해서 다음과 같은 dictionary를 만들어서 콘솔에 출력하는 프로그램을 작성하라. 단, dictionay comprehension을 사용해야 한다.\n",
    "```\n",
    "{'일': 'Sunday', '월': 'Monday', '화': 'Tuesday', '수': 'Wednesday', '목': 'Thursday', '금': 'Friday', '토': 'Saturday'}\n",
    "```"
   ]
  },
  {
   "cell_type": "code",
   "execution_count": 95,
   "metadata": {},
   "outputs": [
    {
     "data": {
      "text/plain": [
       "{'Sunday': '일',\n",
       " 'Monday': '월',\n",
       " 'Tuesday': '화',\n",
       " 'Wednesday': '수',\n",
       " 'Thursday': '목',\n",
       " 'Friday': '금',\n",
       " 'Saturday': '토'}"
      ]
     },
     "execution_count": 95,
     "metadata": {},
     "output_type": "execute_result"
    }
   ],
   "source": [
    "# 답\n",
    "days = ('Sunday', 'Monday', 'Tuesday', 'Wednesday', 'Thursday', 'Friday', 'Saturday')\n",
    "요일 = ('일', '월', '화', '수', '목', '금', '토')\n",
    "\n",
    "week = {days[n]:요일[n] for n in range(len(days))}\n",
    "week"
   ]
  },
  {
   "cell_type": "markdown",
   "metadata": {},
   "source": [
    "### 문제 9\n",
    "\n",
    "문제와 함께 주어진 파일 'fake_student_records.csv'는 네 번째 실습 시간에 사용한 파일이다.\n",
    "이 파일에는 가상의 38 명의 학생들의 이름, 학번, 소속, 6 번의 시험 성적이 포함되어 있다.\n",
    "\n",
    "각 학생들의 6 번의 시험 성적의 평균을 구한 다음에,\n",
    "38 명의 학생들을 입학연도별로 그룹을 만들어서 각 그룹에 속한 학생들의 시험 평균의 평균을 구해서 다음과 같은 막대 그래프를 그리는 프로그램을 작성하라.\n",
    "\n",
    "<img src='midterm-prob-9-plot.png' width=50% />\n"
   ]
  },
  {
   "cell_type": "code",
   "execution_count": 101,
   "metadata": {
    "scrolled": true
   },
   "outputs": [
    {
     "ename": "TypeError",
     "evalue": "unhashable type: 'slice'",
     "output_type": "error",
     "traceback": [
      "\u001b[0;31m---------------------------------------------------------------------------\u001b[0m",
      "\u001b[0;31mTypeError\u001b[0m                                 Traceback (most recent call last)",
      "\u001b[0;32m<ipython-input-101-b9ce8c21efad>\u001b[0m in \u001b[0;36m<module>\u001b[0;34m\u001b[0m\n\u001b[1;32m      8\u001b[0m     \u001b[0;32mfor\u001b[0m \u001b[0mrow\u001b[0m \u001b[0;32min\u001b[0m \u001b[0mcsv_reader\u001b[0m\u001b[0;34m:\u001b[0m\u001b[0;34m\u001b[0m\u001b[0;34m\u001b[0m\u001b[0m\n\u001b[1;32m      9\u001b[0m         \u001b[0mhap\u001b[0m \u001b[0;34m=\u001b[0m \u001b[0;36m0\u001b[0m\u001b[0;34m\u001b[0m\u001b[0;34m\u001b[0m\u001b[0m\n\u001b[0;32m---> 10\u001b[0;31m         \u001b[0;32mfor\u001b[0m \u001b[0mn\u001b[0m \u001b[0;32min\u001b[0m \u001b[0mrow\u001b[0m\u001b[0;34m[\u001b[0m\u001b[0;36m4\u001b[0m\u001b[0;34m:\u001b[0m\u001b[0;34m]\u001b[0m\u001b[0;34m:\u001b[0m\u001b[0;34m\u001b[0m\u001b[0;34m\u001b[0m\u001b[0m\n\u001b[0m\u001b[1;32m     11\u001b[0m             \u001b[0mhap\u001b[0m \u001b[0;34m+=\u001b[0m \u001b[0mn\u001b[0m\u001b[0;34m\u001b[0m\u001b[0;34m\u001b[0m\u001b[0m\n\u001b[1;32m     12\u001b[0m \u001b[0;34m\u001b[0m\u001b[0m\n",
      "\u001b[0;31mTypeError\u001b[0m: unhashable type: 'slice'"
     ]
    }
   ],
   "source": [
    "# 답\n",
    "import csv\n",
    "\n",
    "year_list = [2025, 2026, 2027, 2028, 2029, 2030, 2031, 2032]\n",
    "hap_list = {}\n",
    "with open('fake_student_records.csv', mode='r', encoding='utf-8') as student_record_file:\n",
    "    csv_reader = csv.DictReader(student_record_file)\n",
    "    for row in csv_reader:\n",
    "        hap = 0\n",
    "        for n in row[4:]:\n",
    "            hap += n\n",
    "    \n",
    "for n in year_list:\n",
    "    hap_list[n] = 0\n",
    "hap_list"
   ]
  },
  {
   "cell_type": "code",
   "execution_count": null,
   "metadata": {},
   "outputs": [],
   "source": []
  }
 ],
 "metadata": {
  "kernelspec": {
   "display_name": "Python 3",
   "language": "python",
   "name": "python3"
  },
  "language_info": {
   "codemirror_mode": {
    "name": "ipython",
    "version": 3
   },
   "file_extension": ".py",
   "mimetype": "text/x-python",
   "name": "python",
   "nbconvert_exporter": "python",
   "pygments_lexer": "ipython3",
   "version": "3.8.5"
  },
  "latex_envs": {
   "LaTeX_envs_menu_present": true,
   "autoclose": false,
   "autocomplete": true,
   "bibliofile": "biblio.bib",
   "cite_by": "apalike",
   "current_citInitial": 1,
   "eqLabelWithNumbers": true,
   "eqNumInitial": 1,
   "hotkeys": {
    "equation": "Ctrl-E",
    "itemize": "Ctrl-I"
   },
   "labels_anchors": false,
   "latex_user_defs": false,
   "report_style_numbering": false,
   "user_envs_cfg": false
  },
  "toc": {
   "base_numbering": 1,
   "nav_menu": {},
   "number_sections": false,
   "sideBar": true,
   "skip_h1_title": false,
   "title_cell": "Table of Contents",
   "title_sidebar": "Contents",
   "toc_cell": false,
   "toc_position": {
    "height": "calc(100% - 180px)",
    "left": "10px",
    "top": "150px",
    "width": "270.5px"
   },
   "toc_section_display": true,
   "toc_window_display": false
  }
 },
 "nbformat": 4,
 "nbformat_minor": 2
}
