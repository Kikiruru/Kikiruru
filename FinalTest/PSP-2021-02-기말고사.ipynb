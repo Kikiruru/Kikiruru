{
 "cells": [
  {
   "cell_type": "markdown",
   "metadata": {},
   "source": [
    "<h1 align='center'> 파이썬과학프로그래밍기초 기말고사</h1>\n",
    "\n",
    "<h3 align='center'> 담당교수 : 박섭형</h3>\n",
    "\n",
    "<p style=\"text-align: right\"> 2021.12. 20. (월) </p>"
   ]
  },
  {
   "cell_type": "markdown",
   "metadata": {},
   "source": [
    "<div class=\"alert alert-block alert-info\">\n",
    "    \n",
    "- 파일 이름에서 00000000을 자신의 학번으로, name을 자신의 이름으로 수정하세요.\n",
    "\n",
    "- 다음 줄에 자신의 이름, 학번, 학과(전공)을 적으세요.\n",
    "\n",
    "* 이름:   김대성&nbsp;&nbsp;          학번:    20185212&nbsp;&nbsp;         학과(전공): 스마트IoT\n",
    "    \n",
    "</div>\n",
    "\n",
    "- 주의 사항\n",
    "  - 시험 시간: 오후 1:00 ~ 오후 2:20 (ipynb 파일 제출 마감 시간이 오후 2:20)\n",
    "  - 시험 시간 동안에는 카메라를 켜고 있어야 함\n",
    "  - 오후 2:20에 줌을 종료하고 개인 동영상 녹화 시작\n",
    "     - 녹화할 때 Jupyter notebook 화면이 전체 화면에 나오고 설명하는 자신의 얼굴이 화면 모퉁이에 함께 녹화되어야 함\n",
    "     - 문제 하나당 설명 시간이 3분을 넘지 않도록 주의\n",
    "  - Upload할 파일과 업로드 마감 시간\n",
    "     - ipynb 파일 (파일 upolad 마감 시간: 오후 2:20)\n",
    "     - 문제해설 녹화 동영상 (동영상 파일 upolad 마감 시간: 오후 2:50)\n",
    "  - 설명하는 문제의 답을 단답식으로 간단히 적으면 감점될 수 있으니, 아는 내용을 자세히 적을 것을 권장합니다."
   ]
  },
  {
   "cell_type": "markdown",
   "metadata": {},
   "source": [
    "#### 채점 결과 \n",
    "\n",
    "- 이곳은 채점용으로 사용하니 학생들은 이곳에 아무 것도 기록하지 말기 바랍니다.\n",
    "\n",
    "| 문제 | 문제 1 |문제 2 |문제 3 |문제 4.1 | 문제 4.2 | 문제 5.1 | 문제 5.2 | 문제 6 \n",
    "--|--|--|--|--|--|--|--|--\n",
    "만점 | 6 | 4 | 5 |  10 | 5 | 5 | 5 | 10\n",
    "점수 | | | | | | | | | \n",
    "\n",
    "| 문제 | 문제 7 | 문제 8 | 문제 9 | 문제 10 | 문제 11 | 합계 |\n",
    "--|--|--|--|--|--|--\n",
    "만점 | 15 | 10| 10|10 | 5 | 100\n",
    "점수 | | | | | |"
   ]
  },
  {
   "cell_type": "markdown",
   "metadata": {},
   "source": [
    "\n",
    "### 문제 1.\n",
    "\n",
    "다음 프로그램에서 함수 f와 g가 반환하는 값은 각각 무엇인지 적어라.\n",
    "\n",
    "```\n",
    "def f():\n",
    "    return 3 > 2\n",
    "\n",
    "def g():\n",
    "    print(3 + 2)\n",
    "```"
   ]
  },
  {
   "cell_type": "markdown",
   "metadata": {},
   "source": [
    "**문제 1 답 :** f : true 반환, g : 5를 출력 None반환  \n",
    "대부분의 함수는 return 문으로 끝나지만, 때로는 return 문이 없는 함수도 있다. 이 경우에는 반환하는 값이 없는 것이 아니라 None을 반환한다"
   ]
  },
  {
   "cell_type": "markdown",
   "metadata": {},
   "source": [
    "\n",
    "### 문제 2.\n",
    "\n",
    "함수 h의 parameter는 다음과 같다.\n",
    "\n",
    "```\n",
    "def h(a, b, / c=1, d=2, * e=3, f=4):\n",
    "    return a + b + c + d + e + f\n",
    "\n",
    "```\n",
    "\n",
    "이 함수 정의문에서 /와  *의 역할을 설명하라."
   ]
  },
  {
   "cell_type": "markdown",
   "metadata": {},
   "source": [
    "**문제 2 답 :** / : 파라미터를 positional 또는 키워드 형식으로 받을 수 있다는 의미로  \n",
    "positional의 경우 각 위치에 해당하는 매개변수로 값이 전달되지만  \n",
    "keyword의 경우 위치가 달라도 지정된 매개변수로 값이 전달된다  \n",
    "*의 경우는 keyword 형식으로만 받을 수 있다는 의미이다"
   ]
  },
  {
   "cell_type": "markdown",
   "metadata": {},
   "source": [
    "\n",
    "### 문제 3.\n",
    "\n",
    "함수 k의 parameter는 다음과 같다.\n",
    "\n",
    "```\n",
    "def k(*a):\n",
    "    ...\n",
    "    \n",
    "\n",
    "```\n",
    "\n",
    "이 함수 정의문에서 *의 역할을 설명하라."
   ]
  },
  {
   "cell_type": "markdown",
   "metadata": {},
   "source": [
    "**문제 3 답 :** *는 packing operator로 뒤에 오는 파라미터를 튜플로 묶어준다"
   ]
  },
  {
   "cell_type": "code",
   "execution_count": 2,
   "metadata": {},
   "outputs": [
    {
     "name": "stdout",
     "output_type": "stream",
     "text": [
      "1 (1, 1)\n"
     ]
    }
   ],
   "source": [
    "def k(a, *b):\n",
    "    print(a, b)\n",
    "\n",
    "k(1, 1, 1)"
   ]
  },
  {
   "cell_type": "markdown",
   "metadata": {},
   "source": [
    "### 문제 4.\n",
    "\n",
    "다음 프로그램의 실행 결과는 -7이다.\n",
    "\n",
    "a) 이 프로그램이 실행되면 최종 결과가 나올 때까지 중간 단계의 계산 과정을 설명하라.\n",
    "\n",
    "b) Reduce 함수를 사용하지 말고 for loop을 이용해서 이 프로그램과 같은 결과를 내는 프로그램을 작성하라."
   ]
  },
  {
   "cell_type": "code",
   "execution_count": 3,
   "metadata": {},
   "outputs": [
    {
     "name": "stdout",
     "output_type": "stream",
     "text": [
      "1 2\n",
      "3 3\n",
      "6 4\n",
      "2 5\n",
      "-3 6\n",
      "3 7\n",
      "10 8\n",
      "2 9\n"
     ]
    },
    {
     "data": {
      "text/plain": [
       "-7"
      ]
     },
     "execution_count": 3,
     "metadata": {},
     "output_type": "execute_result"
    }
   ],
   "source": [
    "from functools import reduce\n",
    "def f(a, b):\n",
    "    print(a, b)\n",
    "    return a-b if not a%2 else a+b\n",
    "\n",
    "reduce(f, range(1, 10))"
   ]
  },
  {
   "cell_type": "markdown",
   "metadata": {},
   "source": [
    "1, 2, 3, 4, 5, 6, 7, 8, 9"
   ]
  },
  {
   "cell_type": "markdown",
   "metadata": {},
   "source": [
    "**문제 4.1 답:**\n",
    "함수는 또 다른 함수의 매개변수로 사용할 수 있다  \n",
    "reduce는 여러개의 데이터를 대상으로 집계를 해주는 함수이다  \n",
    "reduce(집계 함수, 순회 가능한 데이터[, 초기값])  \n",
    "함수 f를 적용시켜보면  \n",
    "a가 2의 배수이면 더하고 아니면 빼는데 이때 a는 누적 결과이다  \n",
    "이를 적용시켜보면  \n",
    "(((((((1 + 2) + 3) - 4) - 5) + 6) + 7) - 8) - 9 순서로 실행되고  \n",
    "계산하면 "
   ]
  },
  {
   "cell_type": "code",
   "execution_count": 106,
   "metadata": {},
   "outputs": [
    {
     "data": {
      "text/plain": [
       "-7"
      ]
     },
     "execution_count": 106,
     "metadata": {},
     "output_type": "execute_result"
    }
   ],
   "source": [
    "(((((((1 + 2) + 3) - 4) - 5) + 6) + 7) - 8) - 9"
   ]
  },
  {
   "cell_type": "markdown",
   "metadata": {},
   "source": [
    "**문제 4.2 답:**"
   ]
  },
  {
   "cell_type": "code",
   "execution_count": 112,
   "metadata": {
    "scrolled": false
   },
   "outputs": [
    {
     "data": {
      "text/plain": [
       "-7"
      ]
     },
     "execution_count": 112,
     "metadata": {},
     "output_type": "execute_result"
    }
   ],
   "source": [
    "def reduce2(a, b, *c):\n",
    "    cnt = 0\n",
    "    if not(a+b)%2:\n",
    "        cnt = a - b\n",
    "    else:\n",
    "        cnt = a + b\n",
    "\n",
    "    for i in c:\n",
    "        if not(cnt % 2):\n",
    "            cnt -= i\n",
    "        else:\n",
    "            cnt += i\n",
    "    return cnt\n",
    "reduce2(1, 2, 3, 4, 5, 6, 7, 8, 9)"
   ]
  },
  {
   "cell_type": "markdown",
   "metadata": {},
   "source": [
    "### 문제 5.\n",
    "\n",
    "아래의 프로그램은 random.randint() 함수를 사용해서 구간 $[0, 100]$ 사이의 임의의 정수를 10 개를 만들어서 리스트로 만든 후에 변수 x에 할당한 후에 그 원소 중에서 짝수만 골라서 새로운 리스트 객체를 만들어서 변수 y에 바인딩하는 프로그램이다. 나머지 부분을 완성하라.\n",
    "\n",
    "단, x에서 y를 만들 때 list comprehension을 사용한 프로그램과 filter 함수를 사용한 프로그램을 각각 만들어라.\n",
    "\n",
    "```\n",
    "import random\n",
    "random.seed(153)\n",
    "x = \n",
    "```\n",
    "\n",
    "이 프로그램을 실행한 후에 콘솔에 출력되는 결과는 다음과 같아야 한다.\n",
    "\n",
    "```\n",
    "[62, 4, 90, 74, 72, 76]\n",
    "```"
   ]
  },
  {
   "cell_type": "markdown",
   "metadata": {},
   "source": [
    "##### 5.1 List comprehension을 이용한 프로그램"
   ]
  },
  {
   "cell_type": "code",
   "execution_count": 82,
   "metadata": {},
   "outputs": [
    {
     "data": {
      "text/plain": [
       "[62, 9, 4, 33, 90, 53, 74, 72, 76]"
      ]
     },
     "execution_count": 82,
     "metadata": {},
     "output_type": "execute_result"
    }
   ],
   "source": [
    "import random\n",
    "random.seed(153)\n",
    "numbers = []\n",
    "for i in range(1, 10):\n",
    "    number = random.randint(0, 100)\n",
    "    numbers.append(number)\n",
    "numbers"
   ]
  },
  {
   "cell_type": "code",
   "execution_count": 86,
   "metadata": {},
   "outputs": [
    {
     "data": {
      "text/plain": [
       "[62, 4, 90, 74, 72, 76]"
      ]
     },
     "execution_count": 86,
     "metadata": {},
     "output_type": "execute_result"
    }
   ],
   "source": [
    "x = [s for s in numbers if s % 2 == 0]\n",
    "x"
   ]
  },
  {
   "cell_type": "markdown",
   "metadata": {},
   "source": [
    "##### 5.2 Filter  함수를 이용한 프로그램"
   ]
  },
  {
   "cell_type": "code",
   "execution_count": 89,
   "metadata": {},
   "outputs": [
    {
     "data": {
      "text/plain": [
       "[62, 4, 90, 74, 72, 76]"
      ]
     },
     "execution_count": 89,
     "metadata": {},
     "output_type": "execute_result"
    }
   ],
   "source": [
    "x = list(filter(lambda a : a%2==0, numbers))\n",
    "x"
   ]
  },
  {
   "cell_type": "markdown",
   "metadata": {},
   "source": [
    "### 문제 6.\n",
    "\n",
    "아래의 프로그램의 출력이 의미하는 것은 무엇인지, 다시 말하면 x에 대해서 어떤 연산을 한 것인지, 설명하라.\n",
    "\n",
    "```\n",
    "import numpy as np\n",
    "np.random.seed(1)\n",
    "x = np.random.randint(0, 101, (5, 6))\n",
    "print(np.sum(x % 2 == 0, axis=0))\n",
    "```"
   ]
  },
  {
   "cell_type": "code",
   "execution_count": 4,
   "metadata": {},
   "outputs": [
    {
     "name": "stdout",
     "output_type": "stream",
     "text": [
      "[[37 12 72  9 75  5]\n",
      " [79 64 16  1 76 71]\n",
      " [ 6 25 50 20 18 84]\n",
      " [11 28 29 14 50 68]\n",
      " [87 87 94 96 86 13]]\n",
      "[[False  True  True False False False]\n",
      " [False  True  True False  True False]\n",
      " [ True False  True  True  True  True]\n",
      " [False  True False  True  True  True]\n",
      " [False False  True  True  True False]]\n",
      "[1 3 4 3 4 2]\n"
     ]
    }
   ],
   "source": [
    "import numpy as np\n",
    "np.random.seed(1)\n",
    "x = np.random.randint(0, 101, (5, 6))\n",
    "print(x)\n",
    "print(x % 2 == 0)\n",
    "print(np.sum(x % 2 == 0, axis=0))"
   ]
  },
  {
   "cell_type": "markdown",
   "metadata": {},
   "source": [
    "**문제 6 답 :** x % 2 == 0 즉 x배열에 % 2를 연산 한 후 (홀수만 1이 남음)  \n",
    "axis=0 즉 세로축으로 sum연산은 한 결과이다  \n",
    "즉 출력된 리스트는 column방향으로 1이 몇개가 있는지 출력한 것이다 "
   ]
  },
  {
   "cell_type": "markdown",
   "metadata": {},
   "source": [
    "### 문제 7.\n",
    "\n",
    "아래 두 줄을 실행하면,  Pandas DataFrame 객체인 iris.data와 Pandas Series인 iris.target, 그리고 target 0, 1, 2의 이름인 irsi.target_names를 얻을 수 있다.\n",
    "\n",
    "```\n",
    "from sklearn import datasets\n",
    "iris = datasets.load_iris(as_frame=True)\n",
    "```\n",
    "이 데이터 셋에서 세 종의 iris의 sepal length, sepal width, petal length, petal width의 평균을 각각 구해서 다음과 같은 그래프를 그려라.\n",
    "그래프는 최대한 비슷하게 그려야 한다.\n",
    "<img src='iris-features.png'>"
   ]
  },
  {
   "cell_type": "code",
   "execution_count": 19,
   "metadata": {},
   "outputs": [
    {
     "data": {
      "text/html": [
       "<div>\n",
       "<style scoped>\n",
       "    .dataframe tbody tr th:only-of-type {\n",
       "        vertical-align: middle;\n",
       "    }\n",
       "\n",
       "    .dataframe tbody tr th {\n",
       "        vertical-align: top;\n",
       "    }\n",
       "\n",
       "    .dataframe thead th {\n",
       "        text-align: right;\n",
       "    }\n",
       "</style>\n",
       "<table border=\"1\" class=\"dataframe\">\n",
       "  <thead>\n",
       "    <tr style=\"text-align: right;\">\n",
       "      <th></th>\n",
       "      <th>sepal length (cm)</th>\n",
       "      <th>sepal width (cm)</th>\n",
       "      <th>petal length (cm)</th>\n",
       "      <th>petal width (cm)</th>\n",
       "    </tr>\n",
       "  </thead>\n",
       "  <tbody>\n",
       "    <tr>\n",
       "      <th>0</th>\n",
       "      <td>5.1</td>\n",
       "      <td>3.5</td>\n",
       "      <td>1.4</td>\n",
       "      <td>0.2</td>\n",
       "    </tr>\n",
       "    <tr>\n",
       "      <th>1</th>\n",
       "      <td>4.9</td>\n",
       "      <td>3.0</td>\n",
       "      <td>1.4</td>\n",
       "      <td>0.2</td>\n",
       "    </tr>\n",
       "    <tr>\n",
       "      <th>2</th>\n",
       "      <td>4.7</td>\n",
       "      <td>3.2</td>\n",
       "      <td>1.3</td>\n",
       "      <td>0.2</td>\n",
       "    </tr>\n",
       "    <tr>\n",
       "      <th>3</th>\n",
       "      <td>4.6</td>\n",
       "      <td>3.1</td>\n",
       "      <td>1.5</td>\n",
       "      <td>0.2</td>\n",
       "    </tr>\n",
       "    <tr>\n",
       "      <th>4</th>\n",
       "      <td>5.0</td>\n",
       "      <td>3.6</td>\n",
       "      <td>1.4</td>\n",
       "      <td>0.2</td>\n",
       "    </tr>\n",
       "    <tr>\n",
       "      <th>...</th>\n",
       "      <td>...</td>\n",
       "      <td>...</td>\n",
       "      <td>...</td>\n",
       "      <td>...</td>\n",
       "    </tr>\n",
       "    <tr>\n",
       "      <th>145</th>\n",
       "      <td>6.7</td>\n",
       "      <td>3.0</td>\n",
       "      <td>5.2</td>\n",
       "      <td>2.3</td>\n",
       "    </tr>\n",
       "    <tr>\n",
       "      <th>146</th>\n",
       "      <td>6.3</td>\n",
       "      <td>2.5</td>\n",
       "      <td>5.0</td>\n",
       "      <td>1.9</td>\n",
       "    </tr>\n",
       "    <tr>\n",
       "      <th>147</th>\n",
       "      <td>6.5</td>\n",
       "      <td>3.0</td>\n",
       "      <td>5.2</td>\n",
       "      <td>2.0</td>\n",
       "    </tr>\n",
       "    <tr>\n",
       "      <th>148</th>\n",
       "      <td>6.2</td>\n",
       "      <td>3.4</td>\n",
       "      <td>5.4</td>\n",
       "      <td>2.3</td>\n",
       "    </tr>\n",
       "    <tr>\n",
       "      <th>149</th>\n",
       "      <td>5.9</td>\n",
       "      <td>3.0</td>\n",
       "      <td>5.1</td>\n",
       "      <td>1.8</td>\n",
       "    </tr>\n",
       "  </tbody>\n",
       "</table>\n",
       "<p>150 rows × 4 columns</p>\n",
       "</div>"
      ],
      "text/plain": [
       "     sepal length (cm)  sepal width (cm)  petal length (cm)  petal width (cm)\n",
       "0                  5.1               3.5                1.4               0.2\n",
       "1                  4.9               3.0                1.4               0.2\n",
       "2                  4.7               3.2                1.3               0.2\n",
       "3                  4.6               3.1                1.5               0.2\n",
       "4                  5.0               3.6                1.4               0.2\n",
       "..                 ...               ...                ...               ...\n",
       "145                6.7               3.0                5.2               2.3\n",
       "146                6.3               2.5                5.0               1.9\n",
       "147                6.5               3.0                5.2               2.0\n",
       "148                6.2               3.4                5.4               2.3\n",
       "149                5.9               3.0                5.1               1.8\n",
       "\n",
       "[150 rows x 4 columns]"
      ]
     },
     "execution_count": 19,
     "metadata": {},
     "output_type": "execute_result"
    }
   ],
   "source": [
    "from sklearn import datasets\n",
    "iris = datasets.load_iris(as_frame=True)\n",
    "iris.data"
   ]
  },
  {
   "cell_type": "code",
   "execution_count": 20,
   "metadata": {},
   "outputs": [
    {
     "data": {
      "text/plain": [
       "0      0\n",
       "1      0\n",
       "2      0\n",
       "3      0\n",
       "4      0\n",
       "      ..\n",
       "145    2\n",
       "146    2\n",
       "147    2\n",
       "148    2\n",
       "149    2\n",
       "Name: target, Length: 150, dtype: int64"
      ]
     },
     "execution_count": 20,
     "metadata": {},
     "output_type": "execute_result"
    }
   ],
   "source": [
    "iris.target"
   ]
  },
  {
   "cell_type": "code",
   "execution_count": 21,
   "metadata": {},
   "outputs": [
    {
     "data": {
      "text/plain": [
       "array(['setosa', 'versicolor', 'virginica'], dtype='<U10')"
      ]
     },
     "execution_count": 21,
     "metadata": {},
     "output_type": "execute_result"
    }
   ],
   "source": [
    "iris.target_names"
   ]
  },
  {
   "cell_type": "markdown",
   "metadata": {},
   "source": [
    "**문제 7 답:**"
   ]
  },
  {
   "cell_type": "code",
   "execution_count": null,
   "metadata": {
    "scrolled": true
   },
   "outputs": [],
   "source": [
    "import matplotlib.pyplot as plt\n",
    "from matplotlib import rc\n"
   ]
  },
  {
   "cell_type": "markdown",
   "metadata": {},
   "source": [
    "### 문제 8\n",
    "\n",
    "브로드캐스팅을 이용해서 아래에 있는 두 ndarray 객체 x, y로부터 ndarray 객체 z를 만드는 프로그램을 작성하라.\n",
    "```\n",
    "x: array([0, 1, 2, 3, 4])\n",
    "y: array([0, 1, 2, 3, 4, 5, 6, 7])\n",
    "z: array([[ 0,  0,  0,  0,  0],\n",
    "          [ 0,  1,  2,  3,  4],\n",
    "          [ 0,  2,  4,  6,  8],\n",
    "          [ 0,  3,  6,  9, 12],\n",
    "          [ 0,  4,  8, 12, 16],\n",
    "          [ 0,  5, 10, 15, 20],\n",
    "          [ 0,  6, 12, 18, 24],\n",
    "          [ 0,  7, 14, 21, 28]])\n",
    "```"
   ]
  },
  {
   "cell_type": "markdown",
   "metadata": {},
   "source": [
    "**문제 8 답:** "
   ]
  },
  {
   "cell_type": "code",
   "execution_count": 46,
   "metadata": {
    "scrolled": false
   },
   "outputs": [
    {
     "name": "stdout",
     "output_type": "stream",
     "text": [
      "(5,)\n",
      "(8,)\n",
      "(8, 5)\n"
     ]
    }
   ],
   "source": [
    "x = np.array([0, 1, 2, 3, 4])\n",
    "y = np.array([0, 1, 2, 3, 4, 5, 6, 7])\n",
    "z = np.array([[ 0,  0,  0,  0,  0],\n",
    "          [ 0,  1,  2,  3,  4],\n",
    "          [ 0,  2,  4,  6,  8],\n",
    "          [ 0,  3,  6,  9, 12],\n",
    "          [ 0,  4,  8, 12, 16],\n",
    "          [ 0,  5, 10, 15, 20],\n",
    "          [ 0,  6, 12, 18, 24],\n",
    "          [ 0,  7, 14, 21, 28]])\n",
    "print(x.shape)\n",
    "print(y.shape)\n",
    "print(z.shape)"
   ]
  },
  {
   "cell_type": "code",
   "execution_count": 48,
   "metadata": {
    "scrolled": true
   },
   "outputs": [
    {
     "data": {
      "text/plain": [
       "array([[ 0,  0,  0,  0,  0],\n",
       "       [ 0,  1,  2,  3,  4],\n",
       "       [ 0,  2,  4,  6,  8],\n",
       "       [ 0,  3,  6,  9, 12],\n",
       "       [ 0,  4,  8, 12, 16],\n",
       "       [ 0,  5, 10, 15, 20],\n",
       "       [ 0,  6, 12, 18, 24],\n",
       "       [ 0,  7, 14, 21, 28]])"
      ]
     },
     "execution_count": 48,
     "metadata": {},
     "output_type": "execute_result"
    }
   ],
   "source": [
    "x = x.reshape(1, 5)\n",
    "y = y.reshape(8, 1)\n",
    "x * y"
   ]
  },
  {
   "cell_type": "markdown",
   "metadata": {},
   "source": [
    "### 문제 9.\n",
    "\n",
    "아래와 같은 ndarray를 만드는 프로그램을 작성하라.\n",
    "단, 아래 배열을 직접 리스트로 표현해서 np.array() 함수를 사용하는 방법을 사용하면 안된다.\n",
    "\n",
    "```\n",
    "array([[[  1.,   7.,  13.,  19.,  25.,  31.,  37.],\n",
    "        [ 43.,  49.,  55.,  61.,  67.,  73.,  79.]],\n",
    "\n",
    "       [[ 85.,  91.,  97., 103., 109., 115., 121.],\n",
    "        [127., 133., 139., 145., 151., 157., 163.]],\n",
    "\n",
    "       [[169., 175., 181., 187., 193., 199., 205.],\n",
    "        [211., 217., 223., 229., 235., 241., 247.]]], dtype=float32)\n",
    "```"
   ]
  },
  {
   "cell_type": "markdown",
   "metadata": {},
   "source": [
    "**문제 9 답:**"
   ]
  },
  {
   "cell_type": "code",
   "execution_count": 60,
   "metadata": {
    "scrolled": false
   },
   "outputs": [
    {
     "data": {
      "text/plain": [
       "array([[[  1.,   7.,  13.,  19.,  25.,  31.,  37.],\n",
       "        [ 43.,  49.,  55.,  61.,  67.,  73.,  79.]],\n",
       "\n",
       "       [[ 85.,  91.,  97., 103., 109., 115., 121.],\n",
       "        [127., 133., 139., 145., 151., 157., 163.]],\n",
       "\n",
       "       [[169., 175., 181., 187., 193., 199., 205.],\n",
       "        [211., 217., 223., 229., 235., 241., 247.]]], dtype=float32)"
      ]
     },
     "execution_count": 60,
     "metadata": {},
     "output_type": "execute_result"
    }
   ],
   "source": [
    "arr = np.arange(1, 250, 6, dtype = np.float32) #6칸씩 간격을 벌림\n",
    "arr = arr.reshape(3,2,7)\n",
    "arr"
   ]
  },
  {
   "cell_type": "markdown",
   "metadata": {},
   "source": [
    "### 문제 10.\n",
    "\n",
    "문제와 함께 주어진 파일 'fake_student_records2.csv'에는 가상의 38 명의 학생들의 이름, 학번, 소속, 6 번의 시험 성적이 포함되어 있다.\n",
    "\n",
    "Pandas 패키지를 사용해서 이 csv 파일을 읽어 DataFrame 객체를 만들어라. 단, 각 학생의 index를 csv 파일의 '이름' column으로 지정해야 한다.\n",
    "\n",
    "DataFrame을 구성한 후에, 각 학생들의 6 번의 시험 성적에서 시험 1, 2, 3의 합에서 시험 4, 5, 6의 합을 뺀 결과를 새로운 컬럼 'new'에 추가한 후에, 'new' column을 기준으로 크기 순으로 정렬한 후에 3 학년 학생들의 데이터만을 화면에 표시하라. \n",
    "\n",
    "결과는 다음과 같아야 한다.\n",
    "\n",
    "예를 들어서, 아래 결과의 첫 학생인 이현영 학생의 경우 new column에 있는 -49는 (54+41+57) - (61+69+71) 연산 결과이다.\n",
    "\n",
    "<img src='score_sorting_result.png' width=80% />"
   ]
  },
  {
   "cell_type": "markdown",
   "metadata": {},
   "source": [
    "**문제 10 답**: "
   ]
  },
  {
   "cell_type": "code",
   "execution_count": 101,
   "metadata": {
    "scrolled": true
   },
   "outputs": [
    {
     "data": {
      "text/html": [
       "<div>\n",
       "<style scoped>\n",
       "    .dataframe tbody tr th:only-of-type {\n",
       "        vertical-align: middle;\n",
       "    }\n",
       "\n",
       "    .dataframe tbody tr th {\n",
       "        vertical-align: top;\n",
       "    }\n",
       "\n",
       "    .dataframe thead th {\n",
       "        text-align: right;\n",
       "    }\n",
       "</style>\n",
       "<table border=\"1\" class=\"dataframe\">\n",
       "  <thead>\n",
       "    <tr style=\"text-align: right;\">\n",
       "      <th></th>\n",
       "      <th>Unnamed: 0</th>\n",
       "      <th>학번</th>\n",
       "      <th>소속</th>\n",
       "      <th>학년</th>\n",
       "      <th>시험1</th>\n",
       "      <th>시험2</th>\n",
       "      <th>시험3</th>\n",
       "      <th>시험4</th>\n",
       "      <th>시험5</th>\n",
       "      <th>시험6</th>\n",
       "      <th>new</th>\n",
       "    </tr>\n",
       "    <tr>\n",
       "      <th>이름</th>\n",
       "      <th></th>\n",
       "      <th></th>\n",
       "      <th></th>\n",
       "      <th></th>\n",
       "      <th></th>\n",
       "      <th></th>\n",
       "      <th></th>\n",
       "      <th></th>\n",
       "      <th></th>\n",
       "      <th></th>\n",
       "      <th></th>\n",
       "    </tr>\n",
       "  </thead>\n",
       "  <tbody>\n",
       "    <tr>\n",
       "      <th>이현영</th>\n",
       "      <td>25</td>\n",
       "      <td>20257359</td>\n",
       "      <td>스마트IoT전공</td>\n",
       "      <td>3</td>\n",
       "      <td>54</td>\n",
       "      <td>41</td>\n",
       "      <td>57</td>\n",
       "      <td>61</td>\n",
       "      <td>69</td>\n",
       "      <td>71</td>\n",
       "      <td>-49</td>\n",
       "    </tr>\n",
       "    <tr>\n",
       "      <th>안동범</th>\n",
       "      <td>36</td>\n",
       "      <td>20287476</td>\n",
       "      <td>전자공학과</td>\n",
       "      <td>3</td>\n",
       "      <td>50</td>\n",
       "      <td>51</td>\n",
       "      <td>54</td>\n",
       "      <td>63</td>\n",
       "      <td>62</td>\n",
       "      <td>73</td>\n",
       "      <td>-43</td>\n",
       "    </tr>\n",
       "    <tr>\n",
       "      <th>윤궁기</th>\n",
       "      <td>9</td>\n",
       "      <td>20267389</td>\n",
       "      <td>소프트웨어융합대학</td>\n",
       "      <td>1</td>\n",
       "      <td>43</td>\n",
       "      <td>33</td>\n",
       "      <td>35</td>\n",
       "      <td>35</td>\n",
       "      <td>48</td>\n",
       "      <td>66</td>\n",
       "      <td>-38</td>\n",
       "    </tr>\n",
       "    <tr>\n",
       "      <th>조준혁</th>\n",
       "      <td>0</td>\n",
       "      <td>20257329</td>\n",
       "      <td>일본학과</td>\n",
       "      <td>3</td>\n",
       "      <td>61</td>\n",
       "      <td>46</td>\n",
       "      <td>36</td>\n",
       "      <td>69</td>\n",
       "      <td>44</td>\n",
       "      <td>63</td>\n",
       "      <td>-33</td>\n",
       "    </tr>\n",
       "    <tr>\n",
       "      <th>김동우</th>\n",
       "      <td>7</td>\n",
       "      <td>20267372</td>\n",
       "      <td>소프트웨어융합대학</td>\n",
       "      <td>1</td>\n",
       "      <td>58</td>\n",
       "      <td>42</td>\n",
       "      <td>59</td>\n",
       "      <td>56</td>\n",
       "      <td>63</td>\n",
       "      <td>70</td>\n",
       "      <td>-30</td>\n",
       "    </tr>\n",
       "    <tr>\n",
       "      <th>정여우</th>\n",
       "      <td>20</td>\n",
       "      <td>20327396</td>\n",
       "      <td>스마트IoT전공</td>\n",
       "      <td>2</td>\n",
       "      <td>54</td>\n",
       "      <td>52</td>\n",
       "      <td>49</td>\n",
       "      <td>46</td>\n",
       "      <td>74</td>\n",
       "      <td>63</td>\n",
       "      <td>-28</td>\n",
       "    </tr>\n",
       "    <tr>\n",
       "      <th>함재윤</th>\n",
       "      <td>37</td>\n",
       "      <td>20269404</td>\n",
       "      <td>전자공학과</td>\n",
       "      <td>4</td>\n",
       "      <td>50</td>\n",
       "      <td>49</td>\n",
       "      <td>40</td>\n",
       "      <td>38</td>\n",
       "      <td>61</td>\n",
       "      <td>55</td>\n",
       "      <td>-15</td>\n",
       "    </tr>\n",
       "    <tr>\n",
       "      <th>정수영</th>\n",
       "      <td>14</td>\n",
       "      <td>20287395</td>\n",
       "      <td>빅데이터전공</td>\n",
       "      <td>2</td>\n",
       "      <td>66</td>\n",
       "      <td>44</td>\n",
       "      <td>49</td>\n",
       "      <td>69</td>\n",
       "      <td>55</td>\n",
       "      <td>49</td>\n",
       "      <td>-14</td>\n",
       "    </tr>\n",
       "    <tr>\n",
       "      <th>안승완</th>\n",
       "      <td>26</td>\n",
       "      <td>20317479</td>\n",
       "      <td>빅데이터전공</td>\n",
       "      <td>3</td>\n",
       "      <td>41</td>\n",
       "      <td>45</td>\n",
       "      <td>41</td>\n",
       "      <td>47</td>\n",
       "      <td>49</td>\n",
       "      <td>44</td>\n",
       "      <td>-13</td>\n",
       "    </tr>\n",
       "    <tr>\n",
       "      <th>강준은</th>\n",
       "      <td>21</td>\n",
       "      <td>20327404</td>\n",
       "      <td>빅데이터전공</td>\n",
       "      <td>2</td>\n",
       "      <td>83</td>\n",
       "      <td>72</td>\n",
       "      <td>72</td>\n",
       "      <td>81</td>\n",
       "      <td>73</td>\n",
       "      <td>81</td>\n",
       "      <td>-8</td>\n",
       "    </tr>\n",
       "    <tr>\n",
       "      <th>박현윤</th>\n",
       "      <td>32</td>\n",
       "      <td>20277435</td>\n",
       "      <td>빅데이터전공</td>\n",
       "      <td>3</td>\n",
       "      <td>67</td>\n",
       "      <td>54</td>\n",
       "      <td>50</td>\n",
       "      <td>50</td>\n",
       "      <td>67</td>\n",
       "      <td>61</td>\n",
       "      <td>-7</td>\n",
       "    </tr>\n",
       "    <tr>\n",
       "      <th>김승헌</th>\n",
       "      <td>4</td>\n",
       "      <td>20317424</td>\n",
       "      <td>경영학과</td>\n",
       "      <td>3</td>\n",
       "      <td>83</td>\n",
       "      <td>82</td>\n",
       "      <td>52</td>\n",
       "      <td>74</td>\n",
       "      <td>84</td>\n",
       "      <td>65</td>\n",
       "      <td>-6</td>\n",
       "    </tr>\n",
       "    <tr>\n",
       "      <th>황민훈</th>\n",
       "      <td>35</td>\n",
       "      <td>20279379</td>\n",
       "      <td>전자공학과</td>\n",
       "      <td>2</td>\n",
       "      <td>78</td>\n",
       "      <td>77</td>\n",
       "      <td>58</td>\n",
       "      <td>75</td>\n",
       "      <td>88</td>\n",
       "      <td>56</td>\n",
       "      <td>-6</td>\n",
       "    </tr>\n",
       "    <tr>\n",
       "      <th>송준진</th>\n",
       "      <td>15</td>\n",
       "      <td>20287486</td>\n",
       "      <td>스마트IoT전공</td>\n",
       "      <td>2</td>\n",
       "      <td>97</td>\n",
       "      <td>62</td>\n",
       "      <td>55</td>\n",
       "      <td>84</td>\n",
       "      <td>81</td>\n",
       "      <td>50</td>\n",
       "      <td>-1</td>\n",
       "    </tr>\n",
       "    <tr>\n",
       "      <th>임수은</th>\n",
       "      <td>29</td>\n",
       "      <td>20277497</td>\n",
       "      <td>콘텐츠IT전공</td>\n",
       "      <td>3</td>\n",
       "      <td>97</td>\n",
       "      <td>71</td>\n",
       "      <td>58</td>\n",
       "      <td>74</td>\n",
       "      <td>78</td>\n",
       "      <td>74</td>\n",
       "      <td>0</td>\n",
       "    </tr>\n",
       "    <tr>\n",
       "      <th>이수진</th>\n",
       "      <td>16</td>\n",
       "      <td>20267437</td>\n",
       "      <td>빅데이터전공</td>\n",
       "      <td>2</td>\n",
       "      <td>64</td>\n",
       "      <td>63</td>\n",
       "      <td>60</td>\n",
       "      <td>55</td>\n",
       "      <td>76</td>\n",
       "      <td>55</td>\n",
       "      <td>1</td>\n",
       "    </tr>\n",
       "    <tr>\n",
       "      <th>정은영</th>\n",
       "      <td>2</td>\n",
       "      <td>20297500</td>\n",
       "      <td>경제학과</td>\n",
       "      <td>2</td>\n",
       "      <td>57</td>\n",
       "      <td>60</td>\n",
       "      <td>59</td>\n",
       "      <td>45</td>\n",
       "      <td>57</td>\n",
       "      <td>72</td>\n",
       "      <td>2</td>\n",
       "    </tr>\n",
       "    <tr>\n",
       "      <th>장궁우</th>\n",
       "      <td>19</td>\n",
       "      <td>20307450</td>\n",
       "      <td>스마트IoT전공</td>\n",
       "      <td>2</td>\n",
       "      <td>90</td>\n",
       "      <td>75</td>\n",
       "      <td>52</td>\n",
       "      <td>76</td>\n",
       "      <td>84</td>\n",
       "      <td>53</td>\n",
       "      <td>4</td>\n",
       "    </tr>\n",
       "    <tr>\n",
       "      <th>조지훈</th>\n",
       "      <td>24</td>\n",
       "      <td>20267539</td>\n",
       "      <td>빅데이터전공</td>\n",
       "      <td>3</td>\n",
       "      <td>80</td>\n",
       "      <td>58</td>\n",
       "      <td>51</td>\n",
       "      <td>64</td>\n",
       "      <td>65</td>\n",
       "      <td>56</td>\n",
       "      <td>4</td>\n",
       "    </tr>\n",
       "    <tr>\n",
       "      <th>조동욱</th>\n",
       "      <td>3</td>\n",
       "      <td>20277510</td>\n",
       "      <td>경제학과</td>\n",
       "      <td>3</td>\n",
       "      <td>52</td>\n",
       "      <td>44</td>\n",
       "      <td>56</td>\n",
       "      <td>37</td>\n",
       "      <td>55</td>\n",
       "      <td>55</td>\n",
       "      <td>5</td>\n",
       "    </tr>\n",
       "    <tr>\n",
       "      <th>남소원</th>\n",
       "      <td>28</td>\n",
       "      <td>20295809</td>\n",
       "      <td>빅데이터전공</td>\n",
       "      <td>3</td>\n",
       "      <td>98</td>\n",
       "      <td>61</td>\n",
       "      <td>68</td>\n",
       "      <td>69</td>\n",
       "      <td>72</td>\n",
       "      <td>76</td>\n",
       "      <td>10</td>\n",
       "    </tr>\n",
       "    <tr>\n",
       "      <th>함여성</th>\n",
       "      <td>30</td>\n",
       "      <td>20255757</td>\n",
       "      <td>빅데이터전공</td>\n",
       "      <td>3</td>\n",
       "      <td>69</td>\n",
       "      <td>59</td>\n",
       "      <td>46</td>\n",
       "      <td>53</td>\n",
       "      <td>58</td>\n",
       "      <td>53</td>\n",
       "      <td>10</td>\n",
       "    </tr>\n",
       "    <tr>\n",
       "      <th>윤준찬</th>\n",
       "      <td>31</td>\n",
       "      <td>20297398</td>\n",
       "      <td>빅데이터전공</td>\n",
       "      <td>3</td>\n",
       "      <td>93</td>\n",
       "      <td>60</td>\n",
       "      <td>81</td>\n",
       "      <td>80</td>\n",
       "      <td>75</td>\n",
       "      <td>69</td>\n",
       "      <td>10</td>\n",
       "    </tr>\n",
       "    <tr>\n",
       "      <th>김민훈</th>\n",
       "      <td>6</td>\n",
       "      <td>20317448</td>\n",
       "      <td>의과학융합전공</td>\n",
       "      <td>3</td>\n",
       "      <td>77</td>\n",
       "      <td>72</td>\n",
       "      <td>66</td>\n",
       "      <td>58</td>\n",
       "      <td>70</td>\n",
       "      <td>76</td>\n",
       "      <td>11</td>\n",
       "    </tr>\n",
       "    <tr>\n",
       "      <th>정궁윤</th>\n",
       "      <td>5</td>\n",
       "      <td>20299281</td>\n",
       "      <td>생명과학과</td>\n",
       "      <td>3</td>\n",
       "      <td>96</td>\n",
       "      <td>68</td>\n",
       "      <td>54</td>\n",
       "      <td>68</td>\n",
       "      <td>81</td>\n",
       "      <td>57</td>\n",
       "      <td>12</td>\n",
       "    </tr>\n",
       "    <tr>\n",
       "      <th>김원하</th>\n",
       "      <td>11</td>\n",
       "      <td>20277501</td>\n",
       "      <td>소프트웨어융합대학</td>\n",
       "      <td>1</td>\n",
       "      <td>88</td>\n",
       "      <td>66</td>\n",
       "      <td>58</td>\n",
       "      <td>78</td>\n",
       "      <td>66</td>\n",
       "      <td>55</td>\n",
       "      <td>13</td>\n",
       "    </tr>\n",
       "    <tr>\n",
       "      <th>이중석</th>\n",
       "      <td>1</td>\n",
       "      <td>20287434</td>\n",
       "      <td>심리학과</td>\n",
       "      <td>2</td>\n",
       "      <td>83</td>\n",
       "      <td>69</td>\n",
       "      <td>66</td>\n",
       "      <td>75</td>\n",
       "      <td>69</td>\n",
       "      <td>60</td>\n",
       "      <td>14</td>\n",
       "    </tr>\n",
       "    <tr>\n",
       "      <th>홍현주</th>\n",
       "      <td>12</td>\n",
       "      <td>20297449</td>\n",
       "      <td>소프트웨어융합대학</td>\n",
       "      <td>1</td>\n",
       "      <td>71</td>\n",
       "      <td>60</td>\n",
       "      <td>46</td>\n",
       "      <td>55</td>\n",
       "      <td>52</td>\n",
       "      <td>56</td>\n",
       "      <td>14</td>\n",
       "    </tr>\n",
       "    <tr>\n",
       "      <th>지영범</th>\n",
       "      <td>34</td>\n",
       "      <td>20275082</td>\n",
       "      <td>컴퓨터공학과</td>\n",
       "      <td>2</td>\n",
       "      <td>80</td>\n",
       "      <td>55</td>\n",
       "      <td>67</td>\n",
       "      <td>62</td>\n",
       "      <td>50</td>\n",
       "      <td>76</td>\n",
       "      <td>14</td>\n",
       "    </tr>\n",
       "    <tr>\n",
       "      <th>홍동욱</th>\n",
       "      <td>17</td>\n",
       "      <td>20307389</td>\n",
       "      <td>스마트IoT전공</td>\n",
       "      <td>2</td>\n",
       "      <td>77</td>\n",
       "      <td>51</td>\n",
       "      <td>59</td>\n",
       "      <td>68</td>\n",
       "      <td>49</td>\n",
       "      <td>52</td>\n",
       "      <td>18</td>\n",
       "    </tr>\n",
       "    <tr>\n",
       "      <th>이민주</th>\n",
       "      <td>27</td>\n",
       "      <td>20297567</td>\n",
       "      <td>콘텐츠IT전공</td>\n",
       "      <td>3</td>\n",
       "      <td>68</td>\n",
       "      <td>62</td>\n",
       "      <td>40</td>\n",
       "      <td>54</td>\n",
       "      <td>59</td>\n",
       "      <td>39</td>\n",
       "      <td>18</td>\n",
       "    </tr>\n",
       "    <tr>\n",
       "      <th>김동석</th>\n",
       "      <td>8</td>\n",
       "      <td>20277452</td>\n",
       "      <td>소프트웨어융합대학</td>\n",
       "      <td>1</td>\n",
       "      <td>97</td>\n",
       "      <td>66</td>\n",
       "      <td>64</td>\n",
       "      <td>68</td>\n",
       "      <td>55</td>\n",
       "      <td>83</td>\n",
       "      <td>21</td>\n",
       "    </tr>\n",
       "    <tr>\n",
       "      <th>김수진</th>\n",
       "      <td>33</td>\n",
       "      <td>20317328</td>\n",
       "      <td>ICT융합전공</td>\n",
       "      <td>3</td>\n",
       "      <td>89</td>\n",
       "      <td>68</td>\n",
       "      <td>70</td>\n",
       "      <td>79</td>\n",
       "      <td>57</td>\n",
       "      <td>67</td>\n",
       "      <td>24</td>\n",
       "    </tr>\n",
       "    <tr>\n",
       "      <th>류준은</th>\n",
       "      <td>10</td>\n",
       "      <td>20327362</td>\n",
       "      <td>소프트웨어융합대학</td>\n",
       "      <td>1</td>\n",
       "      <td>97</td>\n",
       "      <td>66</td>\n",
       "      <td>59</td>\n",
       "      <td>79</td>\n",
       "      <td>60</td>\n",
       "      <td>57</td>\n",
       "      <td>26</td>\n",
       "    </tr>\n",
       "    <tr>\n",
       "      <th>홍성윤</th>\n",
       "      <td>22</td>\n",
       "      <td>20257438</td>\n",
       "      <td>빅데이터전공</td>\n",
       "      <td>2</td>\n",
       "      <td>99</td>\n",
       "      <td>69</td>\n",
       "      <td>84</td>\n",
       "      <td>71</td>\n",
       "      <td>61</td>\n",
       "      <td>85</td>\n",
       "      <td>35</td>\n",
       "    </tr>\n",
       "    <tr>\n",
       "      <th>장강훈</th>\n",
       "      <td>13</td>\n",
       "      <td>20277483</td>\n",
       "      <td>소프트웨어융합대학</td>\n",
       "      <td>1</td>\n",
       "      <td>100</td>\n",
       "      <td>68</td>\n",
       "      <td>71</td>\n",
       "      <td>63</td>\n",
       "      <td>66</td>\n",
       "      <td>70</td>\n",
       "      <td>40</td>\n",
       "    </tr>\n",
       "    <tr>\n",
       "      <th>강아윤</th>\n",
       "      <td>23</td>\n",
       "      <td>20305027</td>\n",
       "      <td>빅데이터전공</td>\n",
       "      <td>3</td>\n",
       "      <td>96</td>\n",
       "      <td>89</td>\n",
       "      <td>69</td>\n",
       "      <td>70</td>\n",
       "      <td>72</td>\n",
       "      <td>62</td>\n",
       "      <td>50</td>\n",
       "    </tr>\n",
       "    <tr>\n",
       "      <th>김찬훈</th>\n",
       "      <td>18</td>\n",
       "      <td>20308899</td>\n",
       "      <td>콘텐츠IT전공</td>\n",
       "      <td>2</td>\n",
       "      <td>99</td>\n",
       "      <td>89</td>\n",
       "      <td>73</td>\n",
       "      <td>70</td>\n",
       "      <td>75</td>\n",
       "      <td>66</td>\n",
       "      <td>50</td>\n",
       "    </tr>\n",
       "  </tbody>\n",
       "</table>\n",
       "</div>"
      ],
      "text/plain": [
       "     Unnamed: 0        학번         소속  학년  시험1  시험2  시험3  시험4  시험5  시험6  new\n",
       "이름                                                                         \n",
       "이현영          25  20257359   스마트IoT전공   3   54   41   57   61   69   71  -49\n",
       "안동범          36  20287476      전자공학과   3   50   51   54   63   62   73  -43\n",
       "윤궁기           9  20267389  소프트웨어융합대학   1   43   33   35   35   48   66  -38\n",
       "조준혁           0  20257329       일본학과   3   61   46   36   69   44   63  -33\n",
       "김동우           7  20267372  소프트웨어융합대학   1   58   42   59   56   63   70  -30\n",
       "정여우          20  20327396   스마트IoT전공   2   54   52   49   46   74   63  -28\n",
       "함재윤          37  20269404      전자공학과   4   50   49   40   38   61   55  -15\n",
       "정수영          14  20287395     빅데이터전공   2   66   44   49   69   55   49  -14\n",
       "안승완          26  20317479     빅데이터전공   3   41   45   41   47   49   44  -13\n",
       "강준은          21  20327404     빅데이터전공   2   83   72   72   81   73   81   -8\n",
       "박현윤          32  20277435     빅데이터전공   3   67   54   50   50   67   61   -7\n",
       "김승헌           4  20317424       경영학과   3   83   82   52   74   84   65   -6\n",
       "황민훈          35  20279379      전자공학과   2   78   77   58   75   88   56   -6\n",
       "송준진          15  20287486   스마트IoT전공   2   97   62   55   84   81   50   -1\n",
       "임수은          29  20277497    콘텐츠IT전공   3   97   71   58   74   78   74    0\n",
       "이수진          16  20267437     빅데이터전공   2   64   63   60   55   76   55    1\n",
       "정은영           2  20297500       경제학과   2   57   60   59   45   57   72    2\n",
       "장궁우          19  20307450   스마트IoT전공   2   90   75   52   76   84   53    4\n",
       "조지훈          24  20267539     빅데이터전공   3   80   58   51   64   65   56    4\n",
       "조동욱           3  20277510       경제학과   3   52   44   56   37   55   55    5\n",
       "남소원          28  20295809     빅데이터전공   3   98   61   68   69   72   76   10\n",
       "함여성          30  20255757     빅데이터전공   3   69   59   46   53   58   53   10\n",
       "윤준찬          31  20297398     빅데이터전공   3   93   60   81   80   75   69   10\n",
       "김민훈           6  20317448    의과학융합전공   3   77   72   66   58   70   76   11\n",
       "정궁윤           5  20299281      생명과학과   3   96   68   54   68   81   57   12\n",
       "김원하          11  20277501  소프트웨어융합대학   1   88   66   58   78   66   55   13\n",
       "이중석           1  20287434       심리학과   2   83   69   66   75   69   60   14\n",
       "홍현주          12  20297449  소프트웨어융합대학   1   71   60   46   55   52   56   14\n",
       "지영범          34  20275082     컴퓨터공학과   2   80   55   67   62   50   76   14\n",
       "홍동욱          17  20307389   스마트IoT전공   2   77   51   59   68   49   52   18\n",
       "이민주          27  20297567    콘텐츠IT전공   3   68   62   40   54   59   39   18\n",
       "김동석           8  20277452  소프트웨어융합대학   1   97   66   64   68   55   83   21\n",
       "김수진          33  20317328    ICT융합전공   3   89   68   70   79   57   67   24\n",
       "류준은          10  20327362  소프트웨어융합대학   1   97   66   59   79   60   57   26\n",
       "홍성윤          22  20257438     빅데이터전공   2   99   69   84   71   61   85   35\n",
       "장강훈          13  20277483  소프트웨어융합대학   1  100   68   71   63   66   70   40\n",
       "강아윤          23  20305027     빅데이터전공   3   96   89   69   70   72   62   50\n",
       "김찬훈          18  20308899    콘텐츠IT전공   2   99   89   73   70   75   66   50"
      ]
     },
     "execution_count": 101,
     "metadata": {},
     "output_type": "execute_result"
    }
   ],
   "source": [
    "import numpy as np\n",
    "import pandas as pd\n",
    "\n",
    "scores = pd.read_csv('fake_student_records_2.csv')\n",
    "scores.set_index('이름', inplace=True)\n",
    "scores[\"new\"] = scores[\"시험1\"] + scores[\"시험2\"] + scores[\"시험3\"]\n",
    "scores[\"new\"] = scores[\"new\"] - (scores[\"시험4\"] + scores[\"시험5\"] + scores[\"시험6\"])\n",
    "scores.sort_values(by=\"new\", ascending=True, inplace=True)\n",
    "scores"
   ]
  },
  {
   "cell_type": "markdown",
   "metadata": {},
   "source": [
    "### 문제 11.\n",
    "\n",
    "아래 프로그램을 실행하면 화면에 두 개의 영상이 나타난다. 왼쪽 영상은 바깥에서 안쪽으로 정사각형의 크기가 작아지면서 밝기가 밝아지는 것을 볼 수 있다. 왼쪽의 영상의 모든 화소에 50을 더해서 영상의 밝기를 전체적으로 증가시킨 것이 오른쪽 영상이다. 이 프로그램에 어떤 문제가 있는지 설명하라.\n"
   ]
  },
  {
   "cell_type": "code",
   "execution_count": 61,
   "metadata": {},
   "outputs": [
    {
     "data": {
      "text/plain": [
       "<matplotlib.image.AxesImage at 0x7fb06ae28df0>"
      ]
     },
     "execution_count": 61,
     "metadata": {},
     "output_type": "execute_result"
    },
    {
     "data": {
      "image/png": "[encoded data removed]",
      "text/plain": [
       "<Figure size 432x288 with 2 Axes>"
      ]
     },
     "metadata": {
      "needs_background": "light"
     },
     "output_type": "display_data"
    }
   ],
   "source": [
    "import matplotlib.pyplot as plt\n",
    "import numpy as np\n",
    "img = np.zeros((200, 200), 'uint8')\n",
    "img[25:175, 25:175] = 75\n",
    "img[50:150, 50:150] = 150\n",
    "img[75:125, 75:125] = 225\n",
    "plt.subplot(121)\n",
    "plt.imshow(img, cmap='gray')\n",
    "plt.subplot(122)\n",
    "img = img + 50\n",
    "plt.imshow(img, cmap='gray')"
   ]
  },
  {
   "cell_type": "markdown",
   "metadata": {},
   "source": [
    "**문제 11 답 :** 색깔을 rgb로 표현하였는데 이때 r = 255, g = 255, b = 255 일때 하얀색을 나타내게 된다  \n",
    "이때 255에 50을 더하게 되면  305가 되는데 이때 위에 코드에서는 별다른 처리가 없기 때문에 오버플로우가 발생하게 된다  \n",
    "때문에 하얀색이 아닌 검은색이 나타나게 된다"
   ]
  }
 ],
 "metadata": {
  "kernelspec": {
   "display_name": "Python 3",
   "language": "python",
   "name": "python3"
  },
  "language_info": {
   "codemirror_mode": {
    "name": "ipython",
    "version": 3
   },
   "file_extension": ".py",
   "mimetype": "text/x-python",
   "name": "python",
   "nbconvert_exporter": "python",
   "pygments_lexer": "ipython3",
   "version": "3.8.5"
  },
  "latex_envs": {
   "LaTeX_envs_menu_present": true,
   "autoclose": false,
   "autocomplete": true,
   "bibliofile": "biblio.bib",
   "cite_by": "apalike",
   "current_citInitial": 1,
   "eqLabelWithNumbers": true,
   "eqNumInitial": 1,
   "hotkeys": {
    "equation": "Ctrl-E",
    "itemize": "Ctrl-I"
   },
   "labels_anchors": false,
   "latex_user_defs": false,
   "report_style_numbering": false,
   "user_envs_cfg": false
  },
  "toc": {
   "base_numbering": 1,
   "nav_menu": {},
   "number_sections": false,
   "sideBar": true,
   "skip_h1_title": false,
   "title_cell": "Table of Contents",
   "title_sidebar": "Contents",
   "toc_cell": false,
   "toc_position": {
    "height": "calc(100% - 180px)",
    "left": "10px",
    "top": "150px",
    "width": "270.5px"
   },
   "toc_section_display": true,
   "toc_window_display": false
  }
 },
 "nbformat": 4,
 "nbformat_minor": 2
}
